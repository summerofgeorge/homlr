{
 "cells": [
  {
   "cell_type": "code",
   "execution_count": 1,
   "metadata": {},
   "outputs": [
    {
     "name": "stderr",
     "output_type": "stream",
     "text": [
      "-- \u001b[1mAttaching packages\u001b[22m --------------------------------------- tidyverse 1.3.0 --\n",
      "\n",
      "\u001b[32mv\u001b[39m \u001b[34mggplot2\u001b[39m 3.3.2     \u001b[32mv\u001b[39m \u001b[34mpurrr  \u001b[39m 0.3.4\n",
      "\u001b[32mv\u001b[39m \u001b[34mtibble \u001b[39m 3.0.4     \u001b[32mv\u001b[39m \u001b[34mdplyr  \u001b[39m 1.0.2\n",
      "\u001b[32mv\u001b[39m \u001b[34mtidyr  \u001b[39m 1.1.2     \u001b[32mv\u001b[39m \u001b[34mstringr\u001b[39m 1.4.0\n",
      "\u001b[32mv\u001b[39m \u001b[34mreadr  \u001b[39m 1.3.1     \u001b[32mv\u001b[39m \u001b[34mforcats\u001b[39m 0.5.0\n",
      "\n",
      "Warning message:\n",
      "\"package 'tibble' was built under R version 4.0.3\"\n",
      "-- \u001b[1mConflicts\u001b[22m ------------------------------------------ tidyverse_conflicts() --\n",
      "\u001b[31mx\u001b[39m \u001b[34mdplyr\u001b[39m::\u001b[32mfilter()\u001b[39m masks \u001b[34mstats\u001b[39m::filter()\n",
      "\u001b[31mx\u001b[39m \u001b[34mdplyr\u001b[39m::\u001b[32mlag()\u001b[39m    masks \u001b[34mstats\u001b[39m::lag()\n",
      "\n",
      "Warning message:\n",
      "\"package 'caret' was built under R version 4.0.3\"\n",
      "Loading required package: lattice\n",
      "\n",
      "\n",
      "Attaching package: 'caret'\n",
      "\n",
      "\n",
      "The following object is masked from 'package:purrr':\n",
      "\n",
      "    lift\n",
      "\n",
      "\n",
      "Warning message:\n",
      "\"package 'vip' was built under R version 4.0.3\"\n",
      "\n",
      "Attaching package: 'vip'\n",
      "\n",
      "\n",
      "The following object is masked from 'package:utils':\n",
      "\n",
      "    vi\n",
      "\n",
      "\n",
      "Warning message:\n",
      "\"package 'rsample' was built under R version 4.0.3\"\n"
     ]
    }
   ],
   "source": [
    "# Helper packages\n",
    "library(tidyverse)\n",
    "# Modeling packages\n",
    "library(caret) # for cross-validation, etc.\n",
    "# Model interpretability packages\n",
    "library(vip) # variable importance\n",
    "\n",
    "library(rsample)"
   ]
  },
  {
   "cell_type": "code",
   "execution_count": 2,
   "metadata": {},
   "outputs": [
    {
     "name": "stderr",
     "output_type": "stream",
     "text": [
      "Parsed with column specification:\n",
      "cols(\n",
      "  .default = col_character(),\n",
      "  Lot_Frontage = \u001b[32mcol_double()\u001b[39m,\n",
      "  Lot_Area = \u001b[32mcol_double()\u001b[39m,\n",
      "  Year_Built = \u001b[32mcol_double()\u001b[39m,\n",
      "  Year_Remod_Add = \u001b[32mcol_double()\u001b[39m,\n",
      "  Mas_Vnr_Area = \u001b[32mcol_double()\u001b[39m,\n",
      "  BsmtFin_SF_1 = \u001b[32mcol_double()\u001b[39m,\n",
      "  BsmtFin_SF_2 = \u001b[32mcol_double()\u001b[39m,\n",
      "  Bsmt_Unf_SF = \u001b[32mcol_double()\u001b[39m,\n",
      "  Total_Bsmt_SF = \u001b[32mcol_double()\u001b[39m,\n",
      "  First_Flr_SF = \u001b[32mcol_double()\u001b[39m,\n",
      "  Second_Flr_SF = \u001b[32mcol_double()\u001b[39m,\n",
      "  Low_Qual_Fin_SF = \u001b[32mcol_double()\u001b[39m,\n",
      "  Gr_Liv_Area = \u001b[32mcol_double()\u001b[39m,\n",
      "  Bsmt_Full_Bath = \u001b[32mcol_double()\u001b[39m,\n",
      "  Bsmt_Half_Bath = \u001b[32mcol_double()\u001b[39m,\n",
      "  Full_Bath = \u001b[32mcol_double()\u001b[39m,\n",
      "  Half_Bath = \u001b[32mcol_double()\u001b[39m,\n",
      "  Bedroom_AbvGr = \u001b[32mcol_double()\u001b[39m,\n",
      "  Kitchen_AbvGr = \u001b[32mcol_double()\u001b[39m,\n",
      "  TotRms_AbvGrd = \u001b[32mcol_double()\u001b[39m\n",
      "  # ... with 15 more columns\n",
      ")\n",
      "\n",
      "See spec(...) for full column specifications.\n",
      "\n"
     ]
    }
   ],
   "source": [
    "ames <- read_csv('data/ames.csv')\n",
    "set.seed(123)\n",
    "split <- initial_split(ames, prop = 0.7,\n",
    "strata = \"Sale_Price\")\n",
    "ames_train <- training(split)\n",
    "ames_test <- testing(split)"
   ]
  },
  {
   "cell_type": "code",
   "execution_count": 3,
   "metadata": {},
   "outputs": [],
   "source": [
    "# Simple linear regression\n",
    "model1 <- lm(Sale_Price ~ Gr_Liv_Area, data = ames_train)"
   ]
  },
  {
   "cell_type": "code",
   "execution_count": 4,
   "metadata": {},
   "outputs": [
    {
     "data": {
      "text/plain": [
       "\n",
       "Call:\n",
       "lm(formula = Sale_Price ~ Gr_Liv_Area, data = ames_train)\n",
       "\n",
       "Residuals:\n",
       "    Min      1Q  Median      3Q     Max \n",
       "-361143  -30668   -2449   22838  331357 \n",
       "\n",
       "Coefficients:\n",
       "            Estimate Std. Error t value Pr(>|t|)    \n",
       "(Intercept) 8732.938   3996.613   2.185    0.029 *  \n",
       "Gr_Liv_Area  114.876      2.531  45.385   <2e-16 ***\n",
       "---\n",
       "Signif. codes:  0 '***' 0.001 '**' 0.01 '*' 0.05 '.' 0.1 ' ' 1\n",
       "\n",
       "Residual standard error: 56700 on 2051 degrees of freedom\n",
       "Multiple R-squared:  0.5011,\tAdjusted R-squared:  0.5008 \n",
       "F-statistic:  2060 on 1 and 2051 DF,  p-value: < 2.2e-16\n"
      ]
     },
     "metadata": {},
     "output_type": "display_data"
    }
   ],
   "source": [
    "summary(model1)"
   ]
  },
  {
   "cell_type": "code",
   "execution_count": 5,
   "metadata": {},
   "outputs": [
    {
     "data": {
      "text/html": [
       "56704.7826010189"
      ],
      "text/latex": [
       "56704.7826010189"
      ],
      "text/markdown": [
       "56704.7826010189"
      ],
      "text/plain": [
       "[1] 56704.78"
      ]
     },
     "metadata": {},
     "output_type": "display_data"
    },
    {
     "data": {
      "text/html": [
       "3215432369.82881"
      ],
      "text/latex": [
       "3215432369.82881"
      ],
      "text/markdown": [
       "3215432369.82881"
      ],
      "text/plain": [
       "[1] 3215432370"
      ]
     },
     "metadata": {},
     "output_type": "display_data"
    }
   ],
   "source": [
    "# Get the error metrics\n",
    "\n",
    "sigma(model1) # RMSE\n",
    "sigma(model1)^2 # MSE"
   ]
  },
  {
   "cell_type": "code",
   "execution_count": 6,
   "metadata": {},
   "outputs": [
    {
     "data": {
      "text/html": [
       "<table>\n",
       "<caption>A matrix: 2 × 2 of type dbl</caption>\n",
       "<thead>\n",
       "\t<tr><th></th><th scope=col>2.5 %</th><th scope=col>97.5 %</th></tr>\n",
       "</thead>\n",
       "<tbody>\n",
       "\t<tr><th scope=row>(Intercept)</th><td>895.0961</td><td>16570.7805</td></tr>\n",
       "\t<tr><th scope=row>Gr_Liv_Area</th><td>109.9121</td><td>  119.8399</td></tr>\n",
       "</tbody>\n",
       "</table>\n"
      ],
      "text/latex": [
       "A matrix: 2 × 2 of type dbl\n",
       "\\begin{tabular}{r|ll}\n",
       "  & 2.5 \\% & 97.5 \\%\\\\\n",
       "\\hline\n",
       "\t(Intercept) & 895.0961 & 16570.7805\\\\\n",
       "\tGr\\_Liv\\_Area & 109.9121 &   119.8399\\\\\n",
       "\\end{tabular}\n"
      ],
      "text/markdown": [
       "\n",
       "A matrix: 2 × 2 of type dbl\n",
       "\n",
       "| <!--/--> | 2.5 % | 97.5 % |\n",
       "|---|---|---|\n",
       "| (Intercept) | 895.0961 | 16570.7805 |\n",
       "| Gr_Liv_Area | 109.9121 |   119.8399 |\n",
       "\n"
      ],
      "text/plain": [
       "            2.5 %    97.5 %    \n",
       "(Intercept) 895.0961 16570.7805\n",
       "Gr_Liv_Area 109.9121   119.8399"
      ]
     },
     "metadata": {},
     "output_type": "display_data"
    }
   ],
   "source": [
    "confint(model1, level = 0.95)"
   ]
  },
  {
   "cell_type": "code",
   "execution_count": 7,
   "metadata": {},
   "outputs": [
    {
     "data": {
      "text/plain": [
       "\n",
       "Call:\n",
       "lm(formula = Sale_Price ~ Gr_Liv_Area + Year_Built, data = ames_train)\n",
       "\n",
       "Coefficients:\n",
       "(Intercept)  Gr_Liv_Area   Year_Built  \n",
       " -2.123e+06    9.918e+01    1.093e+03  \n"
      ]
     },
     "metadata": {},
     "output_type": "display_data"
    }
   ],
   "source": [
    "(model2 <- lm(Sale_Price ~ Gr_Liv_Area + Year_Built,\n",
    "data = ames_train))"
   ]
  },
  {
   "cell_type": "markdown",
   "metadata": {},
   "source": [
    "Alternatively, we can use update() to update the model formula used in model1.\n",
    "The new formula can use a . as shorthand for keep everything on either the left\n",
    "or right hand side of the formula, and a + or - can be used to add or remove\n",
    "terms from the original model, respectively. In the case of adding Year_Built\n",
    "to model1, we could’ve used:"
   ]
  },
  {
   "cell_type": "code",
   "execution_count": 8,
   "metadata": {},
   "outputs": [
    {
     "data": {
      "text/plain": [
       "\n",
       "Call:\n",
       "lm(formula = Sale_Price ~ Gr_Liv_Area + Year_Built, data = ames_train)\n",
       "\n",
       "Coefficients:\n",
       "(Intercept)  Gr_Liv_Area   Year_Built  \n",
       " -2.123e+06    9.918e+01    1.093e+03  \n"
      ]
     },
     "metadata": {},
     "output_type": "display_data"
    }
   ],
   "source": [
    "(model2 <- update(model1, . ~ . + Year_Built))"
   ]
  },
  {
   "cell_type": "code",
   "execution_count": 9,
   "metadata": {},
   "outputs": [
    {
     "data": {
      "text/plain": [
       "\n",
       "Call:\n",
       "lm(formula = Sale_Price ~ Gr_Liv_Area + Year_Built + Gr_Liv_Area:Year_Built, \n",
       "    data = ames_train)\n",
       "\n",
       "Coefficients:\n",
       "           (Intercept)             Gr_Liv_Area              Year_Built  \n",
       "             3.822e+05              -1.484e+03              -1.798e+02  \n",
       "Gr_Liv_Area:Year_Built  \n",
       "             8.037e-01  \n"
      ]
     },
     "metadata": {},
     "output_type": "display_data"
    }
   ],
   "source": [
    "# Interaction effect\n",
    "\n",
    "lm(Sale_Price ~ Gr_Liv_Area + Year_Built + Gr_Liv_Area:Year_Built,\n",
    "data = ames_train)"
   ]
  },
  {
   "cell_type": "code",
   "execution_count": 10,
   "metadata": {},
   "outputs": [
    {
     "data": {
      "text/html": [
       "<table>\n",
       "<caption>A tibble: 292 × 5</caption>\n",
       "<thead>\n",
       "\t<tr><th scope=col>term</th><th scope=col>estimate</th><th scope=col>std.error</th><th scope=col>statistic</th><th scope=col>p.value</th></tr>\n",
       "\t<tr><th scope=col>&lt;chr&gt;</th><th scope=col>&lt;dbl&gt;</th><th scope=col>&lt;dbl&gt;</th><th scope=col>&lt;dbl&gt;</th><th scope=col>&lt;dbl&gt;</th></tr>\n",
       "</thead>\n",
       "<tbody>\n",
       "\t<tr><td>(Intercept)                                         </td><td>-5.568742e+06</td><td>1.126581e+07</td><td>-0.49430462</td><td>6.211524e-01</td></tr>\n",
       "\t<tr><td>MS_SubClassOne_and_Half_Story_Finished_All_Ages     </td><td> 2.324504e+04</td><td>2.264266e+04</td><td> 1.02660378</td><td>3.047473e-01</td></tr>\n",
       "\t<tr><td>MS_SubClassOne_and_Half_Story_PUD_All_Ages          </td><td>-3.241401e+04</td><td>3.396294e+04</td><td>-0.95439336</td><td>3.400149e-01</td></tr>\n",
       "\t<tr><td>MS_SubClassOne_and_Half_Story_Unfinished_All_Ages   </td><td> 2.786651e+04</td><td>2.546144e+04</td><td> 1.09445927</td><td>2.739025e-01</td></tr>\n",
       "\t<tr><td>MS_SubClassOne_Story_1945_and_Older                 </td><td> 2.269374e+04</td><td>2.195002e+04</td><td> 1.03388251</td><td>3.013323e-01</td></tr>\n",
       "\t<tr><td>MS_SubClassOne_Story_1946_and_Newer_All_Styles      </td><td> 1.913570e+04</td><td>2.140583e+04</td><td> 0.89394815</td><td>3.714712e-01</td></tr>\n",
       "\t<tr><td>MS_SubClassOne_Story_PUD_1946_and_Newer             </td><td>-2.946682e+02</td><td>2.342477e+04</td><td>-0.01257934</td><td>9.899648e-01</td></tr>\n",
       "\t<tr><td>MS_SubClassOne_Story_with_Finished_Attic_All_Ages   </td><td> 3.192860e+04</td><td>2.505330e+04</td><td> 1.27442666</td><td>2.026795e-01</td></tr>\n",
       "\t<tr><td>MS_SubClassPUD_Multilevel_Split_Level_Foyer         </td><td>-5.851970e+03</td><td>2.480425e+04</td><td>-0.23592614</td><td>8.135173e-01</td></tr>\n",
       "\t<tr><td>MS_SubClassSplit_Foyer                              </td><td> 1.474431e+04</td><td>2.262602e+04</td><td> 0.65165293</td><td>5.147097e-01</td></tr>\n",
       "\t<tr><td>MS_SubClassSplit_or_Multilevel                      </td><td> 7.685574e+03</td><td>2.330759e+04</td><td> 0.32974557</td><td>7.416312e-01</td></tr>\n",
       "\t<tr><td>MS_SubClassTwo_and_Half_Story_All_Ages              </td><td> 5.207673e+03</td><td>2.538178e+04</td><td> 0.20517366</td><td>8.374600e-01</td></tr>\n",
       "\t<tr><td>MS_SubClassTwo_Family_conversion_All_Styles_and_Ages</td><td> 7.532287e+03</td><td>6.321403e+03</td><td> 1.19155306</td><td>2.335963e-01</td></tr>\n",
       "\t<tr><td>MS_SubClassTwo_Story_1945_and_Older                 </td><td> 2.627724e+04</td><td>2.257026e+04</td><td> 1.16424178</td><td>2.444829e-01</td></tr>\n",
       "\t<tr><td>MS_SubClassTwo_Story_1946_and_Newer                 </td><td> 1.804256e+04</td><td>2.186979e+04</td><td> 0.82499934</td><td>4.094831e-01</td></tr>\n",
       "\t<tr><td>MS_SubClassTwo_Story_PUD_1946_and_Newer             </td><td>-3.749707e+03</td><td>2.393155e+04</td><td>-0.15668468</td><td>8.755112e-01</td></tr>\n",
       "\t<tr><td>MS_ZoningC_all                                      </td><td>-2.528291e+04</td><td>4.866340e+04</td><td>-0.51954674</td><td>6.034445e-01</td></tr>\n",
       "\t<tr><td>MS_ZoningFloating_Village_Residential               </td><td>-1.295797e+04</td><td>4.801041e+04</td><td>-0.26989912</td><td>7.872693e-01</td></tr>\n",
       "\t<tr><td>MS_ZoningI_all                                      </td><td>-7.840755e+03</td><td>5.517626e+04</td><td>-0.14210379</td><td>8.870142e-01</td></tr>\n",
       "\t<tr><td>MS_ZoningResidential_High_Density                   </td><td>-1.189714e+04</td><td>4.876806e+04</td><td>-0.24395350</td><td>8.072951e-01</td></tr>\n",
       "\t<tr><td>MS_ZoningResidential_Low_Density                    </td><td>-1.257261e+04</td><td>4.781281e+04</td><td>-0.26295494</td><td>7.926159e-01</td></tr>\n",
       "\t<tr><td>MS_ZoningResidential_Medium_Density                 </td><td>-1.643270e+04</td><td>4.816401e+04</td><td>-0.34118203</td><td>7.330070e-01</td></tr>\n",
       "\t<tr><td>Lot_Frontage                                        </td><td>-2.160345e+00</td><td>1.838330e+01</td><td>-0.11751669</td><td>9.064640e-01</td></tr>\n",
       "\t<tr><td>Lot_Area                                            </td><td> 4.640662e-01</td><td>1.012577e-01</td><td> 4.58302192</td><td>4.903666e-06</td></tr>\n",
       "\t<tr><td>StreetPave                                          </td><td> 5.340140e+03</td><td>1.032723e+04</td><td> 0.51709328</td><td>6.051557e-01</td></tr>\n",
       "\t<tr><td>AlleyNo_Alley_Access                                </td><td> 4.476049e+02</td><td>3.120371e+03</td><td> 0.14344606</td><td>8.859542e-01</td></tr>\n",
       "\t<tr><td>AlleyPaved                                          </td><td> 2.646030e+03</td><td>5.112972e+03</td><td> 0.51751305</td><td>6.048627e-01</td></tr>\n",
       "\t<tr><td>Lot_ShapeModerately_Irregular                       </td><td>-1.611070e+03</td><td>7.454193e+03</td><td>-0.21612937</td><td>8.289118e-01</td></tr>\n",
       "\t<tr><td>Lot_ShapeRegular                                    </td><td>-6.755599e+03</td><td>7.055944e+03</td><td>-0.95743378</td><td>3.384791e-01</td></tr>\n",
       "\t<tr><td>Lot_ShapeSlightly_Irregular                         </td><td>-7.492827e+03</td><td>7.008737e+03</td><td>-1.06906956</td><td>2.851841e-01</td></tr>\n",
       "\t<tr><td>...</td><td>...</td><td>...</td><td>...</td><td>...</td></tr>\n",
       "\t<tr><td>Pool_QCFair           </td><td>-72586.898580</td><td>3.302554e+04</td><td>-2.197901893</td><td>2.808519e-02</td></tr>\n",
       "\t<tr><td>Pool_QCGood           </td><td>-65605.229947</td><td>2.990378e+04</td><td>-2.193877779</td><td>2.837380e-02</td></tr>\n",
       "\t<tr><td>Pool_QCNo_Pool        </td><td>-25040.424880</td><td>4.037261e+04</td><td>-0.620233051</td><td>5.351842e-01</td></tr>\n",
       "\t<tr><td>Pool_QCTypical        </td><td>-74381.326067</td><td>2.027697e+04</td><td>-3.668265855</td><td>2.514233e-04</td></tr>\n",
       "\t<tr><td>FenceGood_Wood        </td><td>  1828.356332</td><td>3.822036e+03</td><td> 0.478372338</td><td>6.324443e-01</td></tr>\n",
       "\t<tr><td>FenceMinimum_Privacy  </td><td>  4894.052471</td><td>3.065718e+03</td><td> 1.596380529</td><td>1.105824e-01</td></tr>\n",
       "\t<tr><td>FenceMinimum_Wood_Wire</td><td>  7406.465984</td><td>8.066305e+03</td><td> 0.918198099</td><td>3.586403e-01</td></tr>\n",
       "\t<tr><td>FenceNo_Fence         </td><td>  3057.700282</td><td>2.805556e+03</td><td> 1.089873114</td><td>2.759174e-01</td></tr>\n",
       "\t<tr><td>Misc_FeatureNone      </td><td> -1269.968771</td><td>1.925372e+04</td><td>-0.065959641</td><td>9.474174e-01</td></tr>\n",
       "\t<tr><td>Misc_FeatureOthr      </td><td> -1748.660018</td><td>2.329821e+04</td><td>-0.075055559</td><td>9.401790e-01</td></tr>\n",
       "\t<tr><td>Misc_FeatureShed      </td><td>  -156.014969</td><td>1.837280e+04</td><td>-0.008491629</td><td>9.932257e-01</td></tr>\n",
       "\t<tr><td>Misc_Val              </td><td>     1.000726</td><td>1.774436e+00</td><td> 0.563968611</td><td>5.728469e-01</td></tr>\n",
       "\t<tr><td>Mo_Sold               </td><td>  -231.651411</td><td>1.914781e+02</td><td>-1.209806089</td><td>2.265149e-01</td></tr>\n",
       "\t<tr><td>Year_Sold             </td><td>  -565.907221</td><td>4.051616e+02</td><td>-1.396744627</td><td>1.626655e-01</td></tr>\n",
       "\t<tr><td>Sale_TypeCon          </td><td> 25376.655357</td><td>1.062706e+04</td><td> 2.387927417</td><td>1.704801e-02</td></tr>\n",
       "\t<tr><td>Sale_TypeConLD        </td><td>  5686.823751</td><td>6.185043e+03</td><td> 0.919447775</td><td>3.579867e-01</td></tr>\n",
       "\t<tr><td>Sale_TypeConLI        </td><td> -6191.755598</td><td>9.762972e+03</td><td>-0.634208041</td><td>5.260270e-01</td></tr>\n",
       "\t<tr><td>Sale_TypeConLw        </td><td>  6600.567733</td><td>9.945700e+03</td><td> 0.663660474</td><td>5.069941e-01</td></tr>\n",
       "\t<tr><td>Sale_TypeCWD          </td><td>  8939.118665</td><td>8.541435e+03</td><td> 1.046559321</td><td>2.954458e-01</td></tr>\n",
       "\t<tr><td>Sale_TypeNew          </td><td>   426.054695</td><td>1.106148e+04</td><td> 0.038516957</td><td>9.692799e-01</td></tr>\n",
       "\t<tr><td>Sale_TypeOth          </td><td>  3098.626834</td><td>9.483285e+03</td><td> 0.326746161</td><td>7.438985e-01</td></tr>\n",
       "\t<tr><td>Sale_TypeVWD          </td><td>-11532.387679</td><td>2.272512e+04</td><td>-0.507473062</td><td>6.118862e-01</td></tr>\n",
       "\t<tr><td>Sale_TypeWD           </td><td>  2452.370596</td><td>3.165443e+03</td><td> 0.774732125</td><td>4.386014e-01</td></tr>\n",
       "\t<tr><td>Sale_ConditionAdjLand </td><td> 21948.335162</td><td>8.778017e+03</td><td> 2.500375241</td><td>1.249600e-02</td></tr>\n",
       "\t<tr><td>Sale_ConditionAlloca  </td><td> 14619.631424</td><td>7.819450e+03</td><td> 1.869649484</td><td>6.169749e-02</td></tr>\n",
       "\t<tr><td>Sale_ConditionFamily  </td><td>  2045.516852</td><td>4.364735e+03</td><td> 0.468646310</td><td>6.393802e-01</td></tr>\n",
       "\t<tr><td>Sale_ConditionNormal  </td><td>  8891.182393</td><td>2.253926e+03</td><td> 3.944754130</td><td>8.299963e-05</td></tr>\n",
       "\t<tr><td>Sale_ConditionPartial </td><td> 22902.380612</td><td>1.059870e+04</td><td> 2.160866893</td><td>3.083939e-02</td></tr>\n",
       "\t<tr><td>Longitude             </td><td> 85386.058967</td><td>1.094703e+05</td><td> 0.779992595</td><td>4.354995e-01</td></tr>\n",
       "\t<tr><td>Latitude              </td><td>328801.225526</td><td>1.628952e+05</td><td> 2.018483321</td><td>4.369151e-02</td></tr>\n",
       "</tbody>\n",
       "</table>\n"
      ],
      "text/latex": [
       "A tibble: 292 × 5\n",
       "\\begin{tabular}{lllll}\n",
       " term & estimate & std.error & statistic & p.value\\\\\n",
       " <chr> & <dbl> & <dbl> & <dbl> & <dbl>\\\\\n",
       "\\hline\n",
       "\t (Intercept)                                          & -5.568742e+06 & 1.126581e+07 & -0.49430462 & 6.211524e-01\\\\\n",
       "\t MS\\_SubClassOne\\_and\\_Half\\_Story\\_Finished\\_All\\_Ages      &  2.324504e+04 & 2.264266e+04 &  1.02660378 & 3.047473e-01\\\\\n",
       "\t MS\\_SubClassOne\\_and\\_Half\\_Story\\_PUD\\_All\\_Ages           & -3.241401e+04 & 3.396294e+04 & -0.95439336 & 3.400149e-01\\\\\n",
       "\t MS\\_SubClassOne\\_and\\_Half\\_Story\\_Unfinished\\_All\\_Ages    &  2.786651e+04 & 2.546144e+04 &  1.09445927 & 2.739025e-01\\\\\n",
       "\t MS\\_SubClassOne\\_Story\\_1945\\_and\\_Older                  &  2.269374e+04 & 2.195002e+04 &  1.03388251 & 3.013323e-01\\\\\n",
       "\t MS\\_SubClassOne\\_Story\\_1946\\_and\\_Newer\\_All\\_Styles       &  1.913570e+04 & 2.140583e+04 &  0.89394815 & 3.714712e-01\\\\\n",
       "\t MS\\_SubClassOne\\_Story\\_PUD\\_1946\\_and\\_Newer              & -2.946682e+02 & 2.342477e+04 & -0.01257934 & 9.899648e-01\\\\\n",
       "\t MS\\_SubClassOne\\_Story\\_with\\_Finished\\_Attic\\_All\\_Ages    &  3.192860e+04 & 2.505330e+04 &  1.27442666 & 2.026795e-01\\\\\n",
       "\t MS\\_SubClassPUD\\_Multilevel\\_Split\\_Level\\_Foyer          & -5.851970e+03 & 2.480425e+04 & -0.23592614 & 8.135173e-01\\\\\n",
       "\t MS\\_SubClassSplit\\_Foyer                               &  1.474431e+04 & 2.262602e+04 &  0.65165293 & 5.147097e-01\\\\\n",
       "\t MS\\_SubClassSplit\\_or\\_Multilevel                       &  7.685574e+03 & 2.330759e+04 &  0.32974557 & 7.416312e-01\\\\\n",
       "\t MS\\_SubClassTwo\\_and\\_Half\\_Story\\_All\\_Ages               &  5.207673e+03 & 2.538178e+04 &  0.20517366 & 8.374600e-01\\\\\n",
       "\t MS\\_SubClassTwo\\_Family\\_conversion\\_All\\_Styles\\_and\\_Ages &  7.532287e+03 & 6.321403e+03 &  1.19155306 & 2.335963e-01\\\\\n",
       "\t MS\\_SubClassTwo\\_Story\\_1945\\_and\\_Older                  &  2.627724e+04 & 2.257026e+04 &  1.16424178 & 2.444829e-01\\\\\n",
       "\t MS\\_SubClassTwo\\_Story\\_1946\\_and\\_Newer                  &  1.804256e+04 & 2.186979e+04 &  0.82499934 & 4.094831e-01\\\\\n",
       "\t MS\\_SubClassTwo\\_Story\\_PUD\\_1946\\_and\\_Newer              & -3.749707e+03 & 2.393155e+04 & -0.15668468 & 8.755112e-01\\\\\n",
       "\t MS\\_ZoningC\\_all                                       & -2.528291e+04 & 4.866340e+04 & -0.51954674 & 6.034445e-01\\\\\n",
       "\t MS\\_ZoningFloating\\_Village\\_Residential                & -1.295797e+04 & 4.801041e+04 & -0.26989912 & 7.872693e-01\\\\\n",
       "\t MS\\_ZoningI\\_all                                       & -7.840755e+03 & 5.517626e+04 & -0.14210379 & 8.870142e-01\\\\\n",
       "\t MS\\_ZoningResidential\\_High\\_Density                    & -1.189714e+04 & 4.876806e+04 & -0.24395350 & 8.072951e-01\\\\\n",
       "\t MS\\_ZoningResidential\\_Low\\_Density                     & -1.257261e+04 & 4.781281e+04 & -0.26295494 & 7.926159e-01\\\\\n",
       "\t MS\\_ZoningResidential\\_Medium\\_Density                  & -1.643270e+04 & 4.816401e+04 & -0.34118203 & 7.330070e-01\\\\\n",
       "\t Lot\\_Frontage                                         & -2.160345e+00 & 1.838330e+01 & -0.11751669 & 9.064640e-01\\\\\n",
       "\t Lot\\_Area                                             &  4.640662e-01 & 1.012577e-01 &  4.58302192 & 4.903666e-06\\\\\n",
       "\t StreetPave                                           &  5.340140e+03 & 1.032723e+04 &  0.51709328 & 6.051557e-01\\\\\n",
       "\t AlleyNo\\_Alley\\_Access                                 &  4.476049e+02 & 3.120371e+03 &  0.14344606 & 8.859542e-01\\\\\n",
       "\t AlleyPaved                                           &  2.646030e+03 & 5.112972e+03 &  0.51751305 & 6.048627e-01\\\\\n",
       "\t Lot\\_ShapeModerately\\_Irregular                        & -1.611070e+03 & 7.454193e+03 & -0.21612937 & 8.289118e-01\\\\\n",
       "\t Lot\\_ShapeRegular                                     & -6.755599e+03 & 7.055944e+03 & -0.95743378 & 3.384791e-01\\\\\n",
       "\t Lot\\_ShapeSlightly\\_Irregular                          & -7.492827e+03 & 7.008737e+03 & -1.06906956 & 2.851841e-01\\\\\n",
       "\t ... & ... & ... & ... & ...\\\\\n",
       "\t Pool\\_QCFair            & -72586.898580 & 3.302554e+04 & -2.197901893 & 2.808519e-02\\\\\n",
       "\t Pool\\_QCGood            & -65605.229947 & 2.990378e+04 & -2.193877779 & 2.837380e-02\\\\\n",
       "\t Pool\\_QCNo\\_Pool         & -25040.424880 & 4.037261e+04 & -0.620233051 & 5.351842e-01\\\\\n",
       "\t Pool\\_QCTypical         & -74381.326067 & 2.027697e+04 & -3.668265855 & 2.514233e-04\\\\\n",
       "\t FenceGood\\_Wood         &   1828.356332 & 3.822036e+03 &  0.478372338 & 6.324443e-01\\\\\n",
       "\t FenceMinimum\\_Privacy   &   4894.052471 & 3.065718e+03 &  1.596380529 & 1.105824e-01\\\\\n",
       "\t FenceMinimum\\_Wood\\_Wire &   7406.465984 & 8.066305e+03 &  0.918198099 & 3.586403e-01\\\\\n",
       "\t FenceNo\\_Fence          &   3057.700282 & 2.805556e+03 &  1.089873114 & 2.759174e-01\\\\\n",
       "\t Misc\\_FeatureNone       &  -1269.968771 & 1.925372e+04 & -0.065959641 & 9.474174e-01\\\\\n",
       "\t Misc\\_FeatureOthr       &  -1748.660018 & 2.329821e+04 & -0.075055559 & 9.401790e-01\\\\\n",
       "\t Misc\\_FeatureShed       &   -156.014969 & 1.837280e+04 & -0.008491629 & 9.932257e-01\\\\\n",
       "\t Misc\\_Val               &      1.000726 & 1.774436e+00 &  0.563968611 & 5.728469e-01\\\\\n",
       "\t Mo\\_Sold                &   -231.651411 & 1.914781e+02 & -1.209806089 & 2.265149e-01\\\\\n",
       "\t Year\\_Sold              &   -565.907221 & 4.051616e+02 & -1.396744627 & 1.626655e-01\\\\\n",
       "\t Sale\\_TypeCon           &  25376.655357 & 1.062706e+04 &  2.387927417 & 1.704801e-02\\\\\n",
       "\t Sale\\_TypeConLD         &   5686.823751 & 6.185043e+03 &  0.919447775 & 3.579867e-01\\\\\n",
       "\t Sale\\_TypeConLI         &  -6191.755598 & 9.762972e+03 & -0.634208041 & 5.260270e-01\\\\\n",
       "\t Sale\\_TypeConLw         &   6600.567733 & 9.945700e+03 &  0.663660474 & 5.069941e-01\\\\\n",
       "\t Sale\\_TypeCWD           &   8939.118665 & 8.541435e+03 &  1.046559321 & 2.954458e-01\\\\\n",
       "\t Sale\\_TypeNew           &    426.054695 & 1.106148e+04 &  0.038516957 & 9.692799e-01\\\\\n",
       "\t Sale\\_TypeOth           &   3098.626834 & 9.483285e+03 &  0.326746161 & 7.438985e-01\\\\\n",
       "\t Sale\\_TypeVWD           & -11532.387679 & 2.272512e+04 & -0.507473062 & 6.118862e-01\\\\\n",
       "\t Sale\\_TypeWD            &   2452.370596 & 3.165443e+03 &  0.774732125 & 4.386014e-01\\\\\n",
       "\t Sale\\_ConditionAdjLand  &  21948.335162 & 8.778017e+03 &  2.500375241 & 1.249600e-02\\\\\n",
       "\t Sale\\_ConditionAlloca   &  14619.631424 & 7.819450e+03 &  1.869649484 & 6.169749e-02\\\\\n",
       "\t Sale\\_ConditionFamily   &   2045.516852 & 4.364735e+03 &  0.468646310 & 6.393802e-01\\\\\n",
       "\t Sale\\_ConditionNormal   &   8891.182393 & 2.253926e+03 &  3.944754130 & 8.299963e-05\\\\\n",
       "\t Sale\\_ConditionPartial  &  22902.380612 & 1.059870e+04 &  2.160866893 & 3.083939e-02\\\\\n",
       "\t Longitude              &  85386.058967 & 1.094703e+05 &  0.779992595 & 4.354995e-01\\\\\n",
       "\t Latitude               & 328801.225526 & 1.628952e+05 &  2.018483321 & 4.369151e-02\\\\\n",
       "\\end{tabular}\n"
      ],
      "text/markdown": [
       "\n",
       "A tibble: 292 × 5\n",
       "\n",
       "| term &lt;chr&gt; | estimate &lt;dbl&gt; | std.error &lt;dbl&gt; | statistic &lt;dbl&gt; | p.value &lt;dbl&gt; |\n",
       "|---|---|---|---|---|\n",
       "| (Intercept)                                          | -5.568742e+06 | 1.126581e+07 | -0.49430462 | 6.211524e-01 |\n",
       "| MS_SubClassOne_and_Half_Story_Finished_All_Ages      |  2.324504e+04 | 2.264266e+04 |  1.02660378 | 3.047473e-01 |\n",
       "| MS_SubClassOne_and_Half_Story_PUD_All_Ages           | -3.241401e+04 | 3.396294e+04 | -0.95439336 | 3.400149e-01 |\n",
       "| MS_SubClassOne_and_Half_Story_Unfinished_All_Ages    |  2.786651e+04 | 2.546144e+04 |  1.09445927 | 2.739025e-01 |\n",
       "| MS_SubClassOne_Story_1945_and_Older                  |  2.269374e+04 | 2.195002e+04 |  1.03388251 | 3.013323e-01 |\n",
       "| MS_SubClassOne_Story_1946_and_Newer_All_Styles       |  1.913570e+04 | 2.140583e+04 |  0.89394815 | 3.714712e-01 |\n",
       "| MS_SubClassOne_Story_PUD_1946_and_Newer              | -2.946682e+02 | 2.342477e+04 | -0.01257934 | 9.899648e-01 |\n",
       "| MS_SubClassOne_Story_with_Finished_Attic_All_Ages    |  3.192860e+04 | 2.505330e+04 |  1.27442666 | 2.026795e-01 |\n",
       "| MS_SubClassPUD_Multilevel_Split_Level_Foyer          | -5.851970e+03 | 2.480425e+04 | -0.23592614 | 8.135173e-01 |\n",
       "| MS_SubClassSplit_Foyer                               |  1.474431e+04 | 2.262602e+04 |  0.65165293 | 5.147097e-01 |\n",
       "| MS_SubClassSplit_or_Multilevel                       |  7.685574e+03 | 2.330759e+04 |  0.32974557 | 7.416312e-01 |\n",
       "| MS_SubClassTwo_and_Half_Story_All_Ages               |  5.207673e+03 | 2.538178e+04 |  0.20517366 | 8.374600e-01 |\n",
       "| MS_SubClassTwo_Family_conversion_All_Styles_and_Ages |  7.532287e+03 | 6.321403e+03 |  1.19155306 | 2.335963e-01 |\n",
       "| MS_SubClassTwo_Story_1945_and_Older                  |  2.627724e+04 | 2.257026e+04 |  1.16424178 | 2.444829e-01 |\n",
       "| MS_SubClassTwo_Story_1946_and_Newer                  |  1.804256e+04 | 2.186979e+04 |  0.82499934 | 4.094831e-01 |\n",
       "| MS_SubClassTwo_Story_PUD_1946_and_Newer              | -3.749707e+03 | 2.393155e+04 | -0.15668468 | 8.755112e-01 |\n",
       "| MS_ZoningC_all                                       | -2.528291e+04 | 4.866340e+04 | -0.51954674 | 6.034445e-01 |\n",
       "| MS_ZoningFloating_Village_Residential                | -1.295797e+04 | 4.801041e+04 | -0.26989912 | 7.872693e-01 |\n",
       "| MS_ZoningI_all                                       | -7.840755e+03 | 5.517626e+04 | -0.14210379 | 8.870142e-01 |\n",
       "| MS_ZoningResidential_High_Density                    | -1.189714e+04 | 4.876806e+04 | -0.24395350 | 8.072951e-01 |\n",
       "| MS_ZoningResidential_Low_Density                     | -1.257261e+04 | 4.781281e+04 | -0.26295494 | 7.926159e-01 |\n",
       "| MS_ZoningResidential_Medium_Density                  | -1.643270e+04 | 4.816401e+04 | -0.34118203 | 7.330070e-01 |\n",
       "| Lot_Frontage                                         | -2.160345e+00 | 1.838330e+01 | -0.11751669 | 9.064640e-01 |\n",
       "| Lot_Area                                             |  4.640662e-01 | 1.012577e-01 |  4.58302192 | 4.903666e-06 |\n",
       "| StreetPave                                           |  5.340140e+03 | 1.032723e+04 |  0.51709328 | 6.051557e-01 |\n",
       "| AlleyNo_Alley_Access                                 |  4.476049e+02 | 3.120371e+03 |  0.14344606 | 8.859542e-01 |\n",
       "| AlleyPaved                                           |  2.646030e+03 | 5.112972e+03 |  0.51751305 | 6.048627e-01 |\n",
       "| Lot_ShapeModerately_Irregular                        | -1.611070e+03 | 7.454193e+03 | -0.21612937 | 8.289118e-01 |\n",
       "| Lot_ShapeRegular                                     | -6.755599e+03 | 7.055944e+03 | -0.95743378 | 3.384791e-01 |\n",
       "| Lot_ShapeSlightly_Irregular                          | -7.492827e+03 | 7.008737e+03 | -1.06906956 | 2.851841e-01 |\n",
       "| ... | ... | ... | ... | ... |\n",
       "| Pool_QCFair            | -72586.898580 | 3.302554e+04 | -2.197901893 | 2.808519e-02 |\n",
       "| Pool_QCGood            | -65605.229947 | 2.990378e+04 | -2.193877779 | 2.837380e-02 |\n",
       "| Pool_QCNo_Pool         | -25040.424880 | 4.037261e+04 | -0.620233051 | 5.351842e-01 |\n",
       "| Pool_QCTypical         | -74381.326067 | 2.027697e+04 | -3.668265855 | 2.514233e-04 |\n",
       "| FenceGood_Wood         |   1828.356332 | 3.822036e+03 |  0.478372338 | 6.324443e-01 |\n",
       "| FenceMinimum_Privacy   |   4894.052471 | 3.065718e+03 |  1.596380529 | 1.105824e-01 |\n",
       "| FenceMinimum_Wood_Wire |   7406.465984 | 8.066305e+03 |  0.918198099 | 3.586403e-01 |\n",
       "| FenceNo_Fence          |   3057.700282 | 2.805556e+03 |  1.089873114 | 2.759174e-01 |\n",
       "| Misc_FeatureNone       |  -1269.968771 | 1.925372e+04 | -0.065959641 | 9.474174e-01 |\n",
       "| Misc_FeatureOthr       |  -1748.660018 | 2.329821e+04 | -0.075055559 | 9.401790e-01 |\n",
       "| Misc_FeatureShed       |   -156.014969 | 1.837280e+04 | -0.008491629 | 9.932257e-01 |\n",
       "| Misc_Val               |      1.000726 | 1.774436e+00 |  0.563968611 | 5.728469e-01 |\n",
       "| Mo_Sold                |   -231.651411 | 1.914781e+02 | -1.209806089 | 2.265149e-01 |\n",
       "| Year_Sold              |   -565.907221 | 4.051616e+02 | -1.396744627 | 1.626655e-01 |\n",
       "| Sale_TypeCon           |  25376.655357 | 1.062706e+04 |  2.387927417 | 1.704801e-02 |\n",
       "| Sale_TypeConLD         |   5686.823751 | 6.185043e+03 |  0.919447775 | 3.579867e-01 |\n",
       "| Sale_TypeConLI         |  -6191.755598 | 9.762972e+03 | -0.634208041 | 5.260270e-01 |\n",
       "| Sale_TypeConLw         |   6600.567733 | 9.945700e+03 |  0.663660474 | 5.069941e-01 |\n",
       "| Sale_TypeCWD           |   8939.118665 | 8.541435e+03 |  1.046559321 | 2.954458e-01 |\n",
       "| Sale_TypeNew           |    426.054695 | 1.106148e+04 |  0.038516957 | 9.692799e-01 |\n",
       "| Sale_TypeOth           |   3098.626834 | 9.483285e+03 |  0.326746161 | 7.438985e-01 |\n",
       "| Sale_TypeVWD           | -11532.387679 | 2.272512e+04 | -0.507473062 | 6.118862e-01 |\n",
       "| Sale_TypeWD            |   2452.370596 | 3.165443e+03 |  0.774732125 | 4.386014e-01 |\n",
       "| Sale_ConditionAdjLand  |  21948.335162 | 8.778017e+03 |  2.500375241 | 1.249600e-02 |\n",
       "| Sale_ConditionAlloca   |  14619.631424 | 7.819450e+03 |  1.869649484 | 6.169749e-02 |\n",
       "| Sale_ConditionFamily   |   2045.516852 | 4.364735e+03 |  0.468646310 | 6.393802e-01 |\n",
       "| Sale_ConditionNormal   |   8891.182393 | 2.253926e+03 |  3.944754130 | 8.299963e-05 |\n",
       "| Sale_ConditionPartial  |  22902.380612 | 1.059870e+04 |  2.160866893 | 3.083939e-02 |\n",
       "| Longitude              |  85386.058967 | 1.094703e+05 |  0.779992595 | 4.354995e-01 |\n",
       "| Latitude               | 328801.225526 | 1.628952e+05 |  2.018483321 | 4.369151e-02 |\n",
       "\n"
      ],
      "text/plain": [
       "    term                                                 estimate     \n",
       "1   (Intercept)                                          -5.568742e+06\n",
       "2   MS_SubClassOne_and_Half_Story_Finished_All_Ages       2.324504e+04\n",
       "3   MS_SubClassOne_and_Half_Story_PUD_All_Ages           -3.241401e+04\n",
       "4   MS_SubClassOne_and_Half_Story_Unfinished_All_Ages     2.786651e+04\n",
       "5   MS_SubClassOne_Story_1945_and_Older                   2.269374e+04\n",
       "6   MS_SubClassOne_Story_1946_and_Newer_All_Styles        1.913570e+04\n",
       "7   MS_SubClassOne_Story_PUD_1946_and_Newer              -2.946682e+02\n",
       "8   MS_SubClassOne_Story_with_Finished_Attic_All_Ages     3.192860e+04\n",
       "9   MS_SubClassPUD_Multilevel_Split_Level_Foyer          -5.851970e+03\n",
       "10  MS_SubClassSplit_Foyer                                1.474431e+04\n",
       "11  MS_SubClassSplit_or_Multilevel                        7.685574e+03\n",
       "12  MS_SubClassTwo_and_Half_Story_All_Ages                5.207673e+03\n",
       "13  MS_SubClassTwo_Family_conversion_All_Styles_and_Ages  7.532287e+03\n",
       "14  MS_SubClassTwo_Story_1945_and_Older                   2.627724e+04\n",
       "15  MS_SubClassTwo_Story_1946_and_Newer                   1.804256e+04\n",
       "16  MS_SubClassTwo_Story_PUD_1946_and_Newer              -3.749707e+03\n",
       "17  MS_ZoningC_all                                       -2.528291e+04\n",
       "18  MS_ZoningFloating_Village_Residential                -1.295797e+04\n",
       "19  MS_ZoningI_all                                       -7.840755e+03\n",
       "20  MS_ZoningResidential_High_Density                    -1.189714e+04\n",
       "21  MS_ZoningResidential_Low_Density                     -1.257261e+04\n",
       "22  MS_ZoningResidential_Medium_Density                  -1.643270e+04\n",
       "23  Lot_Frontage                                         -2.160345e+00\n",
       "24  Lot_Area                                              4.640662e-01\n",
       "25  StreetPave                                            5.340140e+03\n",
       "26  AlleyNo_Alley_Access                                  4.476049e+02\n",
       "27  AlleyPaved                                            2.646030e+03\n",
       "28  Lot_ShapeModerately_Irregular                        -1.611070e+03\n",
       "29  Lot_ShapeRegular                                     -6.755599e+03\n",
       "30  Lot_ShapeSlightly_Irregular                          -7.492827e+03\n",
       "... ...                                                  ...          \n",
       "263 Pool_QCFair                                          -72586.898580\n",
       "264 Pool_QCGood                                          -65605.229947\n",
       "265 Pool_QCNo_Pool                                       -25040.424880\n",
       "266 Pool_QCTypical                                       -74381.326067\n",
       "267 FenceGood_Wood                                         1828.356332\n",
       "268 FenceMinimum_Privacy                                   4894.052471\n",
       "269 FenceMinimum_Wood_Wire                                 7406.465984\n",
       "270 FenceNo_Fence                                          3057.700282\n",
       "271 Misc_FeatureNone                                      -1269.968771\n",
       "272 Misc_FeatureOthr                                      -1748.660018\n",
       "273 Misc_FeatureShed                                       -156.014969\n",
       "274 Misc_Val                                                  1.000726\n",
       "275 Mo_Sold                                                -231.651411\n",
       "276 Year_Sold                                              -565.907221\n",
       "277 Sale_TypeCon                                          25376.655357\n",
       "278 Sale_TypeConLD                                         5686.823751\n",
       "279 Sale_TypeConLI                                        -6191.755598\n",
       "280 Sale_TypeConLw                                         6600.567733\n",
       "281 Sale_TypeCWD                                           8939.118665\n",
       "282 Sale_TypeNew                                            426.054695\n",
       "283 Sale_TypeOth                                           3098.626834\n",
       "284 Sale_TypeVWD                                         -11532.387679\n",
       "285 Sale_TypeWD                                            2452.370596\n",
       "286 Sale_ConditionAdjLand                                 21948.335162\n",
       "287 Sale_ConditionAlloca                                  14619.631424\n",
       "288 Sale_ConditionFamily                                   2045.516852\n",
       "289 Sale_ConditionNormal                                   8891.182393\n",
       "290 Sale_ConditionPartial                                 22902.380612\n",
       "291 Longitude                                             85386.058967\n",
       "292 Latitude                                             328801.225526\n",
       "    std.error    statistic    p.value     \n",
       "1   1.126581e+07 -0.49430462  6.211524e-01\n",
       "2   2.264266e+04  1.02660378  3.047473e-01\n",
       "3   3.396294e+04 -0.95439336  3.400149e-01\n",
       "4   2.546144e+04  1.09445927  2.739025e-01\n",
       "5   2.195002e+04  1.03388251  3.013323e-01\n",
       "6   2.140583e+04  0.89394815  3.714712e-01\n",
       "7   2.342477e+04 -0.01257934  9.899648e-01\n",
       "8   2.505330e+04  1.27442666  2.026795e-01\n",
       "9   2.480425e+04 -0.23592614  8.135173e-01\n",
       "10  2.262602e+04  0.65165293  5.147097e-01\n",
       "11  2.330759e+04  0.32974557  7.416312e-01\n",
       "12  2.538178e+04  0.20517366  8.374600e-01\n",
       "13  6.321403e+03  1.19155306  2.335963e-01\n",
       "14  2.257026e+04  1.16424178  2.444829e-01\n",
       "15  2.186979e+04  0.82499934  4.094831e-01\n",
       "16  2.393155e+04 -0.15668468  8.755112e-01\n",
       "17  4.866340e+04 -0.51954674  6.034445e-01\n",
       "18  4.801041e+04 -0.26989912  7.872693e-01\n",
       "19  5.517626e+04 -0.14210379  8.870142e-01\n",
       "20  4.876806e+04 -0.24395350  8.072951e-01\n",
       "21  4.781281e+04 -0.26295494  7.926159e-01\n",
       "22  4.816401e+04 -0.34118203  7.330070e-01\n",
       "23  1.838330e+01 -0.11751669  9.064640e-01\n",
       "24  1.012577e-01  4.58302192  4.903666e-06\n",
       "25  1.032723e+04  0.51709328  6.051557e-01\n",
       "26  3.120371e+03  0.14344606  8.859542e-01\n",
       "27  5.112972e+03  0.51751305  6.048627e-01\n",
       "28  7.454193e+03 -0.21612937  8.289118e-01\n",
       "29  7.055944e+03 -0.95743378  3.384791e-01\n",
       "30  7.008737e+03 -1.06906956  2.851841e-01\n",
       "... ...          ...          ...         \n",
       "263 3.302554e+04 -2.197901893 2.808519e-02\n",
       "264 2.990378e+04 -2.193877779 2.837380e-02\n",
       "265 4.037261e+04 -0.620233051 5.351842e-01\n",
       "266 2.027697e+04 -3.668265855 2.514233e-04\n",
       "267 3.822036e+03  0.478372338 6.324443e-01\n",
       "268 3.065718e+03  1.596380529 1.105824e-01\n",
       "269 8.066305e+03  0.918198099 3.586403e-01\n",
       "270 2.805556e+03  1.089873114 2.759174e-01\n",
       "271 1.925372e+04 -0.065959641 9.474174e-01\n",
       "272 2.329821e+04 -0.075055559 9.401790e-01\n",
       "273 1.837280e+04 -0.008491629 9.932257e-01\n",
       "274 1.774436e+00  0.563968611 5.728469e-01\n",
       "275 1.914781e+02 -1.209806089 2.265149e-01\n",
       "276 4.051616e+02 -1.396744627 1.626655e-01\n",
       "277 1.062706e+04  2.387927417 1.704801e-02\n",
       "278 6.185043e+03  0.919447775 3.579867e-01\n",
       "279 9.762972e+03 -0.634208041 5.260270e-01\n",
       "280 9.945700e+03  0.663660474 5.069941e-01\n",
       "281 8.541435e+03  1.046559321 2.954458e-01\n",
       "282 1.106148e+04  0.038516957 9.692799e-01\n",
       "283 9.483285e+03  0.326746161 7.438985e-01\n",
       "284 2.272512e+04 -0.507473062 6.118862e-01\n",
       "285 3.165443e+03  0.774732125 4.386014e-01\n",
       "286 8.778017e+03  2.500375241 1.249600e-02\n",
       "287 7.819450e+03  1.869649484 6.169749e-02\n",
       "288 4.364735e+03  0.468646310 6.393802e-01\n",
       "289 2.253926e+03  3.944754130 8.299963e-05\n",
       "290 1.059870e+04  2.160866893 3.083939e-02\n",
       "291 1.094703e+05  0.779992595 4.354995e-01\n",
       "292 1.628952e+05  2.018483321 4.369151e-02"
      ]
     },
     "metadata": {},
     "output_type": "display_data"
    }
   ],
   "source": [
    "# include all possible main effects\n",
    "model3 <- lm(Sale_Price ~ ., data = ames_train)\n",
    "# print estimated coefficients in a tidy data frame\n",
    "broom::tidy(model3)"
   ]
  },
  {
   "cell_type": "code",
   "execution_count": 11,
   "metadata": {},
   "outputs": [
    {
     "data": {
      "text/plain": [
       "Linear Regression \n",
       "\n",
       "2053 samples\n",
       "   1 predictor\n",
       "\n",
       "No pre-processing\n",
       "Resampling: Cross-Validated (10 fold) \n",
       "Summary of sample sizes: 1846, 1848, 1848, 1848, 1848, 1848, ... \n",
       "Resampling results:\n",
       "\n",
       "  RMSE      Rsquared   MAE     \n",
       "  56410.89  0.5069425  39169.09\n",
       "\n",
       "Tuning parameter 'intercept' was held constant at a value of TRUE"
      ]
     },
     "metadata": {},
     "output_type": "display_data"
    }
   ],
   "source": [
    "# Train model using 10-fold cross-validation\n",
    "set.seed(123) # for reproducibility\n",
    "(cv_model1 <- train(\n",
    "form = Sale_Price ~ Gr_Liv_Area,\n",
    "data = ames_train,\n",
    "method = \"lm\",\n",
    "trControl = trainControl(method = \"cv\", number = 10)\n",
    "))"
   ]
  },
  {
   "cell_type": "markdown",
   "metadata": {},
   "source": [
    "The resulting cross-validated RMSE is 55,670.37 (this is the average RMSE\n",
    "across the 10 CV folds). How should we interpret this? When applied to unseen\n",
    "data, the predictions this model makes are, on average, about $55,670.37 off\n",
    "from the actual sale price."
   ]
  },
  {
   "cell_type": "code",
   "execution_count": 12,
   "metadata": {},
   "outputs": [
    {
     "name": "stderr",
     "output_type": "stream",
     "text": [
      "Warning message in predict.lm(modelFit, newdata):\n",
      "\"prediction from a rank-deficient fit may be misleading\"\n",
      "Warning message in predict.lm(modelFit, newdata):\n",
      "\"prediction from a rank-deficient fit may be misleading\"\n",
      "Warning message in predict.lm(modelFit, newdata):\n",
      "\"prediction from a rank-deficient fit may be misleading\"\n",
      "Warning message in predict.lm(modelFit, newdata):\n",
      "\"prediction from a rank-deficient fit may be misleading\"\n",
      "Warning message in predict.lm(modelFit, newdata):\n",
      "\"prediction from a rank-deficient fit may be misleading\"\n",
      "Warning message in predict.lm(modelFit, newdata):\n",
      "\"prediction from a rank-deficient fit may be misleading\"\n",
      "Warning message in predict.lm(modelFit, newdata):\n",
      "\"prediction from a rank-deficient fit may be misleading\"\n",
      "Warning message in predict.lm(modelFit, newdata):\n",
      "\"prediction from a rank-deficient fit may be misleading\"\n",
      "Warning message in predict.lm(modelFit, newdata):\n",
      "\"prediction from a rank-deficient fit may be misleading\"\n",
      "Warning message in predict.lm(modelFit, newdata):\n",
      "\"prediction from a rank-deficient fit may be misleading\"\n"
     ]
    },
    {
     "data": {
      "text/plain": [
       "\n",
       "Call:\n",
       "summary.resamples(object = resamples(list(model1 = cv_model1, model2\n",
       " = cv_model2, model3 = cv_model3)))\n",
       "\n",
       "Models: model1, model2, model3 \n",
       "Number of resamples: 10 \n",
       "\n",
       "MAE \n",
       "           Min.  1st Qu.   Median     Mean  3rd Qu.     Max. NA's\n",
       "model1 34457.58 36323.74 38943.81 39169.09 41660.81 45005.17    0\n",
       "model2 28094.79 30594.47 31959.30 32246.86 34210.70 37441.82    0\n",
       "model3 12458.27 15363.61 16484.77 16251.30 17262.39 19029.29    0\n",
       "\n",
       "RMSE \n",
       "           Min.  1st Qu.   Median     Mean  3rd Qu.     Max. NA's\n",
       "model1 47211.34 52363.41 54948.96 56410.89 60672.31 67679.05    0\n",
       "model2 37698.17 42607.11 45407.14 46292.38 49668.59 54692.06    0\n",
       "model3 20844.33 22581.04 24947.45 26074.77 27695.65 39521.49    0\n",
       "\n",
       "Rsquared \n",
       "            Min.   1st Qu.    Median      Mean   3rd Qu.      Max. NA's\n",
       "model1 0.3598237 0.4550791 0.5289068 0.5069425 0.5619841 0.5965793    0\n",
       "model2 0.5714665 0.6392504 0.6800818 0.6703298 0.7067458 0.7348562    0\n",
       "model3 0.7869022 0.9018567 0.9104351 0.8951605 0.9172506 0.9303504    0\n"
      ]
     },
     "metadata": {},
     "output_type": "display_data"
    }
   ],
   "source": [
    "# model 2 CV\n",
    "set.seed(123)\n",
    "cv_model2 <- train(\n",
    "Sale_Price ~ Gr_Liv_Area + Year_Built,\n",
    "data = ames_train,\n",
    "method = \"lm\",\n",
    "trControl = trainControl(method = \"cv\", number = 10)\n",
    ")\n",
    "\n",
    "# model 3 CV\n",
    "set.seed(123)\n",
    "cv_model3 <- train(\n",
    "Sale_Price ~ .,\n",
    "data = ames_train,\n",
    "method = \"lm\",\n",
    "trControl = trainControl(method = \"cv\", number = 10)\n",
    ")\n",
    "# Extract out of sample performance measures\n",
    "summary(resamples(list(\n",
    "model1 = cv_model1,\n",
    "model2 = cv_model2,\n",
    "model3 = cv_model3\n",
    ")))"
   ]
  },
  {
   "cell_type": "code",
   "execution_count": 13,
   "metadata": {},
   "outputs": [],
   "source": [
    "?resamples"
   ]
  },
  {
   "cell_type": "code",
   "execution_count": 14,
   "metadata": {},
   "outputs": [
    {
     "name": "stderr",
     "output_type": "stream",
     "text": [
      "`geom_smooth()` using method = 'gam' and formula 'y ~ s(x, bs = \"cs\")'\n",
      "\n",
      "`geom_smooth()` using formula 'y ~ x'\n",
      "\n"
     ]
    },
    {
     "data": {
      "image/png": "[encoded data removed]",
      "text/plain": [
       "plot without title"
      ]
     },
     "metadata": {
      "image/png": {
       "height": 420,
       "width": 420
      }
     },
     "output_type": "display_data"
    }
   ],
   "source": [
    "# Linear vs nonlinear relationships\n",
    "\n",
    "p1 <- ggplot(ames_train, aes(Year_Built, Sale_Price)) +\n",
    "geom_point(size = 1, alpha = .4) +\n",
    "geom_smooth(se = FALSE) +\n",
    "scale_y_continuous(\"Sale price\", labels = scales::dollar) +\n",
    "xlab(\"Year built\") +\n",
    "ggtitle(paste(\"Non-transformed variables with a\\n\",\n",
    "\"non-linear relationship.\"))\n",
    "p2 <- ggplot(ames_train, aes(Year_Built, Sale_Price)) +\n",
    "geom_point(size = 1, alpha = .4) +\n",
    "geom_smooth(method = \"lm\", se = FALSE) +\n",
    "scale_y_log10(\"Sale price\", labels = scales::dollar,\n",
    "breaks = seq(0, 400000, by = 100000)) +\n",
    "xlab(\"Year built\") +\n",
    "ggtitle(paste(\"Transforming variables can provide a\\n\",\n",
    "\"near-linear relationship.\"))\n",
    "gridExtra::grid.arrange(p1, p2, nrow = 1)"
   ]
  },
  {
   "cell_type": "markdown",
   "metadata": {},
   "source": [
    "The broom::augment function is an easy way to add model results to each\n",
    "observation (i.e. predicted values, residuals)."
   ]
  },
  {
   "cell_type": "code",
   "execution_count": 15,
   "metadata": {},
   "outputs": [
    {
     "name": "stderr",
     "output_type": "stream",
     "text": [
      "Warning message:\n",
      "\"Removed 18 rows containing missing values (geom_point).\"\n"
     ]
    },
    {
     "data": {
      "image/png": "[encoded data removed]",
      "text/plain": [
       "plot without title"
      ]
     },
     "metadata": {
      "image/png": {
       "height": 420,
       "width": 420
      }
     },
     "output_type": "display_data"
    }
   ],
   "source": [
    "df1 <- broom::augment(cv_model1$finalModel, data = ames_train)\n",
    "\n",
    "p1 <- ggplot(df1, aes(.fitted, .std.resid)) +\n",
    "    geom_point(size = 1, alpha = .4) +\n",
    "    xlab(\"Predicted values\") +\n",
    "    ylab(\"Residuals\") +\n",
    "    ggtitle(\"Model 1\", subtitle = \"Sale_Price ~ Gr_Liv_Area\")\n",
    "\n",
    "df2 <- broom::augment(cv_model3$finalModel, data = ames_train)\n",
    "\n",
    "\n",
    "p2 <- ggplot(df2, aes(.fitted, .std.resid)) +\n",
    "    geom_point(size = 1, alpha = .4) +\n",
    "    xlab(\"Predicted values\") +\n",
    "    ylab(\"Residuals\") +\n",
    "    ggtitle(\"Model 3\", subtitle = \"Sale_Price ~ .\")\n",
    "\n",
    "\n",
    "gridExtra::grid.arrange(p1, p2, nrow = 1)"
   ]
  },
  {
   "cell_type": "code",
   "execution_count": null,
   "metadata": {},
   "outputs": [],
   "source": []
  },
  {
   "cell_type": "code",
   "execution_count": 16,
   "metadata": {},
   "outputs": [
    {
     "name": "stdout",
     "output_type": "stream",
     "text": [
      "Rows: 2,053\n",
      "Columns: 86\n",
      "$ MS_SubClass        \u001b[3m\u001b[90m<chr>\u001b[39m\u001b[23m \"One_Story_1946_and_Newer_All_Styles\", \"One_Stor...\n",
      "$ MS_Zoning          \u001b[3m\u001b[90m<chr>\u001b[39m\u001b[23m \"Residential_Low_Density\", \"Residential_High_Den...\n",
      "$ Lot_Frontage       \u001b[3m\u001b[90m<dbl>\u001b[39m\u001b[23m 141, 80, 81, 78, 41, 39, 60, 75, 63, 85, 47, 152...\n",
      "$ Lot_Area           \u001b[3m\u001b[90m<dbl>\u001b[39m\u001b[23m 31770, 11622, 14267, 9978, 4920, 5389, 7500, 100...\n",
      "$ Street             \u001b[3m\u001b[90m<chr>\u001b[39m\u001b[23m \"Pave\", \"Pave\", \"Pave\", \"Pave\", \"Pave\", \"Pave\", ...\n",
      "$ Alley              \u001b[3m\u001b[90m<chr>\u001b[39m\u001b[23m \"No_Alley_Access\", \"No_Alley_Access\", \"No_Alley_...\n",
      "$ Lot_Shape          \u001b[3m\u001b[90m<chr>\u001b[39m\u001b[23m \"Slightly_Irregular\", \"Regular\", \"Slightly_Irreg...\n",
      "$ Land_Contour       \u001b[3m\u001b[90m<chr>\u001b[39m\u001b[23m \"Lvl\", \"Lvl\", \"Lvl\", \"Lvl\", \"Lvl\", \"Lvl\", \"Lvl\",...\n",
      "$ Utilities          \u001b[3m\u001b[90m<chr>\u001b[39m\u001b[23m \"AllPub\", \"AllPub\", \"AllPub\", \"AllPub\", \"AllPub\"...\n",
      "$ Lot_Config         \u001b[3m\u001b[90m<chr>\u001b[39m\u001b[23m \"Corner\", \"Inside\", \"Corner\", \"Inside\", \"Inside\"...\n",
      "$ Land_Slope         \u001b[3m\u001b[90m<chr>\u001b[39m\u001b[23m \"Gtl\", \"Gtl\", \"Gtl\", \"Gtl\", \"Gtl\", \"Gtl\", \"Gtl\",...\n",
      "$ Neighborhood       \u001b[3m\u001b[90m<chr>\u001b[39m\u001b[23m \"North_Ames\", \"North_Ames\", \"North_Ames\", \"Gilbe...\n",
      "$ Condition_1        \u001b[3m\u001b[90m<chr>\u001b[39m\u001b[23m \"Norm\", \"Feedr\", \"Norm\", \"Norm\", \"Norm\", \"Norm\",...\n",
      "$ Condition_2        \u001b[3m\u001b[90m<chr>\u001b[39m\u001b[23m \"Norm\", \"Norm\", \"Norm\", \"Norm\", \"Norm\", \"Norm\", ...\n",
      "$ Bldg_Type          \u001b[3m\u001b[90m<chr>\u001b[39m\u001b[23m \"OneFam\", \"OneFam\", \"OneFam\", \"OneFam\", \"TwnhsE\"...\n",
      "$ House_Style        \u001b[3m\u001b[90m<chr>\u001b[39m\u001b[23m \"One_Story\", \"One_Story\", \"One_Story\", \"Two_Stor...\n",
      "$ Overall_Qual       \u001b[3m\u001b[90m<chr>\u001b[39m\u001b[23m \"Above_Average\", \"Average\", \"Above_Average\", \"Ab...\n",
      "$ Overall_Cond       \u001b[3m\u001b[90m<chr>\u001b[39m\u001b[23m \"Average\", \"Above_Average\", \"Above_Average\", \"Ab...\n",
      "$ Year_Built         \u001b[3m\u001b[90m<dbl>\u001b[39m\u001b[23m 1960, 1961, 1958, 1998, 2001, 1995, 1999, 1993, ...\n",
      "$ Year_Remod_Add     \u001b[3m\u001b[90m<dbl>\u001b[39m\u001b[23m 1960, 1961, 1958, 1998, 2001, 1996, 1999, 1994, ...\n",
      "$ Roof_Style         \u001b[3m\u001b[90m<chr>\u001b[39m\u001b[23m \"Hip\", \"Gable\", \"Hip\", \"Gable\", \"Gable\", \"Gable\"...\n",
      "$ Roof_Matl          \u001b[3m\u001b[90m<chr>\u001b[39m\u001b[23m \"CompShg\", \"CompShg\", \"CompShg\", \"CompShg\", \"Com...\n",
      "$ Exterior_1st       \u001b[3m\u001b[90m<chr>\u001b[39m\u001b[23m \"BrkFace\", \"VinylSd\", \"Wd Sdng\", \"VinylSd\", \"Cem...\n",
      "$ Exterior_2nd       \u001b[3m\u001b[90m<chr>\u001b[39m\u001b[23m \"Plywood\", \"VinylSd\", \"Wd Sdng\", \"VinylSd\", \"Cme...\n",
      "$ Mas_Vnr_Type       \u001b[3m\u001b[90m<chr>\u001b[39m\u001b[23m \"Stone\", \"None\", \"BrkFace\", \"BrkFace\", \"None\", \"...\n",
      "$ Mas_Vnr_Area       \u001b[3m\u001b[90m<dbl>\u001b[39m\u001b[23m 112, 0, 108, 20, 0, 0, 0, 0, 0, 0, 603, 0, 350, ...\n",
      "$ Exter_Qual         \u001b[3m\u001b[90m<chr>\u001b[39m\u001b[23m \"Typical\", \"Typical\", \"Typical\", \"Typical\", \"Goo...\n",
      "$ Exter_Cond         \u001b[3m\u001b[90m<chr>\u001b[39m\u001b[23m \"Typical\", \"Typical\", \"Typical\", \"Typical\", \"Typ...\n",
      "$ Foundation         \u001b[3m\u001b[90m<chr>\u001b[39m\u001b[23m \"CBlock\", \"CBlock\", \"CBlock\", \"PConc\", \"PConc\", ...\n",
      "$ Bsmt_Qual          \u001b[3m\u001b[90m<chr>\u001b[39m\u001b[23m \"Typical\", \"Typical\", \"Typical\", \"Typical\", \"Goo...\n",
      "$ Bsmt_Cond          \u001b[3m\u001b[90m<chr>\u001b[39m\u001b[23m \"Good\", \"Typical\", \"Typical\", \"Typical\", \"Typica...\n",
      "$ Bsmt_Exposure      \u001b[3m\u001b[90m<chr>\u001b[39m\u001b[23m \"Gd\", \"No\", \"No\", \"No\", \"Mn\", \"No\", \"No\", \"No\", ...\n",
      "$ BsmtFin_Type_1     \u001b[3m\u001b[90m<chr>\u001b[39m\u001b[23m \"BLQ\", \"Rec\", \"ALQ\", \"GLQ\", \"GLQ\", \"GLQ\", \"Unf\",...\n",
      "$ BsmtFin_SF_1       \u001b[3m\u001b[90m<dbl>\u001b[39m\u001b[23m 2, 6, 1, 3, 3, 3, 7, 7, 7, 3, 1, 3, 3, 4, 1, 2, ...\n",
      "$ BsmtFin_Type_2     \u001b[3m\u001b[90m<chr>\u001b[39m\u001b[23m \"Unf\", \"LwQ\", \"Unf\", \"Unf\", \"Unf\", \"Unf\", \"Unf\",...\n",
      "$ BsmtFin_SF_2       \u001b[3m\u001b[90m<dbl>\u001b[39m\u001b[23m 0, 144, 0, 0, 0, 0, 0, 0, 0, 0, 0, 0, 0, 0, 163,...\n",
      "$ Bsmt_Unf_SF        \u001b[3m\u001b[90m<dbl>\u001b[39m\u001b[23m 441, 270, 406, 324, 722, 415, 994, 763, 789, 663...\n",
      "$ Total_Bsmt_SF      \u001b[3m\u001b[90m<dbl>\u001b[39m\u001b[23m 1080, 882, 1329, 926, 1338, 1595, 994, 763, 789,...\n",
      "$ Heating            \u001b[3m\u001b[90m<chr>\u001b[39m\u001b[23m \"GasA\", \"GasA\", \"GasA\", \"GasA\", \"GasA\", \"GasA\", ...\n",
      "$ Heating_QC         \u001b[3m\u001b[90m<chr>\u001b[39m\u001b[23m \"Fair\", \"Typical\", \"Typical\", \"Excellent\", \"Exce...\n",
      "$ Central_Air        \u001b[3m\u001b[90m<chr>\u001b[39m\u001b[23m \"Y\", \"Y\", \"Y\", \"Y\", \"Y\", \"Y\", \"Y\", \"Y\", \"Y\", \"Y\"...\n",
      "$ Electrical         \u001b[3m\u001b[90m<chr>\u001b[39m\u001b[23m \"SBrkr\", \"SBrkr\", \"SBrkr\", \"SBrkr\", \"SBrkr\", \"SB...\n",
      "$ First_Flr_SF       \u001b[3m\u001b[90m<dbl>\u001b[39m\u001b[23m 1656, 896, 1329, 926, 1338, 1616, 1028, 763, 789...\n",
      "$ Second_Flr_SF      \u001b[3m\u001b[90m<dbl>\u001b[39m\u001b[23m 0, 0, 0, 678, 0, 0, 776, 892, 676, 0, 1589, 672,...\n",
      "$ Low_Qual_Fin_SF    \u001b[3m\u001b[90m<dbl>\u001b[39m\u001b[23m 0, 0, 0, 0, 0, 0, 0, 0, 0, 0, 0, 0, 0, 0, 0, 0, ...\n",
      "$ Gr_Liv_Area        \u001b[3m\u001b[90m<dbl>\u001b[39m\u001b[23m 1656, 896, 1329, 1604, 1338, 1616, 1804, 1655, 1...\n",
      "$ Bsmt_Full_Bath     \u001b[3m\u001b[90m<dbl>\u001b[39m\u001b[23m 1, 0, 0, 0, 1, 1, 0, 0, 0, 1, 1, 0, 1, 0, 1, 0, ...\n",
      "$ Bsmt_Half_Bath     \u001b[3m\u001b[90m<dbl>\u001b[39m\u001b[23m 0, 0, 0, 0, 0, 0, 0, 0, 0, 0, 0, 0, 0, 0, 0, 0, ...\n",
      "$ Full_Bath          \u001b[3m\u001b[90m<dbl>\u001b[39m\u001b[23m 1, 1, 1, 2, 2, 2, 2, 2, 2, 1, 3, 2, 1, 1, 2, 2, ...\n",
      "$ Half_Bath          \u001b[3m\u001b[90m<dbl>\u001b[39m\u001b[23m 0, 0, 1, 1, 0, 0, 1, 1, 1, 1, 1, 0, 1, 0, 0, 0, ...\n",
      "$ Bedroom_AbvGr      \u001b[3m\u001b[90m<dbl>\u001b[39m\u001b[23m 3, 2, 3, 3, 2, 2, 3, 3, 3, 2, 4, 4, 1, 2, 3, 3, ...\n",
      "$ Kitchen_AbvGr      \u001b[3m\u001b[90m<dbl>\u001b[39m\u001b[23m 1, 1, 1, 1, 1, 1, 1, 1, 1, 1, 1, 1, 1, 1, 1, 1, ...\n",
      "$ Kitchen_Qual       \u001b[3m\u001b[90m<chr>\u001b[39m\u001b[23m \"Typical\", \"Typical\", \"Good\", \"Good\", \"Good\", \"G...\n",
      "$ TotRms_AbvGrd      \u001b[3m\u001b[90m<dbl>\u001b[39m\u001b[23m 7, 5, 6, 7, 6, 5, 7, 7, 7, 5, 12, 8, 8, 4, 7, 7,...\n",
      "$ Functional         \u001b[3m\u001b[90m<chr>\u001b[39m\u001b[23m \"Typ\", \"Typ\", \"Typ\", \"Typ\", \"Typ\", \"Typ\", \"Typ\",...\n",
      "$ Fireplaces         \u001b[3m\u001b[90m<dbl>\u001b[39m\u001b[23m 2, 0, 0, 1, 0, 1, 1, 1, 1, 1, 1, 0, 1, 0, 2, 1, ...\n",
      "$ Fireplace_Qu       \u001b[3m\u001b[90m<chr>\u001b[39m\u001b[23m \"Good\", \"No_Fireplace\", \"No_Fireplace\", \"Good\", ...\n",
      "$ Garage_Type        \u001b[3m\u001b[90m<chr>\u001b[39m\u001b[23m \"Attchd\", \"Attchd\", \"Attchd\", \"Attchd\", \"Attchd\"...\n",
      "$ Garage_Finish      \u001b[3m\u001b[90m<chr>\u001b[39m\u001b[23m \"Fin\", \"Unf\", \"Unf\", \"Fin\", \"Fin\", \"RFn\", \"Fin\",...\n",
      "$ Garage_Cars        \u001b[3m\u001b[90m<dbl>\u001b[39m\u001b[23m 2, 1, 1, 2, 2, 2, 2, 2, 2, 2, 3, 2, 3, 2, 2, 2, ...\n",
      "$ Garage_Area        \u001b[3m\u001b[90m<dbl>\u001b[39m\u001b[23m 528, 730, 312, 470, 582, 608, 442, 440, 393, 506...\n",
      "$ Garage_Qual        \u001b[3m\u001b[90m<chr>\u001b[39m\u001b[23m \"Typical\", \"Typical\", \"Typical\", \"Typical\", \"Typ...\n",
      "$ Garage_Cond        \u001b[3m\u001b[90m<chr>\u001b[39m\u001b[23m \"Typical\", \"Typical\", \"Typical\", \"Typical\", \"Typ...\n",
      "$ Paved_Drive        \u001b[3m\u001b[90m<chr>\u001b[39m\u001b[23m \"Partial_Pavement\", \"Paved\", \"Paved\", \"Paved\", \"...\n",
      "$ Wood_Deck_SF       \u001b[3m\u001b[90m<dbl>\u001b[39m\u001b[23m 210, 140, 393, 360, 0, 237, 140, 157, 0, 192, 50...\n",
      "$ Open_Porch_SF      \u001b[3m\u001b[90m<dbl>\u001b[39m\u001b[23m 62, 0, 36, 36, 0, 152, 60, 84, 75, 0, 36, 12, 0,...\n",
      "$ Enclosed_Porch     \u001b[3m\u001b[90m<dbl>\u001b[39m\u001b[23m 0, 0, 0, 0, 170, 0, 0, 0, 0, 0, 0, 0, 0, 0, 0, 0...\n",
      "$ Three_season_porch \u001b[3m\u001b[90m<dbl>\u001b[39m\u001b[23m 0, 0, 0, 0, 0, 0, 0, 0, 0, 0, 0, 0, 0, 0, 0, 0, ...\n",
      "$ Screen_Porch       \u001b[3m\u001b[90m<dbl>\u001b[39m\u001b[23m 0, 120, 0, 0, 0, 0, 0, 0, 0, 0, 210, 0, 0, 0, 0,...\n",
      "$ Pool_Area          \u001b[3m\u001b[90m<dbl>\u001b[39m\u001b[23m 0, 0, 0, 0, 0, 0, 0, 0, 0, 0, 0, 0, 0, 0, 0, 0, ...\n",
      "$ Pool_QC            \u001b[3m\u001b[90m<chr>\u001b[39m\u001b[23m \"No_Pool\", \"No_Pool\", \"No_Pool\", \"No_Pool\", \"No_...\n",
      "$ Fence              \u001b[3m\u001b[90m<chr>\u001b[39m\u001b[23m \"No_Fence\", \"Minimum_Privacy\", \"No_Fence\", \"No_F...\n",
      "$ Misc_Feature       \u001b[3m\u001b[90m<chr>\u001b[39m\u001b[23m \"None\", \"None\", \"Gar2\", \"None\", \"None\", \"None\", ...\n",
      "$ Misc_Val           \u001b[3m\u001b[90m<dbl>\u001b[39m\u001b[23m 0, 0, 12500, 0, 0, 0, 0, 0, 0, 0, 0, 0, 0, 0, 0,...\n",
      "$ Mo_Sold            \u001b[3m\u001b[90m<dbl>\u001b[39m\u001b[23m 5, 6, 6, 6, 4, 3, 6, 4, 5, 2, 6, 6, 6, 6, 2, 1, ...\n",
      "$ Year_Sold          \u001b[3m\u001b[90m<dbl>\u001b[39m\u001b[23m 2010, 2010, 2010, 2010, 2010, 2010, 2010, 2010, ...\n",
      "$ Sale_Type          \u001b[3m\u001b[90m<chr>\u001b[39m\u001b[23m \"WD\", \"WD\", \"WD\", \"WD\", \"WD\", \"WD\", \"WD\", \"WD\", ...\n",
      "$ Sale_Condition     \u001b[3m\u001b[90m<chr>\u001b[39m\u001b[23m \"Normal\", \"Normal\", \"Normal\", \"Normal\", \"Normal\"...\n",
      "$ Sale_Price         \u001b[3m\u001b[90m<dbl>\u001b[39m\u001b[23m 215000, 105000, 172000, 195500, 213500, 236500, ...\n",
      "$ Longitude          \u001b[3m\u001b[90m<dbl>\u001b[39m\u001b[23m -93.61975, -93.61976, -93.61939, -93.63893, -93....\n",
      "$ Latitude           \u001b[3m\u001b[90m<dbl>\u001b[39m\u001b[23m 42.05403, 42.05301, 42.05266, 42.06078, 42.06298...\n",
      "$ .fitted            \u001b[3m\u001b[90m<dbl>\u001b[39m\u001b[23m 198967.6, 111661.8, 161403.1, 192994.0, 162437.0...\n",
      "$ .std.resid         \u001b[3m\u001b[90m<dbl>\u001b[39m\u001b[23m 0.28281078, -0.11755387, 0.18692891, 0.04420466,...\n",
      "$ .hat               \u001b[3m\u001b[90m<dbl>\u001b[39m\u001b[23m 0.0005358559, 0.0012129267, 0.0005450547, 0.0005...\n",
      "$ .sigma             \u001b[3m\u001b[90m<dbl>\u001b[39m\u001b[23m 56717.51, 56718.42, 56718.13, 56718.58, 56707.39...\n",
      "$ .cooksd            \u001b[3m\u001b[90m<dbl>\u001b[39m\u001b[23m 2.144089e-05, 8.390842e-06, 9.527958e-06, 4.9738...\n"
     ]
    }
   ],
   "source": [
    "glimpse(df1)"
   ]
  },
  {
   "cell_type": "code",
   "execution_count": 17,
   "metadata": {},
   "outputs": [
    {
     "name": "stderr",
     "output_type": "stream",
     "text": [
      "Warning message:\n",
      "\"Removed 18 rows containing missing values (geom_point).\"\n"
     ]
    },
    {
     "data": {
      "image/png": "[encoded data removed]",
      "text/plain": [
       "plot without title"
      ]
     },
     "metadata": {
      "image/png": {
       "height": 420,
       "width": 420
      }
     },
     "output_type": "display_data"
    }
   ],
   "source": [
    "# Check for autocorrelation\n",
    "\n",
    "df1 <- mutate(df1, id = row_number())\n",
    "\n",
    "df2 <- mutate(df2, id = row_number())\n",
    "p1 <- ggplot(df1, aes(id, .std.resid)) +\n",
    "geom_point(size = 1, alpha = .4) +\n",
    "xlab(\"Row ID\") +\n",
    "ylab(\"Residuals\") +\n",
    "ggtitle(\"Model 1\", subtitle = \"Correlated residuals.\")\n",
    "p2 <- ggplot(df2, aes(id, .std.resid)) +\n",
    "geom_point(size = 1, alpha = .4) +\n",
    "xlab(\"Row ID\") +\n",
    "ylab(\"Residuals\") +\n",
    "ggtitle(\"Model 3\", subtitle = \"Uncorrelated residuals.\")\n",
    "gridExtra::grid.arrange(p1, p2, nrow = 1)"
   ]
  },
  {
   "cell_type": "code",
   "execution_count": 18,
   "metadata": {},
   "outputs": [
    {
     "data": {
      "text/html": [
       "<table>\n",
       "<caption>A tibble: 2 × 5</caption>\n",
       "<thead>\n",
       "\t<tr><th scope=col>term</th><th scope=col>estimate</th><th scope=col>std.error</th><th scope=col>statistic</th><th scope=col>p.value</th></tr>\n",
       "\t<tr><th scope=col>&lt;chr&gt;</th><th scope=col>&lt;dbl&gt;</th><th scope=col>&lt;dbl&gt;</th><th scope=col>&lt;dbl&gt;</th><th scope=col>&lt;dbl&gt;</th></tr>\n",
       "</thead>\n",
       "<tbody>\n",
       "\t<tr><td>Garage_Cars</td><td>3020.85403</td><td>1771.093788</td><td>1.705643</td><td>0.088249983</td></tr>\n",
       "\t<tr><td>Garage_Area</td><td>  19.67727</td><td>   6.029965</td><td>3.263248</td><td>0.001122415</td></tr>\n",
       "</tbody>\n",
       "</table>\n"
      ],
      "text/latex": [
       "A tibble: 2 × 5\n",
       "\\begin{tabular}{lllll}\n",
       " term & estimate & std.error & statistic & p.value\\\\\n",
       " <chr> & <dbl> & <dbl> & <dbl> & <dbl>\\\\\n",
       "\\hline\n",
       "\t Garage\\_Cars & 3020.85403 & 1771.093788 & 1.705643 & 0.088249983\\\\\n",
       "\t Garage\\_Area &   19.67727 &    6.029965 & 3.263248 & 0.001122415\\\\\n",
       "\\end{tabular}\n"
      ],
      "text/markdown": [
       "\n",
       "A tibble: 2 × 5\n",
       "\n",
       "| term &lt;chr&gt; | estimate &lt;dbl&gt; | std.error &lt;dbl&gt; | statistic &lt;dbl&gt; | p.value &lt;dbl&gt; |\n",
       "|---|---|---|---|---|\n",
       "| Garage_Cars | 3020.85403 | 1771.093788 | 1.705643 | 0.088249983 |\n",
       "| Garage_Area |   19.67727 |    6.029965 | 3.263248 | 0.001122415 |\n",
       "\n"
      ],
      "text/plain": [
       "  term        estimate   std.error   statistic p.value    \n",
       "1 Garage_Cars 3020.85403 1771.093788 1.705643  0.088249983\n",
       "2 Garage_Area   19.67727    6.029965 3.263248  0.001122415"
      ]
     },
     "metadata": {},
     "output_type": "display_data"
    }
   ],
   "source": [
    "# fit with two strongly correlated variables\n",
    "summary(cv_model3) %>%\n",
    "    broom::tidy() %>%\n",
    "    filter(term %in% c(\"Garage_Area\", \"Garage_Cars\"))"
   ]
  },
  {
   "cell_type": "markdown",
   "metadata": {},
   "source": [
    "However, if we refit the full model without Garage_Cars, the coefficient estimate\n",
    "for Garage_Area increases two fold and becomes statistically significant"
   ]
  },
  {
   "cell_type": "code",
   "execution_count": 20,
   "metadata": {},
   "outputs": [
    {
     "name": "stderr",
     "output_type": "stream",
     "text": [
      "Warning message in predict.lm(modelFit, newdata):\n",
      "\"prediction from a rank-deficient fit may be misleading\"\n",
      "Warning message in predict.lm(modelFit, newdata):\n",
      "\"prediction from a rank-deficient fit may be misleading\"\n",
      "Warning message in predict.lm(modelFit, newdata):\n",
      "\"prediction from a rank-deficient fit may be misleading\"\n",
      "Warning message in predict.lm(modelFit, newdata):\n",
      "\"prediction from a rank-deficient fit may be misleading\"\n",
      "Warning message in predict.lm(modelFit, newdata):\n",
      "\"prediction from a rank-deficient fit may be misleading\"\n",
      "Warning message in predict.lm(modelFit, newdata):\n",
      "\"prediction from a rank-deficient fit may be misleading\"\n",
      "Warning message in predict.lm(modelFit, newdata):\n",
      "\"prediction from a rank-deficient fit may be misleading\"\n",
      "Warning message in predict.lm(modelFit, newdata):\n",
      "\"prediction from a rank-deficient fit may be misleading\"\n",
      "Warning message in predict.lm(modelFit, newdata):\n",
      "\"prediction from a rank-deficient fit may be misleading\"\n",
      "Warning message in predict.lm(modelFit, newdata):\n",
      "\"prediction from a rank-deficient fit may be misleading\"\n"
     ]
    },
    {
     "data": {
      "text/html": [
       "<table>\n",
       "<caption>A tibble: 1 × 5</caption>\n",
       "<thead>\n",
       "\t<tr><th scope=col>term</th><th scope=col>estimate</th><th scope=col>std.error</th><th scope=col>statistic</th><th scope=col>p.value</th></tr>\n",
       "\t<tr><th scope=col>&lt;chr&gt;</th><th scope=col>&lt;dbl&gt;</th><th scope=col>&lt;dbl&gt;</th><th scope=col>&lt;dbl&gt;</th><th scope=col>&lt;dbl&gt;</th></tr>\n",
       "</thead>\n",
       "<tbody>\n",
       "\t<tr><td>Garage_Area</td><td>27.04567</td><td>4.209165</td><td>6.425423</td><td>1.685745e-10</td></tr>\n",
       "</tbody>\n",
       "</table>\n"
      ],
      "text/latex": [
       "A tibble: 1 × 5\n",
       "\\begin{tabular}{lllll}\n",
       " term & estimate & std.error & statistic & p.value\\\\\n",
       " <chr> & <dbl> & <dbl> & <dbl> & <dbl>\\\\\n",
       "\\hline\n",
       "\t Garage\\_Area & 27.04567 & 4.209165 & 6.425423 & 1.685745e-10\\\\\n",
       "\\end{tabular}\n"
      ],
      "text/markdown": [
       "\n",
       "A tibble: 1 × 5\n",
       "\n",
       "| term &lt;chr&gt; | estimate &lt;dbl&gt; | std.error &lt;dbl&gt; | statistic &lt;dbl&gt; | p.value &lt;dbl&gt; |\n",
       "|---|---|---|---|---|\n",
       "| Garage_Area | 27.04567 | 4.209165 | 6.425423 | 1.685745e-10 |\n",
       "\n"
      ],
      "text/plain": [
       "  term        estimate std.error statistic p.value     \n",
       "1 Garage_Area 27.04567 4.209165  6.425423  1.685745e-10"
      ]
     },
     "metadata": {},
     "output_type": "display_data"
    }
   ],
   "source": [
    "# model without Garage_Area\n",
    "set.seed(123)\n",
    "\n",
    "mod_wo_Garage_Cars <- train(\n",
    "    Sale_Price ~ .,\n",
    "    data = select(ames_train, -Garage_Cars),\n",
    "    method = \"lm\",\n",
    "    trControl = trainControl(method = \"cv\", number = 10)\n",
    "    )\n",
    "\n",
    "summary(mod_wo_Garage_Cars) %>%\n",
    "    broom::tidy() %>%\n",
    "    filter(term == \"Garage_Area\")"
   ]
  },
  {
   "cell_type": "markdown",
   "metadata": {},
   "source": [
    "Principal component regression -- feed the factor scores in as regression predictors\n",
    "\n",
    "Performing PCR with caret is an easy extension from our previous model.\n",
    "We simply specify method = ”pcr” within train() to perform PCA on all our\n",
    "numeric predictors prior to fitting the model."
   ]
  },
  {
   "cell_type": "code",
   "execution_count": 21,
   "metadata": {},
   "outputs": [
    {
     "name": "stderr",
     "output_type": "stream",
     "text": [
      "Warning message in predict.lm(modelFit, newdata):\n",
      "\"prediction from a rank-deficient fit may be misleading\"\n",
      "Warning message in predict.lm(modelFit, newdata):\n",
      "\"prediction from a rank-deficient fit may be misleading\"\n",
      "Warning message in predict.lm(modelFit, newdata):\n",
      "\"prediction from a rank-deficient fit may be misleading\"\n",
      "Warning message in predict.lm(modelFit, newdata):\n",
      "\"prediction from a rank-deficient fit may be misleading\"\n",
      "Warning message in predict.lm(modelFit, newdata):\n",
      "\"prediction from a rank-deficient fit may be misleading\"\n",
      "Warning message in predict.lm(modelFit, newdata):\n",
      "\"prediction from a rank-deficient fit may be misleading\"\n",
      "Warning message in predict.lm(modelFit, newdata):\n",
      "\"prediction from a rank-deficient fit may be misleading\"\n",
      "Warning message in predict.lm(modelFit, newdata):\n",
      "\"prediction from a rank-deficient fit may be misleading\"\n",
      "Warning message in predict.lm(modelFit, newdata):\n",
      "\"prediction from a rank-deficient fit may be misleading\"\n",
      "Warning message in predict.lm(modelFit, newdata):\n",
      "\"prediction from a rank-deficient fit may be misleading\"\n"
     ]
    },
    {
     "data": {
      "text/html": [
       "<table>\n",
       "<caption>A tibble: 1 × 5</caption>\n",
       "<thead>\n",
       "\t<tr><th scope=col>term</th><th scope=col>estimate</th><th scope=col>std.error</th><th scope=col>statistic</th><th scope=col>p.value</th></tr>\n",
       "\t<tr><th scope=col>&lt;chr&gt;</th><th scope=col>&lt;dbl&gt;</th><th scope=col>&lt;dbl&gt;</th><th scope=col>&lt;dbl&gt;</th><th scope=col>&lt;dbl&gt;</th></tr>\n",
       "</thead>\n",
       "<tbody>\n",
       "\t<tr><td>Garage_Area</td><td>27.04567</td><td>4.209165</td><td>6.425423</td><td>1.685745e-10</td></tr>\n",
       "</tbody>\n",
       "</table>\n"
      ],
      "text/latex": [
       "A tibble: 1 × 5\n",
       "\\begin{tabular}{lllll}\n",
       " term & estimate & std.error & statistic & p.value\\\\\n",
       " <chr> & <dbl> & <dbl> & <dbl> & <dbl>\\\\\n",
       "\\hline\n",
       "\t Garage\\_Area & 27.04567 & 4.209165 & 6.425423 & 1.685745e-10\\\\\n",
       "\\end{tabular}\n"
      ],
      "text/markdown": [
       "\n",
       "A tibble: 1 × 5\n",
       "\n",
       "| term &lt;chr&gt; | estimate &lt;dbl&gt; | std.error &lt;dbl&gt; | statistic &lt;dbl&gt; | p.value &lt;dbl&gt; |\n",
       "|---|---|---|---|---|\n",
       "| Garage_Area | 27.04567 | 4.209165 | 6.425423 | 1.685745e-10 |\n",
       "\n"
      ],
      "text/plain": [
       "  term        estimate std.error statistic p.value     \n",
       "1 Garage_Area 27.04567 4.209165  6.425423  1.685745e-10"
      ]
     },
     "metadata": {},
     "output_type": "display_data"
    }
   ],
   "source": [
    "# model without Garage_Area\n",
    "\n",
    "set.seed(123)\n",
    "\n",
    "mod_wo_Garage_Cars <- train(\n",
    "    Sale_Price ~ .,\n",
    "    data = select(ames_train, -Garage_Cars),\n",
    "    method = \"lm\",\n",
    "    trControl = trainControl(method = \"cv\", number = 10)\n",
    ")\n",
    "\n",
    "summary(mod_wo_Garage_Cars) %>%\n",
    "    broom::tidy() %>%\n",
    "    filter(term == \"Garage_Area\")"
   ]
  },
  {
   "cell_type": "markdown",
   "metadata": {},
   "source": [
    "## Partial least squares"
   ]
  },
  {
   "cell_type": "code",
   "execution_count": 25,
   "metadata": {},
   "outputs": [
    {
     "data": {
      "text/html": [
       "<table>\n",
       "<caption>A data.frame: 1 × 1</caption>\n",
       "<thead>\n",
       "\t<tr><th></th><th scope=col>ncomp</th></tr>\n",
       "\t<tr><th></th><th scope=col>&lt;dbl&gt;</th></tr>\n",
       "</thead>\n",
       "<tbody>\n",
       "\t<tr><th scope=row>16</th><td>16</td></tr>\n",
       "</tbody>\n",
       "</table>\n"
      ],
      "text/latex": [
       "A data.frame: 1 × 1\n",
       "\\begin{tabular}{r|l}\n",
       "  & ncomp\\\\\n",
       "  & <dbl>\\\\\n",
       "\\hline\n",
       "\t16 & 16\\\\\n",
       "\\end{tabular}\n"
      ],
      "text/markdown": [
       "\n",
       "A data.frame: 1 × 1\n",
       "\n",
       "| <!--/--> | ncomp &lt;dbl&gt; |\n",
       "|---|---|\n",
       "| 16 | 16 |\n",
       "\n"
      ],
      "text/plain": [
       "   ncomp\n",
       "16 16   "
      ]
     },
     "metadata": {},
     "output_type": "display_data"
    },
    {
     "data": {
      "image/png": "[encoded data removed]",
      "text/plain": [
       "plot without title"
      ]
     },
     "metadata": {
      "image/png": {
       "height": 420,
       "width": 420
      }
     },
     "output_type": "display_data"
    }
   ],
   "source": [
    "# perform 10-fold cross validation on a PLS model tuning the\n",
    "# number of principal components to use as predictors from 1-20\n",
    "set.seed(123)\n",
    "\n",
    "cv_model_pls <- train(\n",
    "    Sale_Price ~ .,\n",
    "    data = ames_train,\n",
    "    method = \"pls\",\n",
    "    trControl = trainControl(method = \"cv\", number = 10),\n",
    "    preProcess = c(\"zv\", \"center\", \"scale\"),\n",
    "    tuneLength = 20\n",
    ")\n",
    "\n",
    "# model with lowest RMSE\n",
    "cv_model_pls$bestTune\n",
    "\n",
    "# plot cross-validated RMSE\n",
    "ggplot(cv_model_pls)"
   ]
  },
  {
   "cell_type": "markdown",
   "metadata": {},
   "source": [
    "We can use vip::vip() to extract and plot the most important variables. The\n",
    "importance measure is normalized from 100 (most important) to 0 (least\n",
    "important)."
   ]
  },
  {
   "cell_type": "code",
   "execution_count": 27,
   "metadata": {},
   "outputs": [
    {
     "name": "stderr",
     "output_type": "stream",
     "text": [
      "Warning message:\n",
      "\"package 'pls' was built under R version 4.0.3\"\n",
      "\n",
      "Attaching package: 'pls'\n",
      "\n",
      "\n",
      "The following object is masked from 'package:caret':\n",
      "\n",
      "    R2\n",
      "\n",
      "\n",
      "The following object is masked from 'package:stats':\n",
      "\n",
      "    loadings\n",
      "\n",
      "\n"
     ]
    },
    {
     "data": {
      "image/png": "[encoded data removed]",
      "text/plain": [
       "plot without title"
      ]
     },
     "metadata": {
      "image/png": {
       "height": 420,
       "width": 420
      }
     },
     "output_type": "display_data"
    }
   ],
   "source": [
    "vip(cv_model_pls, num_features = 20, method = \"model\")"
   ]
  },
  {
   "cell_type": "markdown",
   "metadata": {},
   "source": [
    "we can construct partial dependence plots (PDPs).\n",
    "PDPs plot the change in the average predicted value (𝑦)̂ as specified feature(s)\n",
    "vary over their marginal distribution."
   ]
  },
  {
   "cell_type": "code",
   "execution_count": 31,
   "metadata": {},
   "outputs": [
    {
     "data": {
      "image/png": "[encoded data removed]",
      "text/plain": [
       "plot without title"
      ]
     },
     "metadata": {
      "image/png": {
       "height": 420,
       "width": 420
      }
     },
     "output_type": "display_data"
    }
   ],
   "source": [
    "pdp::partial(cv_model_pls, \"Gr_Liv_Area\", grid.resolution = 20, plot = TRUE)"
   ]
  },
  {
   "cell_type": "code",
   "execution_count": null,
   "metadata": {},
   "outputs": [],
   "source": []
  }
 ],
 "metadata": {
  "kernelspec": {
   "display_name": "R",
   "language": "R",
   "name": "ir"
  },
  "language_info": {
   "codemirror_mode": "r",
   "file_extension": ".r",
   "mimetype": "text/x-r-source",
   "name": "R",
   "pygments_lexer": "r",
   "version": "4.0.2"
  }
 },
 "nbformat": 4,
 "nbformat_minor": 4
}
