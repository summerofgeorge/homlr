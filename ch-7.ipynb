{
 "cells": [
  {
   "cell_type": "code",
   "execution_count": 5,
   "metadata": {},
   "outputs": [
    {
     "name": "stderr",
     "output_type": "stream",
     "text": [
      "-- \u001b[1mAttaching packages\u001b[22m --------------------------------------- tidyverse 1.3.0 --\n",
      "\n",
      "\u001b[32mv\u001b[39m \u001b[34mtibble \u001b[39m 3.0.4     \u001b[32mv\u001b[39m \u001b[34mpurrr  \u001b[39m 0.3.4\n",
      "\u001b[32mv\u001b[39m \u001b[34mtidyr  \u001b[39m 1.1.2     \u001b[32mv\u001b[39m \u001b[34mstringr\u001b[39m 1.4.0\n",
      "\u001b[32mv\u001b[39m \u001b[34mreadr  \u001b[39m 1.3.1     \u001b[32mv\u001b[39m \u001b[34mforcats\u001b[39m 0.5.0\n",
      "\n",
      "Warning message:\n",
      "\"package 'tibble' was built under R version 4.0.3\"\n",
      "-- \u001b[1mConflicts\u001b[22m ------------------------------------------ tidyverse_conflicts() --\n",
      "\u001b[31mx\u001b[39m \u001b[34mdplyr\u001b[39m::\u001b[32mfilter()\u001b[39m  masks \u001b[34mstats\u001b[39m::filter()\n",
      "\u001b[31mx\u001b[39m \u001b[34mdplyr\u001b[39m::\u001b[32mlag()\u001b[39m     masks \u001b[34mstats\u001b[39m::lag()\n",
      "\u001b[31mx\u001b[39m \u001b[34mpurrr\u001b[39m::\u001b[32mlift()\u001b[39m    masks \u001b[34mcaret\u001b[39m::lift()\n",
      "\u001b[31mx\u001b[39m \u001b[34mpurrr\u001b[39m::\u001b[32mpartial()\u001b[39m masks \u001b[34mpdp\u001b[39m::partial()\n",
      "\n"
     ]
    }
   ],
   "source": [
    "# Helper packages\n",
    "library(tidyverse)\n",
    "library(rsample) # for data splitting\n",
    "# Modeling packages\n",
    "library(earth) # for fitting MARS models\n",
    "library(caret) # for automating the tuning process\n",
    "\n",
    "library(vip) # for variable importance\n",
    "library(pdp) # for variable relationships"
   ]
  },
  {
   "cell_type": "code",
   "execution_count": 6,
   "metadata": {},
   "outputs": [
    {
     "name": "stderr",
     "output_type": "stream",
     "text": [
      "Parsed with column specification:\n",
      "cols(\n",
      "  .default = col_character(),\n",
      "  Lot_Frontage = \u001b[32mcol_double()\u001b[39m,\n",
      "  Lot_Area = \u001b[32mcol_double()\u001b[39m,\n",
      "  Year_Built = \u001b[32mcol_double()\u001b[39m,\n",
      "  Year_Remod_Add = \u001b[32mcol_double()\u001b[39m,\n",
      "  Mas_Vnr_Area = \u001b[32mcol_double()\u001b[39m,\n",
      "  BsmtFin_SF_1 = \u001b[32mcol_double()\u001b[39m,\n",
      "  BsmtFin_SF_2 = \u001b[32mcol_double()\u001b[39m,\n",
      "  Bsmt_Unf_SF = \u001b[32mcol_double()\u001b[39m,\n",
      "  Total_Bsmt_SF = \u001b[32mcol_double()\u001b[39m,\n",
      "  First_Flr_SF = \u001b[32mcol_double()\u001b[39m,\n",
      "  Second_Flr_SF = \u001b[32mcol_double()\u001b[39m,\n",
      "  Low_Qual_Fin_SF = \u001b[32mcol_double()\u001b[39m,\n",
      "  Gr_Liv_Area = \u001b[32mcol_double()\u001b[39m,\n",
      "  Bsmt_Full_Bath = \u001b[32mcol_double()\u001b[39m,\n",
      "  Bsmt_Half_Bath = \u001b[32mcol_double()\u001b[39m,\n",
      "  Full_Bath = \u001b[32mcol_double()\u001b[39m,\n",
      "  Half_Bath = \u001b[32mcol_double()\u001b[39m,\n",
      "  Bedroom_AbvGr = \u001b[32mcol_double()\u001b[39m,\n",
      "  Kitchen_AbvGr = \u001b[32mcol_double()\u001b[39m,\n",
      "  TotRms_AbvGrd = \u001b[32mcol_double()\u001b[39m\n",
      "  # ... with 15 more columns\n",
      ")\n",
      "\n",
      "See spec(...) for full column specifications.\n",
      "\n"
     ]
    }
   ],
   "source": [
    "ames <- read_csv('data/ames.csv')\n",
    "set.seed(123)\n",
    "split <- initial_split(ames, prop = 0.7,\n",
    "strata = \"Sale_Price\")\n",
    "ames_train <- training(split)\n",
    "ames_test <- testing(split)"
   ]
  },
  {
   "cell_type": "code",
   "execution_count": 7,
   "metadata": {},
   "outputs": [
    {
     "name": "stdout",
     "output_type": "stream",
     "text": [
      "Selected 36 of 40 terms, and 28 of 291 predictors\n",
      "Termination condition: RSq changed by less than 0.001 at 40 terms\n",
      "Importance: Gr_Liv_Area, Year_Built, Total_Bsmt_SF, Overall_QualExcellent, ...\n",
      "Number of terms at each degree of interaction: 1 35 (additive model)\n",
      "GCV 547654257    RSS 1.047912e+12    GRSq 0.9150216    RSq 0.9207205\n"
     ]
    }
   ],
   "source": [
    "# Fit a basic MARS model\n",
    "mars1 <- earth(\n",
    "Sale_Price ~ .,\n",
    "data = ames_train\n",
    ")\n",
    "# Print model summary\n",
    "print(mars1)"
   ]
  },
  {
   "cell_type": "markdown",
   "metadata": {},
   "source": [
    "The vertical dashed lined at 36 tells us\n",
    "the optimal number of non-intercept terms retained where marginal increases\n",
    "in GCV 𝑅2 are less than 0.001."
   ]
  },
  {
   "cell_type": "code",
   "execution_count": 9,
   "metadata": {},
   "outputs": [
    {
     "data": {
      "image/png": "[encoded data removed]",
      "text/plain": [
       "Plot with title \"Model Selection\""
      ]
     },
     "metadata": {
      "image/png": {
       "height": 420,
       "width": 420
      }
     },
     "output_type": "display_data"
    }
   ],
   "source": [
    "plot(mars1, which=1)"
   ]
  },
  {
   "cell_type": "code",
   "execution_count": 10,
   "metadata": {},
   "outputs": [
    {
     "data": {
      "text/html": [
       "<table>\n",
       "<caption>A matrix: 10 × 1 of type dbl</caption>\n",
       "<thead>\n",
       "\t<tr><th></th><th scope=col>Sale_Price</th></tr>\n",
       "</thead>\n",
       "<tbody>\n",
       "\t<tr><th scope=row>(Intercept)</th><td> 2.540927e+05</td></tr>\n",
       "\t<tr><th scope=row>h(Gr_Liv_Area-2787)</th><td>-1.593725e+02</td></tr>\n",
       "\t<tr><th scope=row>h(2787-Gr_Liv_Area)</th><td>-4.979191e+01</td></tr>\n",
       "\t<tr><th scope=row>h(Year_Built-2004)</th><td> 4.378076e+03</td></tr>\n",
       "\t<tr><th scope=row>h(2004-Year_Built)</th><td>-6.146599e+02</td></tr>\n",
       "\t<tr><th scope=row>h(Total_Bsmt_SF-1298)</th><td> 8.598767e+01</td></tr>\n",
       "\t<tr><th scope=row>h(1298-Total_Bsmt_SF)</th><td>-4.217897e+01</td></tr>\n",
       "\t<tr><th scope=row>h(Bsmt_Unf_SF-1017)*h(2787-Gr_Liv_Area)</th><td>-2.371253e-02</td></tr>\n",
       "\t<tr><th scope=row>h(1017-Bsmt_Unf_SF)*h(2787-Gr_Liv_Area)</th><td> 1.069393e-02</td></tr>\n",
       "\t<tr><th scope=row>Condition_1Norm*h(Gr_Liv_Area-2787)</th><td> 2.906994e+02</td></tr>\n",
       "</tbody>\n",
       "</table>\n"
      ],
      "text/latex": [
       "A matrix: 10 × 1 of type dbl\n",
       "\\begin{tabular}{r|l}\n",
       "  & Sale\\_Price\\\\\n",
       "\\hline\n",
       "\t(Intercept) &  2.540927e+05\\\\\n",
       "\th(Gr\\_Liv\\_Area-2787) & -1.593725e+02\\\\\n",
       "\th(2787-Gr\\_Liv\\_Area) & -4.979191e+01\\\\\n",
       "\th(Year\\_Built-2004) &  4.378076e+03\\\\\n",
       "\th(2004-Year\\_Built) & -6.146599e+02\\\\\n",
       "\th(Total\\_Bsmt\\_SF-1298) &  8.598767e+01\\\\\n",
       "\th(1298-Total\\_Bsmt\\_SF) & -4.217897e+01\\\\\n",
       "\th(Bsmt\\_Unf\\_SF-1017)*h(2787-Gr\\_Liv\\_Area) & -2.371253e-02\\\\\n",
       "\th(1017-Bsmt\\_Unf\\_SF)*h(2787-Gr\\_Liv\\_Area) &  1.069393e-02\\\\\n",
       "\tCondition\\_1Norm*h(Gr\\_Liv\\_Area-2787) &  2.906994e+02\\\\\n",
       "\\end{tabular}\n"
      ],
      "text/markdown": [
       "\n",
       "A matrix: 10 × 1 of type dbl\n",
       "\n",
       "| <!--/--> | Sale_Price |\n",
       "|---|---|\n",
       "| (Intercept) |  2.540927e+05 |\n",
       "| h(Gr_Liv_Area-2787) | -1.593725e+02 |\n",
       "| h(2787-Gr_Liv_Area) | -4.979191e+01 |\n",
       "| h(Year_Built-2004) |  4.378076e+03 |\n",
       "| h(2004-Year_Built) | -6.146599e+02 |\n",
       "| h(Total_Bsmt_SF-1298) |  8.598767e+01 |\n",
       "| h(1298-Total_Bsmt_SF) | -4.217897e+01 |\n",
       "| h(Bsmt_Unf_SF-1017)*h(2787-Gr_Liv_Area) | -2.371253e-02 |\n",
       "| h(1017-Bsmt_Unf_SF)*h(2787-Gr_Liv_Area) |  1.069393e-02 |\n",
       "| Condition_1Norm*h(Gr_Liv_Area-2787) |  2.906994e+02 |\n",
       "\n"
      ],
      "text/plain": [
       "                                        Sale_Price   \n",
       "(Intercept)                              2.540927e+05\n",
       "h(Gr_Liv_Area-2787)                     -1.593725e+02\n",
       "h(2787-Gr_Liv_Area)                     -4.979191e+01\n",
       "h(Year_Built-2004)                       4.378076e+03\n",
       "h(2004-Year_Built)                      -6.146599e+02\n",
       "h(Total_Bsmt_SF-1298)                    8.598767e+01\n",
       "h(1298-Total_Bsmt_SF)                   -4.217897e+01\n",
       "h(Bsmt_Unf_SF-1017)*h(2787-Gr_Liv_Area) -2.371253e-02\n",
       "h(1017-Bsmt_Unf_SF)*h(2787-Gr_Liv_Area)  1.069393e-02\n",
       "Condition_1Norm*h(Gr_Liv_Area-2787)      2.906994e+02"
      ]
     },
     "metadata": {},
     "output_type": "display_data"
    }
   ],
   "source": [
    "# Include interaction effects: use degree = 2\n",
    "\n",
    "# Fit a basic MARS model\n",
    "mars2 <- earth(\n",
    "Sale_Price ~ .,\n",
    "data = ames_train, \n",
    "    degree = 2)\n",
    "\n",
    "# check out the first 10 coefficient terms\n",
    "summary(mars2) %>% .$coefficients %>% head(10)\n"
   ]
  },
  {
   "cell_type": "markdown",
   "metadata": {},
   "source": [
    "There are two important tuning parameters associated with our MARS model:\n",
    "the maximum degree of interactions and the number of terms retained in\n",
    "the final model.\n",
    "\n",
    "we set up a grid that assesses 30 different combinations\n",
    "of interaction complexity (degree) and the number of terms to retain\n",
    "in the final model (nprune)."
   ]
  },
  {
   "cell_type": "code",
   "execution_count": 11,
   "metadata": {},
   "outputs": [
    {
     "data": {
      "text/html": [
       "<table>\n",
       "<caption>A data.frame: 6 × 2</caption>\n",
       "<thead>\n",
       "\t<tr><th></th><th scope=col>degree</th><th scope=col>nprune</th></tr>\n",
       "\t<tr><th></th><th scope=col>&lt;int&gt;</th><th scope=col>&lt;dbl&gt;</th></tr>\n",
       "</thead>\n",
       "<tbody>\n",
       "\t<tr><th scope=row>1</th><td>1</td><td> 2</td></tr>\n",
       "\t<tr><th scope=row>2</th><td>2</td><td> 2</td></tr>\n",
       "\t<tr><th scope=row>3</th><td>3</td><td> 2</td></tr>\n",
       "\t<tr><th scope=row>4</th><td>1</td><td>12</td></tr>\n",
       "\t<tr><th scope=row>5</th><td>2</td><td>12</td></tr>\n",
       "\t<tr><th scope=row>6</th><td>3</td><td>12</td></tr>\n",
       "</tbody>\n",
       "</table>\n"
      ],
      "text/latex": [
       "A data.frame: 6 × 2\n",
       "\\begin{tabular}{r|ll}\n",
       "  & degree & nprune\\\\\n",
       "  & <int> & <dbl>\\\\\n",
       "\\hline\n",
       "\t1 & 1 &  2\\\\\n",
       "\t2 & 2 &  2\\\\\n",
       "\t3 & 3 &  2\\\\\n",
       "\t4 & 1 & 12\\\\\n",
       "\t5 & 2 & 12\\\\\n",
       "\t6 & 3 & 12\\\\\n",
       "\\end{tabular}\n"
      ],
      "text/markdown": [
       "\n",
       "A data.frame: 6 × 2\n",
       "\n",
       "| <!--/--> | degree &lt;int&gt; | nprune &lt;dbl&gt; |\n",
       "|---|---|---|\n",
       "| 1 | 1 |  2 |\n",
       "| 2 | 2 |  2 |\n",
       "| 3 | 3 |  2 |\n",
       "| 4 | 1 | 12 |\n",
       "| 5 | 2 | 12 |\n",
       "| 6 | 3 | 12 |\n",
       "\n"
      ],
      "text/plain": [
       "  degree nprune\n",
       "1 1       2    \n",
       "2 2       2    \n",
       "3 3       2    \n",
       "4 1      12    \n",
       "5 2      12    \n",
       "6 3      12    "
      ]
     },
     "metadata": {},
     "output_type": "display_data"
    }
   ],
   "source": [
    "# create a tuning grid\n",
    "hyper_grid <- expand.grid(\n",
    "degree = 1:3,\n",
    "nprune = seq(2, 100, length.out = 10) %>% floor()\n",
    ")\n",
    "head(hyper_grid)"
   ]
  },
  {
   "cell_type": "code",
   "execution_count": 16,
   "metadata": {},
   "outputs": [
    {
     "name": "stderr",
     "output_type": "stream",
     "text": [
      "Warning message:\n",
      "\"Setting row names on a tibble is deprecated.\"\n",
      "Warning message:\n",
      "\"predictions failed for Fold01: degree=1, nprune=100 Error in `contrasts<-`(`*tmp*`, value = contr.funs[1 + isOF[nn]]) : \n",
      "  contrasts can be applied only to factors with 2 or more levels\n",
      "\"\n",
      "Warning message:\n",
      "\"Setting row names on a tibble is deprecated.\"\n",
      "Warning message:\n",
      "\"predictions failed for Fold01: degree=2, nprune=100 Error in `contrasts<-`(`*tmp*`, value = contr.funs[1 + isOF[nn]]) : \n",
      "  contrasts can be applied only to factors with 2 or more levels\n",
      "\"\n",
      "Warning message:\n",
      "\"Setting row names on a tibble is deprecated.\"\n",
      "Warning message:\n",
      "\"predictions failed for Fold01: degree=3, nprune=100 Error in `contrasts<-`(`*tmp*`, value = contr.funs[1 + isOF[nn]]) : \n",
      "  contrasts can be applied only to factors with 2 or more levels\n",
      "\"\n",
      "Warning message:\n",
      "\"Setting row names on a tibble is deprecated.\"\n",
      "Warning message:\n",
      "\"predictions failed for Fold02: degree=1, nprune=100 Error in `contrasts<-`(`*tmp*`, value = contr.funs[1 + isOF[nn]]) : \n",
      "  contrasts can be applied only to factors with 2 or more levels\n",
      "\"\n",
      "Warning message:\n",
      "\"Setting row names on a tibble is deprecated.\"\n",
      "Warning message:\n",
      "\"predictions failed for Fold02: degree=2, nprune=100 Error in `contrasts<-`(`*tmp*`, value = contr.funs[1 + isOF[nn]]) : \n",
      "  contrasts can be applied only to factors with 2 or more levels\n",
      "\"\n",
      "Warning message:\n",
      "\"Setting row names on a tibble is deprecated.\"\n",
      "Warning message:\n",
      "\"predictions failed for Fold02: degree=3, nprune=100 Error in `contrasts<-`(`*tmp*`, value = contr.funs[1 + isOF[nn]]) : \n",
      "  contrasts can be applied only to factors with 2 or more levels\n",
      "\"\n",
      "Warning message:\n",
      "\"Setting row names on a tibble is deprecated.\"\n",
      "Warning message:\n",
      "\"predictions failed for Fold03: degree=1, nprune=100 Error in `contrasts<-`(`*tmp*`, value = contr.funs[1 + isOF[nn]]) : \n",
      "  contrasts can be applied only to factors with 2 or more levels\n",
      "\"\n",
      "Warning message:\n",
      "\"Setting row names on a tibble is deprecated.\"\n",
      "Warning message:\n",
      "\"predictions failed for Fold03: degree=2, nprune=100 Error in `contrasts<-`(`*tmp*`, value = contr.funs[1 + isOF[nn]]) : \n",
      "  contrasts can be applied only to factors with 2 or more levels\n",
      "\"\n",
      "Warning message:\n",
      "\"Setting row names on a tibble is deprecated.\"\n",
      "Warning message:\n",
      "\"predictions failed for Fold03: degree=3, nprune=100 Error in `contrasts<-`(`*tmp*`, value = contr.funs[1 + isOF[nn]]) : \n",
      "  contrasts can be applied only to factors with 2 or more levels\n",
      "\"\n",
      "Warning message:\n",
      "\"Setting row names on a tibble is deprecated.\"\n",
      "Warning message:\n",
      "\"predictions failed for Fold04: degree=1, nprune=100 Error in `contrasts<-`(`*tmp*`, value = contr.funs[1 + isOF[nn]]) : \n",
      "  contrasts can be applied only to factors with 2 or more levels\n",
      "\"\n",
      "Warning message:\n",
      "\"Setting row names on a tibble is deprecated.\"\n",
      "Warning message:\n",
      "\"predictions failed for Fold04: degree=2, nprune=100 Error in `contrasts<-`(`*tmp*`, value = contr.funs[1 + isOF[nn]]) : \n",
      "  contrasts can be applied only to factors with 2 or more levels\n",
      "\"\n",
      "Warning message:\n",
      "\"Setting row names on a tibble is deprecated.\"\n",
      "Warning message:\n",
      "\"predictions failed for Fold04: degree=3, nprune=100 Error in `contrasts<-`(`*tmp*`, value = contr.funs[1 + isOF[nn]]) : \n",
      "  contrasts can be applied only to factors with 2 or more levels\n",
      "\"\n",
      "Warning message:\n",
      "\"Setting row names on a tibble is deprecated.\"\n",
      "Warning message:\n",
      "\"predictions failed for Fold05: degree=1, nprune=100 Error : model.matrix.earth could not interpret the data\n",
      "           model.matrix returned 238 columns: \"MS_SubClassOne_and_Half_Story_Finished_All_Age...\n",
      "           need 289 columns: \"MS_SubClassOne_and_Half_Story_Finished_All_Age...\n",
      "\"\n",
      "Warning message:\n",
      "\"Setting row names on a tibble is deprecated.\"\n",
      "Warning message:\n",
      "\"predictions failed for Fold05: degree=2, nprune=100 Error : model.matrix.earth could not interpret the data\n",
      "           model.matrix returned 238 columns: \"MS_SubClassOne_and_Half_Story_Finished_All_Age...\n",
      "           need 289 columns: \"MS_SubClassOne_and_Half_Story_Finished_All_Age...\n",
      "\"\n",
      "Warning message:\n",
      "\"Setting row names on a tibble is deprecated.\"\n",
      "Warning message:\n",
      "\"predictions failed for Fold05: degree=3, nprune=100 Error : model.matrix.earth could not interpret the data\n",
      "           model.matrix returned 238 columns: \"MS_SubClassOne_and_Half_Story_Finished_All_Age...\n",
      "           need 289 columns: \"MS_SubClassOne_and_Half_Story_Finished_All_Age...\n",
      "\"\n",
      "Warning message:\n",
      "\"Setting row names on a tibble is deprecated.\"\n",
      "Warning message:\n",
      "\"predictions failed for Fold06: degree=1, nprune=100 Error in `contrasts<-`(`*tmp*`, value = contr.funs[1 + isOF[nn]]) : \n",
      "  contrasts can be applied only to factors with 2 or more levels\n",
      "\"\n",
      "Warning message:\n",
      "\"Setting row names on a tibble is deprecated.\"\n",
      "Warning message:\n",
      "\"predictions failed for Fold06: degree=2, nprune=100 Error in `contrasts<-`(`*tmp*`, value = contr.funs[1 + isOF[nn]]) : \n",
      "  contrasts can be applied only to factors with 2 or more levels\n",
      "\"\n",
      "Warning message:\n",
      "\"Setting row names on a tibble is deprecated.\"\n",
      "Warning message:\n",
      "\"predictions failed for Fold06: degree=3, nprune=100 Error in `contrasts<-`(`*tmp*`, value = contr.funs[1 + isOF[nn]]) : \n",
      "  contrasts can be applied only to factors with 2 or more levels\n",
      "\"\n",
      "Warning message:\n",
      "\"Setting row names on a tibble is deprecated.\"\n",
      "Warning message:\n",
      "\"predictions failed for Fold07: degree=1, nprune=100 Error in `contrasts<-`(`*tmp*`, value = contr.funs[1 + isOF[nn]]) : \n",
      "  contrasts can be applied only to factors with 2 or more levels\n",
      "\"\n",
      "Warning message:\n",
      "\"Setting row names on a tibble is deprecated.\"\n",
      "Warning message:\n",
      "\"predictions failed for Fold07: degree=2, nprune=100 Error in `contrasts<-`(`*tmp*`, value = contr.funs[1 + isOF[nn]]) : \n",
      "  contrasts can be applied only to factors with 2 or more levels\n",
      "\"\n",
      "Warning message:\n",
      "\"Setting row names on a tibble is deprecated.\"\n",
      "Warning message:\n",
      "\"predictions failed for Fold07: degree=3, nprune=100 Error in `contrasts<-`(`*tmp*`, value = contr.funs[1 + isOF[nn]]) : \n",
      "  contrasts can be applied only to factors with 2 or more levels\n",
      "\"\n",
      "Warning message:\n",
      "\"Setting row names on a tibble is deprecated.\"\n",
      "Warning message:\n",
      "\"predictions failed for Fold08: degree=1, nprune=100 Error in `contrasts<-`(`*tmp*`, value = contr.funs[1 + isOF[nn]]) : \n",
      "  contrasts can be applied only to factors with 2 or more levels\n",
      "\"\n",
      "Warning message:\n",
      "\"Setting row names on a tibble is deprecated.\"\n",
      "Warning message:\n",
      "\"predictions failed for Fold08: degree=2, nprune=100 Error in `contrasts<-`(`*tmp*`, value = contr.funs[1 + isOF[nn]]) : \n",
      "  contrasts can be applied only to factors with 2 or more levels\n",
      "\"\n",
      "Warning message:\n",
      "\"Setting row names on a tibble is deprecated.\"\n",
      "Warning message:\n",
      "\"predictions failed for Fold08: degree=3, nprune=100 Error in `contrasts<-`(`*tmp*`, value = contr.funs[1 + isOF[nn]]) : \n",
      "  contrasts can be applied only to factors with 2 or more levels\n",
      "\"\n",
      "Warning message:\n",
      "\"Setting row names on a tibble is deprecated.\"\n",
      "Warning message:\n",
      "\"predictions failed for Fold09: degree=1, nprune=100 Error in `contrasts<-`(`*tmp*`, value = contr.funs[1 + isOF[nn]]) : \n",
      "  contrasts can be applied only to factors with 2 or more levels\n",
      "\"\n",
      "Warning message:\n",
      "\"Setting row names on a tibble is deprecated.\"\n",
      "Warning message:\n",
      "\"predictions failed for Fold09: degree=2, nprune=100 Error in `contrasts<-`(`*tmp*`, value = contr.funs[1 + isOF[nn]]) : \n",
      "  contrasts can be applied only to factors with 2 or more levels\n",
      "\"\n",
      "Warning message:\n",
      "\"Setting row names on a tibble is deprecated.\"\n",
      "Warning message:\n",
      "\"predictions failed for Fold09: degree=3, nprune=100 Error in `contrasts<-`(`*tmp*`, value = contr.funs[1 + isOF[nn]]) : \n",
      "  contrasts can be applied only to factors with 2 or more levels\n",
      "\"\n",
      "Warning message:\n",
      "\"Setting row names on a tibble is deprecated.\"\n",
      "Warning message:\n",
      "\"predictions failed for Fold10: degree=1, nprune=100 Error in `contrasts<-`(`*tmp*`, value = contr.funs[1 + isOF[nn]]) : \n",
      "  contrasts can be applied only to factors with 2 or more levels\n",
      "\"\n",
      "Warning message:\n",
      "\"Setting row names on a tibble is deprecated.\"\n",
      "Warning message:\n",
      "\"predictions failed for Fold10: degree=2, nprune=100 Error in `contrasts<-`(`*tmp*`, value = contr.funs[1 + isOF[nn]]) : \n",
      "  contrasts can be applied only to factors with 2 or more levels\n",
      "\"\n",
      "Warning message:\n",
      "\"Setting row names on a tibble is deprecated.\"\n",
      "Warning message:\n",
      "\"predictions failed for Fold10: degree=3, nprune=100 Error in `contrasts<-`(`*tmp*`, value = contr.funs[1 + isOF[nn]]) : \n",
      "  contrasts can be applied only to factors with 2 or more levels\n",
      "\"\n"
     ]
    },
    {
     "name": "stderr",
     "output_type": "stream",
     "text": [
      "Warning message in nominalTrainWorkflow(x = x, y = y, wts = weights, info = trainInfo, :\n",
      "\"There were missing values in resampled performance measures.\"\n"
     ]
    },
    {
     "name": "stdout",
     "output_type": "stream",
     "text": [
      "Something is wrong; all the RMSE metric values are missing:\n",
      "      RMSE        Rsquared        MAE     \n",
      " Min.   : NA   Min.   : NA   Min.   : NA  \n",
      " 1st Qu.: NA   1st Qu.: NA   1st Qu.: NA  \n",
      " Median : NA   Median : NA   Median : NA  \n",
      " Mean   :NaN   Mean   :NaN   Mean   :NaN  \n",
      " 3rd Qu.: NA   3rd Qu.: NA   3rd Qu.: NA  \n",
      " Max.   : NA   Max.   : NA   Max.   : NA  \n",
      " NA's   :30    NA's   :30    NA's   :30   \n"
     ]
    },
    {
     "ename": "ERROR",
     "evalue": "Error: Stopping\n",
     "output_type": "error",
     "traceback": [
      "Error: Stopping\nTraceback:\n",
      "1. train(x = subset(ames_train, select = -Sale_Price), y = ames_train$Sale_Price, \n .     method = \"earth\", metric = \"RMSE\", trControl = trainControl(method = \"cv\", \n .         number = 10), tuneGrid = hyper_grid)",
      "2. train.default(x = subset(ames_train, select = -Sale_Price), y = ames_train$Sale_Price, \n .     method = \"earth\", metric = \"RMSE\", trControl = trainControl(method = \"cv\", \n .         number = 10), tuneGrid = hyper_grid)",
      "3. stop(\"Stopping\", call. = FALSE)"
     ]
    }
   ],
   "source": [
    "# Cross-validated model\n",
    "set.seed(123) # for reproducibility\n",
    "cv_mars <- train(\n",
    "x = subset(ames_train, select = -Sale_Price),\n",
    "y = ames_train$Sale_Price,\n",
    "method = 'earth',\n",
    "metric = 'RMSE',\n",
    "trControl = trainControl(method = 'cv', number = 10),\n",
    "tuneGrid = hyper_grid\n",
    ")\n",
    "# View results\n",
    "cv_mars$bestTune\n",
    "## nprune degree\n",
    "## 25 45 3\n",
    "ggplot(cv_mars)"
   ]
  },
  {
   "cell_type": "code",
   "execution_count": 15,
   "metadata": {},
   "outputs": [
    {
     "ename": "ERROR",
     "evalue": "Error in eval(expr, envir, enclos): object 'cv_mars' not found\n",
     "output_type": "error",
     "traceback": [
      "Error in eval(expr, envir, enclos): object 'cv_mars' not found\nTraceback:\n"
     ]
    }
   ],
   "source": [
    "cv_mars"
   ]
  },
  {
   "cell_type": "code",
   "execution_count": 14,
   "metadata": {},
   "outputs": [
    {
     "ename": "ERROR",
     "evalue": "Error in vip(cv_mars, num_features = 40, bar = FALSE, value = \"gcv\"): object 'cv_mars' not found\n",
     "output_type": "error",
     "traceback": [
      "Error in vip(cv_mars, num_features = 40, bar = FALSE, value = \"gcv\"): object 'cv_mars' not found\nTraceback:\n",
      "1. vip(cv_mars, num_features = 40, bar = FALSE, value = \"gcv\")"
     ]
    }
   ],
   "source": [
    "# variable importance plots\n",
    "p1 <- vip(cv_mars, num_features = 40, bar = FALSE, value = 'gcv') +\n",
    "ggtitle('GCV')\n",
    "\n",
    "p2 <- vip(cv_mars, num_features = 40, bar = FALSE, value = 'rss') +\n",
    "ggtitle('RSS')\n",
    "\n",
    "gridExtra::grid.arrange(p1, p2, ncol = 2)"
   ]
  },
  {
   "cell_type": "code",
   "execution_count": null,
   "metadata": {},
   "outputs": [],
   "source": [
    "# extract coefficients, convert to tidy data frame, and\n",
    "# filter for interaction terms\n",
    "cv_mars$finalModel %>%\n",
    "coef() %>%\n",
    "broom::tidy() %>%\n",
    "filter(stringr::str_detect(names, ”\\\\*”))"
   ]
  },
  {
   "cell_type": "code",
   "execution_count": 13,
   "metadata": {},
   "outputs": [
    {
     "ename": "ERROR",
     "evalue": "Error in partial(cv_mars, pred.var = \"Gr_Liv_Area\"): object 'cv_mars' not found\n",
     "output_type": "error",
     "traceback": [
      "Error in partial(cv_mars, pred.var = \"Gr_Liv_Area\"): object 'cv_mars' not found\nTraceback:\n",
      "1. partial(cv_mars, pred.var = \"Gr_Liv_Area\") %>% autoplot()",
      "2. autoplot(.)",
      "3. partial(cv_mars, pred.var = \"Gr_Liv_Area\")"
     ]
    }
   ],
   "source": [
    "# Construct partial dependence plots\n",
    "p1 <- partial(cv_mars, pred.var = 'Gr_Liv_Area') %>% autoplot()\n",
    "p2 <- partial(cv_mars, pred.var = 'Year_Built') %>% autoplot()\n",
    "p3 <- partial(cv_mars, pred.var = c('Gr_Liv_Area', 'Year_Built'),\n",
    "chull = TRUE) %>%\n",
    "plotPartial(palette = 'inferno', contour = TRUE) %>%\n",
    "ggplotify::as.grob() # convert to grob to plot with cowplot\n",
    "# Display plots in a grid\n",
    "top_row <- cowplot::plot_grid(p1, p2)\n",
    "cowplot::plot_grid(top_row, p3, nrow = 2, rel_heights = c(1, 2))"
   ]
  }
 ],
 "metadata": {
  "kernelspec": {
   "display_name": "R",
   "language": "R",
   "name": "ir"
  },
  "language_info": {
   "codemirror_mode": "r",
   "file_extension": ".r",
   "mimetype": "text/x-r-source",
   "name": "R",
   "pygments_lexer": "r",
   "version": "4.0.2"
  }
 },
 "nbformat": 4,
 "nbformat_minor": 2
}
