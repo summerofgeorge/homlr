{
 "cells": [
  {
   "cell_type": "code",
   "execution_count": 10,
   "metadata": {},
   "outputs": [
    {
     "name": "stderr",
     "output_type": "stream",
     "text": [
      "Warning message:\n",
      "\"package 'rsample' was built under R version 4.0.3\"\n"
     ]
    }
   ],
   "source": [
    "library(tidyverse)\n",
    "# Helper packages\n",
    "library(recipes) # for feature engineering\n",
    "# Modeling packages\n",
    "library(glmnet) # for implementing regularized regression\n",
    "library(caret) # for automating the tuning process\n",
    "# Model interpretability packages\n",
    "library(vip) # for variable importance\n",
    "\n",
    "library(rsample)"
   ]
  },
  {
   "cell_type": "code",
   "execution_count": 11,
   "metadata": {},
   "outputs": [
    {
     "name": "stderr",
     "output_type": "stream",
     "text": [
      "Parsed with column specification:\n",
      "cols(\n",
      "  .default = col_character(),\n",
      "  Lot_Frontage = \u001b[32mcol_double()\u001b[39m,\n",
      "  Lot_Area = \u001b[32mcol_double()\u001b[39m,\n",
      "  Year_Built = \u001b[32mcol_double()\u001b[39m,\n",
      "  Year_Remod_Add = \u001b[32mcol_double()\u001b[39m,\n",
      "  Mas_Vnr_Area = \u001b[32mcol_double()\u001b[39m,\n",
      "  BsmtFin_SF_1 = \u001b[32mcol_double()\u001b[39m,\n",
      "  BsmtFin_SF_2 = \u001b[32mcol_double()\u001b[39m,\n",
      "  Bsmt_Unf_SF = \u001b[32mcol_double()\u001b[39m,\n",
      "  Total_Bsmt_SF = \u001b[32mcol_double()\u001b[39m,\n",
      "  First_Flr_SF = \u001b[32mcol_double()\u001b[39m,\n",
      "  Second_Flr_SF = \u001b[32mcol_double()\u001b[39m,\n",
      "  Low_Qual_Fin_SF = \u001b[32mcol_double()\u001b[39m,\n",
      "  Gr_Liv_Area = \u001b[32mcol_double()\u001b[39m,\n",
      "  Bsmt_Full_Bath = \u001b[32mcol_double()\u001b[39m,\n",
      "  Bsmt_Half_Bath = \u001b[32mcol_double()\u001b[39m,\n",
      "  Full_Bath = \u001b[32mcol_double()\u001b[39m,\n",
      "  Half_Bath = \u001b[32mcol_double()\u001b[39m,\n",
      "  Bedroom_AbvGr = \u001b[32mcol_double()\u001b[39m,\n",
      "  Kitchen_AbvGr = \u001b[32mcol_double()\u001b[39m,\n",
      "  TotRms_AbvGrd = \u001b[32mcol_double()\u001b[39m\n",
      "  # ... with 15 more columns\n",
      ")\n",
      "\n",
      "See spec(...) for full column specifications.\n",
      "\n"
     ]
    }
   ],
   "source": [
    "ames <- read_csv('data/ames.csv')\n",
    "set.seed(123)\n",
    "split <- initial_split(ames, prop = 0.7,\n",
    "strata = \"Sale_Price\")\n",
    "ames_train <- training(split)\n",
    "ames_test <- testing(split)"
   ]
  },
  {
   "cell_type": "code",
   "execution_count": 12,
   "metadata": {},
   "outputs": [],
   "source": [
    "# Create training feature matrices\n",
    "# we use model.matrix(...)[, -1] to discard the intercept\n",
    "X <- model.matrix(Sale_Price ~ ., ames_train)[, -1]\n",
    "# transform y with log transformation\n",
    "Y <- log(ames_train$Sale_Price)"
   ]
  },
  {
   "cell_type": "code",
   "execution_count": 14,
   "metadata": {},
   "outputs": [],
   "source": [
    "?model.matrix"
   ]
  },
  {
   "cell_type": "code",
   "execution_count": 15,
   "metadata": {},
   "outputs": [
    {
     "data": {
      "image/png": "[encoded data removed]",
      "text/plain": [
       "plot without title"
      ]
     },
     "metadata": {
      "image/png": {
       "height": 420,
       "width": 420
      }
     },
     "output_type": "display_data"
    }
   ],
   "source": [
    "# Apply ridge regression to attrition data\n",
    "ridge <- glmnet(\n",
    "x = X,\n",
    "y = Y,\n",
    "alpha = 0\n",
    ")\n",
    "plot(ridge, xvar = \"lambda\")"
   ]
  },
  {
   "cell_type": "code",
   "execution_count": 17,
   "metadata": {},
   "outputs": [
    {
     "data": {
      "text/html": [
       "<style>\n",
       ".list-inline {list-style: none; margin:0; padding: 0}\n",
       ".list-inline>li {display: inline-block}\n",
       ".list-inline>li:not(:last-child)::after {content: \"\\00b7\"; padding: 0 .5ex}\n",
       "</style>\n",
       "<ol class=list-inline><li>285.805469615763</li><li>260.415299430544</li><li>237.280721984334</li><li>216.201356635052</li><li>196.99462400457</li><li>179.494164563491</li></ol>\n"
      ],
      "text/latex": [
       "\\begin{enumerate*}\n",
       "\\item 285.805469615763\n",
       "\\item 260.415299430544\n",
       "\\item 237.280721984334\n",
       "\\item 216.201356635052\n",
       "\\item 196.99462400457\n",
       "\\item 179.494164563491\n",
       "\\end{enumerate*}\n"
      ],
      "text/markdown": [
       "1. 285.805469615763\n",
       "2. 260.415299430544\n",
       "3. 237.280721984334\n",
       "4. 216.201356635052\n",
       "5. 196.99462400457\n",
       "6. 179.494164563491\n",
       "\n",
       "\n"
      ],
      "text/plain": [
       "[1] 285.8055 260.4153 237.2807 216.2014 196.9946 179.4942"
      ]
     },
     "metadata": {},
     "output_type": "display_data"
    },
    {
     "data": {
      "text/html": [
       "<style>\n",
       ".dl-inline {width: auto; margin:0; padding: 0}\n",
       ".dl-inline>dt, .dl-inline>dd {float: none; width: auto; display: inline-block}\n",
       ".dl-inline>dt::after {content: \":\\0020\"; padding-right: .5ex}\n",
       ".dl-inline>dt:not(:first-of-type) {padding-left: .5ex}\n",
       "</style><dl class=dl-inline><dt>Latitude</dt><dd>0.438768192143156</dd><dt>Overall_QualVery_Excellent</dt><dd>0.142039643624982</dd></dl>\n"
      ],
      "text/latex": [
       "\\begin{description*}\n",
       "\\item[Latitude] 0.438768192143156\n",
       "\\item[Overall\\textbackslash{}\\_QualVery\\textbackslash{}\\_Excellent] 0.142039643624982\n",
       "\\end{description*}\n"
      ],
      "text/markdown": [
       "Latitude\n",
       ":   0.438768192143156Overall_QualVery_Excellent\n",
       ":   0.142039643624982\n",
       "\n"
      ],
      "text/plain": [
       "                  Latitude Overall_QualVery_Excellent \n",
       "                 0.4387682                  0.1420396 "
      ]
     },
     "metadata": {},
     "output_type": "display_data"
    },
    {
     "data": {
      "text/html": [
       "<style>\n",
       ".dl-inline {width: auto; margin:0; padding: 0}\n",
       ".dl-inline>dt, .dl-inline>dd {float: none; width: auto; display: inline-block}\n",
       ".dl-inline>dt::after {content: \":\\0020\"; padding-right: .5ex}\n",
       ".dl-inline>dt:not(:first-of-type) {padding-left: .5ex}\n",
       "</style><dl class=dl-inline><dt>Latitude</dt><dd>6.38238465794457e-36</dd><dt>Overall_QualVery_Excellent</dt><dd>9.83811431645229e-37</dd></dl>\n"
      ],
      "text/latex": [
       "\\begin{description*}\n",
       "\\item[Latitude] 6.38238465794457e-36\n",
       "\\item[Overall\\textbackslash{}\\_QualVery\\textbackslash{}\\_Excellent] 9.83811431645229e-37\n",
       "\\end{description*}\n"
      ],
      "text/markdown": [
       "Latitude\n",
       ":   6.38238465794457e-36Overall_QualVery_Excellent\n",
       ":   9.83811431645229e-37\n",
       "\n"
      ],
      "text/plain": [
       "                  Latitude Overall_QualVery_Excellent \n",
       "              6.382385e-36               9.838114e-37 "
      ]
     },
     "metadata": {},
     "output_type": "display_data"
    }
   ],
   "source": [
    "# lambdas applied to penalty parameter\n",
    "ridge$lambda %>% head()\n",
    "\n",
    "# small lambda results in large coefficients\n",
    "coef(ridge)[c(\"Latitude\", 'Overall_QualVery_Excellent'), 100]\n",
    "\n",
    "# large lambda results in small coefficients\n",
    "coef(ridge)[c('Latitude', 'Overall_QualVery_Excellent'), 1]"
   ]
  },
  {
   "cell_type": "markdown",
   "metadata": {},
   "source": [
    "Recall that 𝜆 is a tuning parameter that helps to control our model from\n",
    "over-fitting to the training data. To identify the optimal 𝜆 value we can use\n",
    "k-fold cross-validation (CV). glmnet::cv.glmnet() can perform k-fold CV, and\n",
    "by default, performs 10-fold CV. Below we perform a CV glmnet model with\n",
    "both a ridge and lasso penalty separately:"
   ]
  },
  {
   "cell_type": "code",
   "execution_count": 19,
   "metadata": {},
   "outputs": [
    {
     "data": {
      "image/png": "[encoded data removed]",
      "text/plain": [
       "Plot with title \"Lasso penalty\n",
       "\n",
       "\""
      ]
     },
     "metadata": {
      "image/png": {
       "height": 420,
       "width": 420
      }
     },
     "output_type": "display_data"
    }
   ],
   "source": [
    "# Apply CV ridge regression to Ames data\n",
    "ridge <- cv.glmnet(\n",
    "x = X,\n",
    "y = Y,\n",
    "alpha = 0\n",
    ")\n",
    "# Apply CV lasso regression to Ames data\n",
    "lasso <- cv.glmnet(\n",
    "x = X,\n",
    "y = Y,\n",
    "alpha = 1\n",
    ")\n",
    "# plot results\n",
    "par(mfrow = c(1, 2))\n",
    "plot(ridge, main = 'Ridge penalty\\n\\n')\n",
    "plot(lasso, main = 'Lasso penalty\\n\\n')"
   ]
  },
  {
   "cell_type": "code",
   "execution_count": 20,
   "metadata": {},
   "outputs": [
    {
     "data": {
      "text/html": [
       "0.0166043338491277"
      ],
      "text/latex": [
       "0.0166043338491277"
      ],
      "text/markdown": [
       "0.0166043338491277"
      ],
      "text/plain": [
       "[1] 0.01660433"
      ]
     },
     "metadata": {},
     "output_type": "display_data"
    },
    {
     "data": {
      "text/html": [
       "0.0795270702745274"
      ],
      "text/latex": [
       "0.0795270702745274"
      ],
      "text/markdown": [
       "0.0795270702745274"
      ],
      "text/plain": [
       "[1] 0.07952707"
      ]
     },
     "metadata": {},
     "output_type": "display_data"
    },
    {
     "data": {
      "text/html": [
       "0.018829719449544"
      ],
      "text/latex": [
       "0.018829719449544"
      ],
      "text/markdown": [
       "0.018829719449544"
      ],
      "text/plain": [
       "[1] 0.01882972"
      ]
     },
     "metadata": {},
     "output_type": "display_data"
    },
    {
     "data": {
      "text/html": [
       "0.424412054132248"
      ],
      "text/latex": [
       "0.424412054132248"
      ],
      "text/markdown": [
       "0.424412054132248"
      ],
      "text/plain": [
       "[1] 0.4244121"
      ]
     },
     "metadata": {},
     "output_type": "display_data"
    }
   ],
   "source": [
    "# Ridge model\n",
    "min(ridge$cvm)\n",
    "\n",
    "ridge$lambda.min\n",
    "\n",
    "\n",
    "ridge$cvm[ridge$lambda == ridge$lambda.1se]\n",
    "\n",
    "ridge$lambda.1se # lambda for this MSE\n",
    "\n"
   ]
  },
  {
   "cell_type": "code",
   "execution_count": 22,
   "metadata": {},
   "outputs": [
    {
     "data": {
      "text/html": [
       "0.0166610995554041"
      ],
      "text/latex": [
       "0.0166610995554041"
      ],
      "text/markdown": [
       "0.0166610995554041"
      ],
      "text/plain": [
       "[1] 0.0166611"
      ]
     },
     "metadata": {},
     "output_type": "display_data"
    },
    {
     "data": {
      "text/html": [
       "0.00248579023239455"
      ],
      "text/latex": [
       "0.00248579023239455"
      ],
      "text/markdown": [
       "0.00248579023239455"
      ],
      "text/plain": [
       "[1] 0.00248579"
      ]
     },
     "metadata": {},
     "output_type": "display_data"
    },
    {
     "data": {
      "text/html": [
       "0.0188415548024285"
      ],
      "text/latex": [
       "0.0188415548024285"
      ],
      "text/markdown": [
       "0.0188415548024285"
      ],
      "text/plain": [
       "[1] 0.01884155"
      ]
     },
     "metadata": {},
     "output_type": "display_data"
    },
    {
     "data": {
      "text/html": [
       "0.00914368049675782"
      ],
      "text/latex": [
       "0.00914368049675782"
      ],
      "text/markdown": [
       "0.00914368049675782"
      ],
      "text/plain": [
       "[1] 0.00914368"
      ]
     },
     "metadata": {},
     "output_type": "display_data"
    }
   ],
   "source": [
    "# Lasso model\n",
    "min(lasso$cvm)\n",
    "\n",
    "lasso$lambda.min # lambda for this min MSE\n",
    "\n",
    "lasso$cvm[lasso$lambda == lasso$lambda.1se] # 1-SE rule\n",
    "\n",
    "lasso$lambda.1se # lambda for this MSE"
   ]
  },
  {
   "cell_type": "code",
   "execution_count": 24,
   "metadata": {},
   "outputs": [
    {
     "data": {
      "image/png": "[encoded data removed]",
      "text/plain": [
       "Plot with title \"Ridge penalty\n",
       "\n",
       "\""
      ]
     },
     "metadata": {
      "image/png": {
       "height": 420,
       "width": 420
      }
     },
     "output_type": "display_data"
    }
   ],
   "source": [
    "# Ridge model\n",
    "ridge_min <- glmnet(\n",
    "x = X,\n",
    "y = Y,\n",
    "alpha = 0\n",
    ")\n",
    "# Lasso model\n",
    "lasso_min <- glmnet(\n",
    "x = X,\n",
    "y = Y,\n",
    "alpha = 1\n",
    ")\n",
    "par(mfrow = c(1, 2))\n",
    "# plot ridge model\n",
    "plot(ridge_min, xvar = 'lambda', main = 'Ridge penalty\\n\\n')\n",
    "abline(v = log(ridge$lambda.min), col = 'red', lty = 'dashed')\n",
    "abline(v = log(ridge$lambda.1se), col = 'blue', lty = 'dashed')"
   ]
  },
  {
   "cell_type": "code",
   "execution_count": 25,
   "metadata": {},
   "outputs": [],
   "source": [
    "# for reproducibility\n",
    "set.seed(123)\n",
    "# grid search across\n",
    "cv_glmnet <- train(\n",
    "x = X,\n",
    "y = Y,\n",
    "method = 'glmnet',\n",
    "preProc = c('zv', 'center', 'scale'),\n",
    "trControl = trainControl(method = 'cv', number = 10),\n",
    "tuneLength = 10\n",
    ")\n",
    "\n",
    "# model with lowest RMSE\n",
    "cv_glmnet$bestTune\n",
    "\n",
    "# plot cross-validated RMSE\n",
    "ggplot(cv_glmnet)"
   ]
  },
  {
   "cell_type": "code",
   "execution_count": null,
   "metadata": {},
   "outputs": [],
   "source": []
  }
 ],
 "metadata": {
  "kernelspec": {
   "display_name": "R",
   "language": "R",
   "name": "ir"
  },
  "language_info": {
   "codemirror_mode": "r",
   "file_extension": ".r",
   "mimetype": "text/x-r-source",
   "name": "R",
   "pygments_lexer": "r",
   "version": "4.0.2"
  }
 },
 "nbformat": 4,
 "nbformat_minor": 2
}
