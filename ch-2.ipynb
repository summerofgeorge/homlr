{
 "cells": [
  {
   "cell_type": "code",
   "execution_count": 4,
   "metadata": {},
   "outputs": [
    {
     "name": "stderr",
     "output_type": "stream",
     "text": [
      "Warning message:\n",
      "\"package 'tidyverse' was built under R version 4.0.3\"\n",
      "-- \u001b[1mAttaching packages\u001b[22m ------------------------------------------------------------------------------- tidyverse 1.3.0 --\n",
      "\n",
      "\u001b[32mv\u001b[39m \u001b[34mggplot2\u001b[39m 3.3.2     \u001b[32mv\u001b[39m \u001b[34mpurrr  \u001b[39m 0.3.4\n",
      "\u001b[32mv\u001b[39m \u001b[34mtibble \u001b[39m 3.0.4     \u001b[32mv\u001b[39m \u001b[34mdplyr  \u001b[39m 1.0.2\n",
      "\u001b[32mv\u001b[39m \u001b[34mtidyr  \u001b[39m 1.1.2     \u001b[32mv\u001b[39m \u001b[34mstringr\u001b[39m 1.4.0\n",
      "\u001b[32mv\u001b[39m \u001b[34mreadr  \u001b[39m 1.4.0     \u001b[32mv\u001b[39m \u001b[34mforcats\u001b[39m 0.5.0\n",
      "\n",
      "Warning message:\n",
      "\"package 'tibble' was built under R version 4.0.3\"\n",
      "Warning message:\n",
      "\"package 'readr' was built under R version 4.0.3\"\n",
      "-- \u001b[1mConflicts\u001b[22m ---------------------------------------------------------------------------------- tidyverse_conflicts() --\n",
      "\u001b[31mx\u001b[39m \u001b[34mdplyr\u001b[39m::\u001b[32mfilter()\u001b[39m masks \u001b[34mstats\u001b[39m::filter()\n",
      "\u001b[31mx\u001b[39m \u001b[34mdplyr\u001b[39m::\u001b[32mlag()\u001b[39m    masks \u001b[34mstats\u001b[39m::lag()\n",
      "\n",
      "Warning message:\n",
      "\"package 'rsample' was built under R version 4.0.3\"\n",
      "Warning message:\n",
      "\"package 'caret' was built under R version 4.0.3\"\n",
      "Loading required package: lattice\n",
      "\n",
      "\n",
      "Attaching package: 'caret'\n",
      "\n",
      "\n",
      "The following object is masked from 'package:purrr':\n",
      "\n",
      "    lift\n",
      "\n",
      "\n",
      "Warning message:\n",
      "\"package 'h2o' was built under R version 4.0.3\"\n",
      "\n",
      "----------------------------------------------------------------------\n",
      "\n",
      "Your next step is to start H2O:\n",
      "    > h2o.init()\n",
      "\n",
      "For H2O package documentation, ask for help:\n",
      "    > ??h2o\n",
      "\n",
      "After starting H2O, you can use the Web UI at http://localhost:54321\n",
      "For more information visit https://docs.h2o.ai\n",
      "\n",
      "----------------------------------------------------------------------\n",
      "\n",
      "\n",
      "\n",
      "Attaching package: 'h2o'\n",
      "\n",
      "\n",
      "The following objects are masked from 'package:stats':\n",
      "\n",
      "    cor, sd, var\n",
      "\n",
      "\n",
      "The following objects are masked from 'package:base':\n",
      "\n",
      "    %*%, %in%, &&, ||, apply, as.factor, as.numeric, colnames,\n",
      "    colnames<-, ifelse, is.character, is.factor, is.numeric, log,\n",
      "    log10, log1p, log2, round, signif, trunc\n",
      "\n",
      "\n"
     ]
    },
    {
     "name": "stdout",
     "output_type": "stream",
     "text": [
      "\n",
      "H2O is not running yet, starting it now...\n",
      "\n",
      "Note:  In case of errors look at the following log files:\n",
      "    C:\\Users\\User\\AppData\\Local\\Temp\\Rtmpgj6cAT\\file304c34586ccd/h2o_User_started_from_r.out\n",
      "    C:\\Users\\User\\AppData\\Local\\Temp\\Rtmpgj6cAT\\file304c2d121bcf/h2o_User_started_from_r.err\n",
      "\n",
      "\n",
      "Starting H2O JVM and connecting:  Connection successful!\n",
      "\n",
      "R is connected to the H2O cluster: \n",
      "    H2O cluster uptime:         6 seconds 775 milliseconds \n",
      "    H2O cluster timezone:       America/New_York \n",
      "    H2O data parsing timezone:  UTC \n",
      "    H2O cluster version:        3.32.0.1 \n",
      "    H2O cluster version age:    3 months and 28 days !!! \n",
      "    H2O cluster name:           H2O_started_from_R_User_osn291 \n",
      "    H2O cluster total nodes:    1 \n",
      "    H2O cluster total memory:   3.50 GB \n",
      "    H2O cluster total cores:    12 \n",
      "    H2O cluster allowed cores:  12 \n",
      "    H2O cluster healthy:        TRUE \n",
      "    H2O Connection ip:          localhost \n",
      "    H2O Connection port:        54321 \n",
      "    H2O Connection proxy:       NA \n",
      "    H2O Internal Security:      FALSE \n",
      "    H2O API Extensions:         Amazon S3, Algos, AutoML, Core V3, TargetEncoder, Core V4 \n",
      "    R Version:                  R version 4.0.2 (2020-06-22) \n"
     ]
    },
    {
     "name": "stderr",
     "output_type": "stream",
     "text": [
      "Warning message in h2o.clusterInfo():\n",
      "\"\n",
      "Your H2O cluster version is too old (3 months and 28 days)!\n",
      "Please download and install the latest version from http://h2o.ai/download/\"\n"
     ]
    },
    {
     "name": "stdout",
     "output_type": "stream",
     "text": [
      "\n"
     ]
    },
    {
     "name": "stderr",
     "output_type": "stream",
     "text": [
      "\n",
      "\u001b[36m--\u001b[39m \u001b[1m\u001b[1mColumn specification\u001b[1m\u001b[22m \u001b[36m------------------------------------------------------------------------------------------------\u001b[39m\n",
      "cols(\n",
      "  .default = col_character(),\n",
      "  Lot_Frontage = \u001b[32mcol_double()\u001b[39m,\n",
      "  Lot_Area = \u001b[32mcol_double()\u001b[39m,\n",
      "  Year_Built = \u001b[32mcol_double()\u001b[39m,\n",
      "  Year_Remod_Add = \u001b[32mcol_double()\u001b[39m,\n",
      "  Mas_Vnr_Area = \u001b[32mcol_double()\u001b[39m,\n",
      "  BsmtFin_SF_1 = \u001b[32mcol_double()\u001b[39m,\n",
      "  BsmtFin_SF_2 = \u001b[32mcol_double()\u001b[39m,\n",
      "  Bsmt_Unf_SF = \u001b[32mcol_double()\u001b[39m,\n",
      "  Total_Bsmt_SF = \u001b[32mcol_double()\u001b[39m,\n",
      "  First_Flr_SF = \u001b[32mcol_double()\u001b[39m,\n",
      "  Second_Flr_SF = \u001b[32mcol_double()\u001b[39m,\n",
      "  Low_Qual_Fin_SF = \u001b[32mcol_double()\u001b[39m,\n",
      "  Gr_Liv_Area = \u001b[32mcol_double()\u001b[39m,\n",
      "  Bsmt_Full_Bath = \u001b[32mcol_double()\u001b[39m,\n",
      "  Bsmt_Half_Bath = \u001b[32mcol_double()\u001b[39m,\n",
      "  Full_Bath = \u001b[32mcol_double()\u001b[39m,\n",
      "  Half_Bath = \u001b[32mcol_double()\u001b[39m,\n",
      "  Bedroom_AbvGr = \u001b[32mcol_double()\u001b[39m,\n",
      "  Kitchen_AbvGr = \u001b[32mcol_double()\u001b[39m,\n",
      "  TotRms_AbvGrd = \u001b[32mcol_double()\u001b[39m\n",
      "  # ... with 15 more columns\n",
      ")\n",
      "\u001b[36mi\u001b[39m Use \u001b[30m\u001b[47m\u001b[30m\u001b[47m`spec()`\u001b[47m\u001b[30m\u001b[49m\u001b[39m for the full column specifications.\n",
      "\n",
      "\n",
      "\n",
      "\u001b[36m--\u001b[39m \u001b[1m\u001b[1mColumn specification\u001b[1m\u001b[22m \u001b[36m------------------------------------------------------------------------------------------------\u001b[39m\n",
      "cols(\n",
      "  .default = col_double(),\n",
      "  Attrition = \u001b[31mcol_character()\u001b[39m,\n",
      "  BusinessTravel = \u001b[31mcol_character()\u001b[39m,\n",
      "  Department = \u001b[31mcol_character()\u001b[39m,\n",
      "  Education = \u001b[31mcol_character()\u001b[39m,\n",
      "  EducationField = \u001b[31mcol_character()\u001b[39m,\n",
      "  EnvironmentSatisfaction = \u001b[31mcol_character()\u001b[39m,\n",
      "  Gender = \u001b[31mcol_character()\u001b[39m,\n",
      "  JobInvolvement = \u001b[31mcol_character()\u001b[39m,\n",
      "  JobRole = \u001b[31mcol_character()\u001b[39m,\n",
      "  JobSatisfaction = \u001b[31mcol_character()\u001b[39m,\n",
      "  MaritalStatus = \u001b[31mcol_character()\u001b[39m,\n",
      "  OverTime = \u001b[31mcol_character()\u001b[39m,\n",
      "  PerformanceRating = \u001b[31mcol_character()\u001b[39m,\n",
      "  RelationshipSatisfaction = \u001b[31mcol_character()\u001b[39m,\n",
      "  WorkLifeBalance = \u001b[31mcol_character()\u001b[39m\n",
      ")\n",
      "\u001b[36mi\u001b[39m Use \u001b[30m\u001b[47m\u001b[30m\u001b[47m`spec()`\u001b[47m\u001b[30m\u001b[49m\u001b[39m for the full column specifications.\n",
      "\n",
      "\n"
     ]
    }
   ],
   "source": [
    "# Helper packages\n",
    "library(tidyverse)\n",
    "\n",
    "# Modeling process packages\n",
    "library(rsample) # for resampling procedures\n",
    "library(caret) # for resampling and model training\n",
    "library(h2o) # for resampling and model training\n",
    "\n",
    "# h2o set-up\n",
    "h2o.no_progress() # turn off h2o progress bars\n",
    "h2o.init() # launch h2o\n",
    "\n",
    "ames <- read_csv('data/ames.csv')\n",
    "attrition <- read_csv('data/attrition.csv')"
   ]
  },
  {
   "cell_type": "code",
   "execution_count": 5,
   "metadata": {},
   "outputs": [],
   "source": [
    "# Set up data as h2o object\n",
    "## also means converting any factors \n",
    "\n",
    "\n",
    "ames.h2o <- as.h2o(ames)\n",
    "# Job attrition data\n",
    "churn <- attrition %>%\n",
    "mutate_if(is.ordered, .funs = factor, ordered = FALSE)\n",
    "churn.h2o <- as.h2o(churn)"
   ]
  },
  {
   "cell_type": "code",
   "execution_count": 6,
   "metadata": {},
   "outputs": [],
   "source": [
    "# Different ways to split the data\n",
    "\n",
    "# Using base R\n",
    "set.seed(123) # for reproducibility\n",
    "index_1 <- sample(1:nrow(ames), round(nrow(ames) * 0.7))\n",
    "train_1 <- ames[index_1, ]\n",
    "test_1 <- ames[-index_1, ]"
   ]
  },
  {
   "cell_type": "code",
   "execution_count": 7,
   "metadata": {},
   "outputs": [
    {
     "name": "stderr",
     "output_type": "stream",
     "text": [
      "Warning message:\n",
      "\"The `i` argument of ``[`()` can't be a matrix as of tibble 3.0.0.\n",
      "Convert to a vector.\n",
      "\u001b[90mThis warning is displayed once every 8 hours.\u001b[39m\n",
      "\u001b[90mCall `lifecycle::last_warnings()` to see where this warning was generated.\u001b[39m\"\n"
     ]
    }
   ],
   "source": [
    "# Using caret package\n",
    "set.seed(123) # for reproducibility\n",
    "index_2 <- createDataPartition(ames$Sale_Price, p = 0.7,\n",
    "list = FALSE)\n",
    "train_2 <- ames[index_2, ]\n",
    "test_2 <- ames[-index_2, ]"
   ]
  },
  {
   "cell_type": "code",
   "execution_count": 8,
   "metadata": {},
   "outputs": [],
   "source": [
    "# Using rsample package\n",
    "set.seed(123) # for reproducibility\n",
    "split_1 <- initial_split(ames, prop = 0.7)\n",
    "train_3 <- training(split_1)\n",
    "test_3 <- testing(split_1)"
   ]
  },
  {
   "cell_type": "code",
   "execution_count": 9,
   "metadata": {},
   "outputs": [],
   "source": [
    "# Using h2o package\n",
    "split_2 <- h2o.splitFrame(ames.h2o, ratios = 0.7,\n",
    "seed = 123)\n",
    "train_4 <- split_2[[1]]\n",
    "test_4 <- split_2[[2]]"
   ]
  },
  {
   "cell_type": "code",
   "execution_count": 10,
   "metadata": {},
   "outputs": [
    {
     "data": {
      "text/plain": [
       "\n",
       "      No      Yes \n",
       "0.838835 0.161165 "
      ]
     },
     "metadata": {},
     "output_type": "display_data"
    },
    {
     "data": {
      "text/plain": [
       "\n",
       "       No       Yes \n",
       "0.8386364 0.1613636 "
      ]
     },
     "metadata": {},
     "output_type": "display_data"
    }
   ],
   "source": [
    "# Do stratified sampling\n",
    "\n",
    "set.seed(123)\n",
    "split_strat <- initial_split(churn, prop = 0.7,\n",
    "strata = \"Attrition\")\n",
    "train_strat <- training(split_strat)\n",
    "test_strat <- testing(split_strat)\n",
    "\n",
    "\n",
    "# Compare train and test\n",
    "table(train_strat$Attrition) %>% prop.table()\n",
    "table(test_strat$Attrition) %>% prop.table()"
   ]
  },
  {
   "cell_type": "code",
   "execution_count": 11,
   "metadata": {},
   "outputs": [],
   "source": [
    "# Stratified sampling with the rsample package\n",
    "set.seed(123)\n",
    "split <- initial_split(ames, prop = 0.7, strata = \"Sale_Price\")\n",
    "ames_train <- training(split)\n",
    "ames_test <- testing(split)"
   ]
  },
  {
   "cell_type": "code",
   "execution_count": 14,
   "metadata": {},
   "outputs": [],
   "source": [
    "# Specify resampling strategy\n",
    "cv <- trainControl(\n",
    "method = \"repeatedcv\",\n",
    "number = 10,\n",
    "repeats = 5\n",
    ")\n",
    "\n",
    "\n",
    "# Create grid of hyperparameter values\n",
    "hyper_grid <- expand.grid(k = seq(2, 25, by = 1))\n",
    "\n",
    "# Tune a knn model using grid search\n",
    "knn_fit <- train(\n",
    "Sale_Price ~ .,\n",
    "data = ames_train,\n",
    "method = \"knn\",\n",
    "trControl = cv,\n",
    "tuneGrid = hyper_grid,\n",
    "metric = \"RMSE\"\n",
    ")"
   ]
  },
  {
   "cell_type": "code",
   "execution_count": 15,
   "metadata": {},
   "outputs": [
    {
     "data": {
      "text/plain": [
       "k-Nearest Neighbors \n",
       "\n",
       "2053 samples\n",
       "  80 predictor\n",
       "\n",
       "No pre-processing\n",
       "Resampling: Cross-Validated (10 fold, repeated 5 times) \n",
       "Summary of sample sizes: 1848, 1848, 1848, 1847, 1849, 1847, ... \n",
       "Resampling results across tuning parameters:\n",
       "\n",
       "  k   RMSE      Rsquared   MAE     \n",
       "   2  47850.39  0.6536592  31016.31\n",
       "   3  45875.81  0.6769848  29784.85\n",
       "   4  44529.45  0.6949249  28991.93\n",
       "   5  43944.52  0.7026961  28737.77\n",
       "   6  43645.34  0.7079746  28553.04\n",
       "   7  43439.07  0.7129916  28617.80\n",
       "   8  43657.69  0.7123356  28768.62\n",
       "   9  43799.09  0.7129019  28904.80\n",
       "  10  44058.33  0.7108970  29061.31\n",
       "  11  44304.91  0.7091949  29197.78\n",
       "  12  44565.82  0.7073437  29320.81\n",
       "  13  44797.89  0.7056535  29475.03\n",
       "  14  44966.27  0.7051474  29561.70\n",
       "  15  45188.96  0.7035986  29731.55\n",
       "  16  45376.24  0.7027131  29860.77\n",
       "  17  45558.05  0.7016237  29974.52\n",
       "  18  45666.30  0.7021351  30018.59\n",
       "  19  45836.45  0.7013008  30105.59\n",
       "  20  46044.44  0.6997198  30235.80\n",
       "  21  46242.59  0.6983978  30367.95\n",
       "  22  46441.87  0.6969620  30481.48\n",
       "  23  46651.66  0.6953968  30611.48\n",
       "  24  46788.22  0.6948738  30681.97\n",
       "  25  46980.13  0.6928159  30777.25\n",
       "\n",
       "RMSE was used to select the optimal model using the smallest value.\n",
       "The final value used for the model was k = 7."
      ]
     },
     "metadata": {},
     "output_type": "display_data"
    }
   ],
   "source": [
    "# Print and plot the CV results\n",
    "knn_fit"
   ]
  },
  {
   "cell_type": "markdown",
   "metadata": {},
   "source": [
    "The question remains: “Is this the best predictive model we can find?” We may\n",
    "have identified the optimal k-nearest neighbor model for our given data set,\n",
    "but this doesn’t mean we’ve found the best possible overall model."
   ]
  },
  {
   "cell_type": "code",
   "execution_count": null,
   "metadata": {},
   "outputs": [],
   "source": []
  }
 ],
 "metadata": {
  "kernelspec": {
   "display_name": "R",
   "language": "R",
   "name": "ir"
  },
  "language_info": {
   "codemirror_mode": "r",
   "file_extension": ".r",
   "mimetype": "text/x-r-source",
   "name": "R",
   "pygments_lexer": "r",
   "version": "4.0.2"
  }
 },
 "nbformat": 4,
 "nbformat_minor": 4
}
