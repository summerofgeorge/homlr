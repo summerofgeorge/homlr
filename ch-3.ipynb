{
 "cells": [
  {
   "cell_type": "code",
   "execution_count": null,
   "metadata": {},
   "outputs": [],
   "source": [
    "# Helper packages\n",
    "library(tidyverse)\n",
    "library(visdat) # for additional visualizations\n",
    "# Feature engineering packages\n",
    "library(caret) # for various ML tasks\n",
    "library(recipes) # for feature engineering tasks\n",
    "\n",
    "library(rsample)"
   ]
  },
  {
   "cell_type": "code",
   "execution_count": null,
   "metadata": {},
   "outputs": [],
   "source": [
    "ames <- read_csv('data/ames.csv')\n",
    "set.seed(123)\n",
    "split <- initial_split(ames, prop = 0.7,\n",
    "strata = \"Sale_Price\")\n",
    "ames_train <- training(split)\n",
    "ames_test <- testing(split)"
   ]
  },
  {
   "cell_type": "code",
   "execution_count": null,
   "metadata": {},
   "outputs": [],
   "source": [
    "# log transformation\n",
    "ames_recipe <- recipe(Sale_Price ~ ., data = ames_train) %>%\n",
    "step_log(all_outcomes())"
   ]
  },
  {
   "cell_type": "code",
   "execution_count": null,
   "metadata": {},
   "outputs": [],
   "source": [
    "# Take stock of missing values\n",
    "sum(is.na(AmesHousing::ames_raw))"
   ]
  },
  {
   "cell_type": "code",
   "execution_count": null,
   "metadata": {},
   "outputs": [],
   "source": [
    "# Visualize missing values\n",
    "\n",
    "AmesHousing::ames_raw %>%\n",
    "is.na() %>%\n",
    "reshape2::melt() %>%\n",
    "ggplot(aes(Var2, Var1, fill=value)) +\n",
    "geom_raster() +\n",
    "coord_flip() +\n",
    "scale_y_continuous(NULL, expand = c(0, 0)) +\n",
    "scale_fill_grey(name = \"\",\n",
    "labels = c(\"Present\",\"Missing\")) +\n",
    "xlab(\"Observation\") +\n",
    "theme(axis.text.y = element_text(size = 4))"
   ]
  },
  {
   "cell_type": "code",
   "execution_count": null,
   "metadata": {},
   "outputs": [],
   "source": [
    "# Check for missing values easily with vis_miss\n",
    "vis_miss(AmesHousing::ames_raw, cluster = TRUE)"
   ]
  },
  {
   "cell_type": "code",
   "execution_count": null,
   "metadata": {},
   "outputs": [],
   "source": [
    "# Median imputation\n",
    "ames_recipe %>%\n",
    "    step_medianimpute(Gr_Liv_Area)"
   ]
  },
  {
   "cell_type": "code",
   "execution_count": null,
   "metadata": {},
   "outputs": [],
   "source": [
    "# Knn imputation\n",
    "ames_recipe %>%\n",
    "step_knnimpute(all_predictors(), neighbors = 6)"
   ]
  },
  {
   "cell_type": "code",
   "execution_count": null,
   "metadata": {},
   "outputs": [],
   "source": [
    "# Bagging imputation\n",
    "ames_recipe %>%\n",
    "step_bagimpute(all_predictors())"
   ]
  },
  {
   "cell_type": "code",
   "execution_count": null,
   "metadata": {},
   "outputs": [],
   "source": [
    "# Are there any near-zero variance variables to eliminate? \n",
    "# nzv says they are near the threshold\n",
    "\n",
    "caret::nearZeroVar(ames_train, saveMetrics= TRUE) %>%\n",
    "rownames_to_column() %>%\n",
    "filter(nzv)"
   ]
  },
  {
   "cell_type": "code",
   "execution_count": null,
   "metadata": {},
   "outputs": [],
   "source": [
    "# Normalize all numeric columns\n",
    "recipe(Sale_Price ~ ., data = ames_train) %>%\n",
    "step_YeoJohnson(all_numeric())\n",
    "## Data Recipe"
   ]
  },
  {
   "cell_type": "code",
   "execution_count": null,
   "metadata": {},
   "outputs": [],
   "source": [
    "# Center and scale all numeric variables\n",
    "ames_recipe %>%\n",
    "step_center(all_numeric(), -all_outcomes()) %>%\n",
    "step_scale(all_numeric(), -all_outcomes())"
   ]
  },
  {
   "cell_type": "code",
   "execution_count": null,
   "metadata": {},
   "outputs": [],
   "source": [
    "count(ames_train, Neighborhood) %>% arrange(n)"
   ]
  },
  {
   "cell_type": "code",
   "execution_count": null,
   "metadata": {},
   "outputs": [],
   "source": [
    "count(ames_train, Screen_Porch) %>% arrange(n)"
   ]
  },
  {
   "cell_type": "code",
   "execution_count": null,
   "metadata": {},
   "outputs": [],
   "source": [
    "library(Ecdat)"
   ]
  },
  {
   "cell_type": "code",
   "execution_count": null,
   "metadata": {},
   "outputs": [],
   "source": [
    "count(Housing, gashw, prefarea)"
   ]
  },
  {
   "cell_type": "code",
   "execution_count": null,
   "metadata": {},
   "outputs": [],
   "source": [
    "# Lump infrequent categories into \n",
    "# an \"other\" level\n",
    "\n",
    "# Lump levels for two features\n",
    "lumping <- recipe(Sale_Price ~ ., data = ames_train) %>%\n",
    "step_other(Neighborhood, threshold = 0.01,\n",
    "other = \"other\") %>%\n",
    "step_other(Screen_Porch, threshold = 0.1,\n",
    "other = \">0\")\n",
    "\n",
    "# Apply this blue print --> you will learn about this at\n",
    "# the end of the chapter\n",
    "apply_2_training <- prep(lumping, training = ames_train) %>%\n",
    "bake(ames_train)\n",
    "# New distribution of Neighborhood\n",
    "count(apply_2_training, Neighborhood) %>% arrange(n)"
   ]
  },
  {
   "cell_type": "code",
   "execution_count": null,
   "metadata": {},
   "outputs": [],
   "source": [
    "# New distribution of Screen_Porch\n",
    "count(apply_2_training, Screen_Porch) %>% arrange(n)"
   ]
  },
  {
   "cell_type": "code",
   "execution_count": null,
   "metadata": {},
   "outputs": [],
   "source": [
    "# One-hot encoding\n",
    "# Lump levels for two features\n",
    "recipe(Sale_Price ~ ., data = ames_train) %>%\n",
    "step_dummy(all_nominal(), one_hot = TRUE)"
   ]
  },
  {
   "cell_type": "code",
   "execution_count": null,
   "metadata": {},
   "outputs": [],
   "source": [
    "# Original categories\n",
    "count(ames_train, MS_SubClass)"
   ]
  },
  {
   "cell_type": "code",
   "execution_count": null,
   "metadata": {},
   "outputs": [],
   "source": [
    "recipe(Sale_Price ~ ., data = ames_train) %>%\n",
    "step_integer(MS_SubClass) %>%\n",
    "prep(ames_train) %>%\n",
    "bake(ames_train) %>%\n",
    "count(MS_SubClass)"
   ]
  },
  {
   "cell_type": "code",
   "execution_count": null,
   "metadata": {},
   "outputs": [],
   "source": [
    "# Label encoded\n",
    "recipe(Sale_Price ~ ., data = ames_train) %>%\n",
    "step_integer(Overall_Qual) %>%\n",
    "prep(ames_train) %>%\n",
    "bake(ames_train) %>%\n",
    "count(Overall_Qual)"
   ]
  },
  {
   "cell_type": "code",
   "execution_count": null,
   "metadata": {},
   "outputs": [],
   "source": [
    "# PCA and retain 95% of the variance w\n",
    "# the components\n",
    "\n",
    "recipe(Sale_Price ~ ., data = ames_train) %>%\n",
    "step_center(all_numeric()) %>%\n",
    "step_scale(all_numeric()) %>%\n",
    "step_pca(all_numeric(), threshold = .95)"
   ]
  },
  {
   "cell_type": "code",
   "execution_count": null,
   "metadata": {},
   "outputs": [],
   "source": [
    "# Set up our recipe\n",
    "\n",
    "blueprint <- recipe(Sale_Price ~ ., data = ames_train) %>%\n",
    "step_nzv(all_nominal()) %>%\n",
    "step_integer(matches(\"Qual|Cond|QC|Qu\")) %>%\n",
    "step_center(all_numeric(), -all_outcomes()) %>%\n",
    "step_scale(all_numeric(), -all_outcomes()) %>%\n",
    "step_pca(all_numeric(), -all_outcomes())\n",
    "blueprint"
   ]
  },
  {
   "cell_type": "code",
   "execution_count": null,
   "metadata": {},
   "outputs": [],
   "source": [
    "prepare <- prep(blueprint, training = ames_train)\n",
    "prepare"
   ]
  },
  {
   "cell_type": "code",
   "execution_count": null,
   "metadata": {},
   "outputs": [],
   "source": [
    "# Apply blueprint to the new data with bake\n",
    "\n",
    "baked_train <- bake(prepare, new_data = ames_train)\n",
    "baked_test <- bake(prepare, new_data = ames_test)\n",
    "baked_train"
   ]
  },
  {
   "cell_type": "code",
   "execution_count": null,
   "metadata": {},
   "outputs": [],
   "source": [
    "# Set up the blueprint\n",
    "\n",
    "blueprint <- recipe(Sale_Price ~ ., data = ames_train) %>%\n",
    "step_nzv(all_nominal()) %>%\n",
    "step_integer(matches(\"Qual|Cond|QC|Qu\")) %>%\n",
    "step_center(all_numeric(), -all_outcomes()) %>%\n",
    "step_scale(all_numeric(), -all_outcomes()) %>%\n",
    "step_dummy(all_nominal(), -all_outcomes(),\n",
    "one_hot = TRUE)"
   ]
  },
  {
   "cell_type": "code",
   "execution_count": null,
   "metadata": {},
   "outputs": [],
   "source": [
    "# Specify resampling plan\n",
    "cv <- trainControl(\n",
    "method = \"repeatedcv\",\n",
    "    number = 10,\n",
    "repeats = 5\n",
    ")\n",
    "\n",
    "# Construct grid of hyperparameter values\n",
    "hyper_grid <- expand.grid(k = seq(2, 25, by = 1))\n",
    "\n",
    "# Tune a knn model using grid search\n",
    "knn_fit2 <- train(\n",
    "blueprint,\n",
    "data = ames_train,\n",
    "method = \"knn\",\n",
    "trControl = cv,\n",
    "tuneGrid = hyper_grid,\n",
    "metric = \"RMSE\"\n",
    ")"
   ]
  },
  {
   "cell_type": "code",
   "execution_count": null,
   "metadata": {},
   "outputs": [],
   "source": [
    "# print model results\n",
    "knn_fit2"
   ]
  },
  {
   "cell_type": "code",
   "execution_count": null,
   "metadata": {},
   "outputs": [],
   "source": [
    "# plot cross validation results\n",
    "ggplot(knn_fit2)"
   ]
  }
 ],
 "metadata": {
  "kernelspec": {
   "display_name": "R",
   "language": "R",
   "name": "ir"
  },
  "language_info": {
   "codemirror_mode": "r",
   "file_extension": ".r",
   "mimetype": "text/x-r-source",
   "name": "R",
   "pygments_lexer": "r",
   "version": "4.0.2"
  }
 },
 "nbformat": 4,
 "nbformat_minor": 4
}
