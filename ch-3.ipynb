{
 "cells": [
  {
   "cell_type": "code",
   "execution_count": 1,
   "metadata": {},
   "outputs": [
    {
     "name": "stderr",
     "output_type": "stream",
     "text": [
      "Warning message:\n",
      "\"package 'tidyverse' was built under R version 4.0.3\"\n",
      "-- \u001b[1mAttaching packages\u001b[22m ------------------------------------------------------------------------------- tidyverse 1.3.0 --\n",
      "\n",
      "\u001b[32mv\u001b[39m \u001b[34mggplot2\u001b[39m 3.3.2     \u001b[32mv\u001b[39m \u001b[34mpurrr  \u001b[39m 0.3.4\n",
      "\u001b[32mv\u001b[39m \u001b[34mtibble \u001b[39m 3.0.4     \u001b[32mv\u001b[39m \u001b[34mdplyr  \u001b[39m 1.0.2\n",
      "\u001b[32mv\u001b[39m \u001b[34mtidyr  \u001b[39m 1.1.2     \u001b[32mv\u001b[39m \u001b[34mstringr\u001b[39m 1.4.0\n",
      "\u001b[32mv\u001b[39m \u001b[34mreadr  \u001b[39m 1.4.0     \u001b[32mv\u001b[39m \u001b[34mforcats\u001b[39m 0.5.0\n",
      "\n",
      "Warning message:\n",
      "\"package 'tibble' was built under R version 4.0.3\"\n",
      "Warning message:\n",
      "\"package 'readr' was built under R version 4.0.3\"\n",
      "-- \u001b[1mConflicts\u001b[22m ---------------------------------------------------------------------------------- tidyverse_conflicts() --\n",
      "\u001b[31mx\u001b[39m \u001b[34mdplyr\u001b[39m::\u001b[32mfilter()\u001b[39m masks \u001b[34mstats\u001b[39m::filter()\n",
      "\u001b[31mx\u001b[39m \u001b[34mdplyr\u001b[39m::\u001b[32mlag()\u001b[39m    masks \u001b[34mstats\u001b[39m::lag()\n",
      "\n",
      "Warning message:\n",
      "\"package 'visdat' was built under R version 4.0.3\"\n",
      "Warning message:\n",
      "\"package 'caret' was built under R version 4.0.3\"\n",
      "Loading required package: lattice\n",
      "\n",
      "\n",
      "Attaching package: 'caret'\n",
      "\n",
      "\n",
      "The following object is masked from 'package:purrr':\n",
      "\n",
      "    lift\n",
      "\n",
      "\n",
      "Warning message:\n",
      "\"package 'recipes' was built under R version 4.0.3\"\n",
      "\n",
      "Attaching package: 'recipes'\n",
      "\n",
      "\n",
      "The following object is masked from 'package:stringr':\n",
      "\n",
      "    fixed\n",
      "\n",
      "\n",
      "The following object is masked from 'package:stats':\n",
      "\n",
      "    step\n",
      "\n",
      "\n",
      "Warning message:\n",
      "\"package 'rsample' was built under R version 4.0.3\"\n"
     ]
    }
   ],
   "source": [
    "# Helper packages\n",
    "library(tidyverse)\n",
    "library(visdat) # for additional visualizations\n",
    "# Feature engineering packages\n",
    "library(caret) # for various ML tasks\n",
    "library(recipes) # for feature engineering tasks\n",
    "\n",
    "library(rsample)"
   ]
  },
  {
   "cell_type": "code",
   "execution_count": 2,
   "metadata": {},
   "outputs": [
    {
     "name": "stderr",
     "output_type": "stream",
     "text": [
      "\n",
      "\u001b[36m--\u001b[39m \u001b[1m\u001b[1mColumn specification\u001b[1m\u001b[22m \u001b[36m------------------------------------------------------------------------------------------------\u001b[39m\n",
      "cols(\n",
      "  .default = col_character(),\n",
      "  Lot_Frontage = \u001b[32mcol_double()\u001b[39m,\n",
      "  Lot_Area = \u001b[32mcol_double()\u001b[39m,\n",
      "  Year_Built = \u001b[32mcol_double()\u001b[39m,\n",
      "  Year_Remod_Add = \u001b[32mcol_double()\u001b[39m,\n",
      "  Mas_Vnr_Area = \u001b[32mcol_double()\u001b[39m,\n",
      "  BsmtFin_SF_1 = \u001b[32mcol_double()\u001b[39m,\n",
      "  BsmtFin_SF_2 = \u001b[32mcol_double()\u001b[39m,\n",
      "  Bsmt_Unf_SF = \u001b[32mcol_double()\u001b[39m,\n",
      "  Total_Bsmt_SF = \u001b[32mcol_double()\u001b[39m,\n",
      "  First_Flr_SF = \u001b[32mcol_double()\u001b[39m,\n",
      "  Second_Flr_SF = \u001b[32mcol_double()\u001b[39m,\n",
      "  Low_Qual_Fin_SF = \u001b[32mcol_double()\u001b[39m,\n",
      "  Gr_Liv_Area = \u001b[32mcol_double()\u001b[39m,\n",
      "  Bsmt_Full_Bath = \u001b[32mcol_double()\u001b[39m,\n",
      "  Bsmt_Half_Bath = \u001b[32mcol_double()\u001b[39m,\n",
      "  Full_Bath = \u001b[32mcol_double()\u001b[39m,\n",
      "  Half_Bath = \u001b[32mcol_double()\u001b[39m,\n",
      "  Bedroom_AbvGr = \u001b[32mcol_double()\u001b[39m,\n",
      "  Kitchen_AbvGr = \u001b[32mcol_double()\u001b[39m,\n",
      "  TotRms_AbvGrd = \u001b[32mcol_double()\u001b[39m\n",
      "  # ... with 15 more columns\n",
      ")\n",
      "\u001b[36mi\u001b[39m Use \u001b[30m\u001b[47m\u001b[30m\u001b[47m`spec()`\u001b[47m\u001b[30m\u001b[49m\u001b[39m for the full column specifications.\n",
      "\n",
      "\n"
     ]
    }
   ],
   "source": [
    "ames <- read_csv('data/ames.csv')\n",
    "set.seed(123)\n",
    "split <- initial_split(ames, prop = 0.7,\n",
    "strata = \"Sale_Price\")\n",
    "ames_train <- training(split)\n",
    "ames_test <- testing(split)"
   ]
  },
  {
   "cell_type": "code",
   "execution_count": 3,
   "metadata": {},
   "outputs": [],
   "source": [
    "# log transformation\n",
    "ames_recipe <- recipe(Sale_Price ~ ., data = ames_train) %>%\n",
    "step_log(all_outcomes())"
   ]
  },
  {
   "cell_type": "code",
   "execution_count": 4,
   "metadata": {},
   "outputs": [
    {
     "data": {
      "text/html": [
       "13997"
      ],
      "text/latex": [
       "13997"
      ],
      "text/markdown": [
       "13997"
      ],
      "text/plain": [
       "[1] 13997"
      ]
     },
     "metadata": {},
     "output_type": "display_data"
    }
   ],
   "source": [
    "# Take stock of missing values\n",
    "sum(is.na(AmesHousing::ames_raw))"
   ]
  },
  {
   "cell_type": "code",
   "execution_count": 5,
   "metadata": {},
   "outputs": [
    {
     "data": {
      "image/png": "[encoded data removed]",
      "text/plain": [
       "plot without title"
      ]
     },
     "metadata": {
      "image/png": {
       "height": 420,
       "width": 420
      }
     },
     "output_type": "display_data"
    }
   ],
   "source": [
    "# Visualize missing values\n",
    "\n",
    "AmesHousing::ames_raw %>%\n",
    "is.na() %>%\n",
    "reshape2::melt() %>%\n",
    "ggplot(aes(Var2, Var1, fill=value)) +\n",
    "geom_raster() +\n",
    "coord_flip() +\n",
    "scale_y_continuous(NULL, expand = c(0, 0)) +\n",
    "scale_fill_grey(name = \"\",\n",
    "labels = c(\"Present\",\"Missing\")) +\n",
    "xlab(\"Observation\") +\n",
    "theme(axis.text.y = element_text(size = 4))"
   ]
  },
  {
   "cell_type": "code",
   "execution_count": 6,
   "metadata": {},
   "outputs": [
    {
     "data": {
      "image/png": "[encoded data removed]",
      "text/plain": [
       "plot without title"
      ]
     },
     "metadata": {
      "image/png": {
       "height": 420,
       "width": 420
      }
     },
     "output_type": "display_data"
    }
   ],
   "source": [
    "# Check for missing values easily with vis_miss\n",
    "vis_miss(AmesHousing::ames_raw, cluster = TRUE)"
   ]
  },
  {
   "cell_type": "code",
   "execution_count": 7,
   "metadata": {},
   "outputs": [
    {
     "data": {
      "text/plain": [
       "Data Recipe\n",
       "\n",
       "Inputs:\n",
       "\n",
       "      role #variables\n",
       "   outcome          1\n",
       " predictor         80\n",
       "\n",
       "Operations:\n",
       "\n",
       "Log transformation on all_outcomes()\n",
       "Median Imputation for Gr_Liv_Area"
      ]
     },
     "metadata": {},
     "output_type": "display_data"
    }
   ],
   "source": [
    "# Median imputation\n",
    "ames_recipe %>%\n",
    "    step_medianimpute(Gr_Liv_Area)"
   ]
  },
  {
   "cell_type": "code",
   "execution_count": 8,
   "metadata": {},
   "outputs": [
    {
     "data": {
      "text/plain": [
       "Data Recipe\n",
       "\n",
       "Inputs:\n",
       "\n",
       "      role #variables\n",
       "   outcome          1\n",
       " predictor         80\n",
       "\n",
       "Operations:\n",
       "\n",
       "Log transformation on all_outcomes()\n",
       "K-nearest neighbor imputation for all_predictors()"
      ]
     },
     "metadata": {},
     "output_type": "display_data"
    }
   ],
   "source": [
    "# Knn imputation\n",
    "ames_recipe %>%\n",
    "step_knnimpute(all_predictors(), neighbors = 6)"
   ]
  },
  {
   "cell_type": "code",
   "execution_count": 9,
   "metadata": {},
   "outputs": [
    {
     "data": {
      "text/plain": [
       "Data Recipe\n",
       "\n",
       "Inputs:\n",
       "\n",
       "      role #variables\n",
       "   outcome          1\n",
       " predictor         80\n",
       "\n",
       "Operations:\n",
       "\n",
       "Log transformation on all_outcomes()\n",
       "Bagged tree imputation for all_predictors()"
      ]
     },
     "metadata": {},
     "output_type": "display_data"
    }
   ],
   "source": [
    "# Bagging imputation\n",
    "ames_recipe %>%\n",
    "step_bagimpute(all_predictors())"
   ]
  },
  {
   "cell_type": "code",
   "execution_count": 10,
   "metadata": {},
   "outputs": [
    {
     "data": {
      "text/html": [
       "<table>\n",
       "<caption>A data.frame: 20 × 5</caption>\n",
       "<thead>\n",
       "\t<tr><th scope=col>rowname</th><th scope=col>freqRatio</th><th scope=col>percentUnique</th><th scope=col>zeroVar</th><th scope=col>nzv</th></tr>\n",
       "\t<tr><th scope=col>&lt;chr&gt;</th><th scope=col>&lt;dbl&gt;</th><th scope=col>&lt;dbl&gt;</th><th scope=col>&lt;lgl&gt;</th><th scope=col>&lt;lgl&gt;</th></tr>\n",
       "</thead>\n",
       "<tbody>\n",
       "\t<tr><td>Street            </td><td> 292.28571</td><td>0.09741841</td><td>FALSE</td><td>TRUE</td></tr>\n",
       "\t<tr><td>Alley             </td><td>  20.52688</td><td>0.14612762</td><td>FALSE</td><td>TRUE</td></tr>\n",
       "\t<tr><td>Land_Contour      </td><td>  22.28916</td><td>0.19483682</td><td>FALSE</td><td>TRUE</td></tr>\n",
       "\t<tr><td>Utilities         </td><td>1025.00000</td><td>0.14612762</td><td>FALSE</td><td>TRUE</td></tr>\n",
       "\t<tr><td>Land_Slope        </td><td>  22.76744</td><td>0.14612762</td><td>FALSE</td><td>TRUE</td></tr>\n",
       "\t<tr><td>Condition_2       </td><td> 203.10000</td><td>0.34096444</td><td>FALSE</td><td>TRUE</td></tr>\n",
       "\t<tr><td>Roof_Matl         </td><td> 126.50000</td><td>0.24354603</td><td>FALSE</td><td>TRUE</td></tr>\n",
       "\t<tr><td>Bsmt_Cond         </td><td>  19.93478</td><td>0.29225524</td><td>FALSE</td><td>TRUE</td></tr>\n",
       "\t<tr><td>BsmtFin_Type_2    </td><td>  21.50617</td><td>0.34096444</td><td>FALSE</td><td>TRUE</td></tr>\n",
       "\t<tr><td>Heating           </td><td> 101.05000</td><td>0.24354603</td><td>FALSE</td><td>TRUE</td></tr>\n",
       "\t<tr><td>Low_Qual_Fin_SF   </td><td>1013.00000</td><td>1.31514856</td><td>FALSE</td><td>TRUE</td></tr>\n",
       "\t<tr><td>Kitchen_AbvGr     </td><td>  23.68675</td><td>0.19483682</td><td>FALSE</td><td>TRUE</td></tr>\n",
       "\t<tr><td>Functional        </td><td>  38.18000</td><td>0.34096444</td><td>FALSE</td><td>TRUE</td></tr>\n",
       "\t<tr><td>Enclosed_Porch    </td><td> 100.94118</td><td>7.40379932</td><td>FALSE</td><td>TRUE</td></tr>\n",
       "\t<tr><td>Three_season_porch</td><td> 674.66667</td><td>1.16902094</td><td>FALSE</td><td>TRUE</td></tr>\n",
       "\t<tr><td>Screen_Porch      </td><td> 234.87500</td><td>4.52995616</td><td>FALSE</td><td>TRUE</td></tr>\n",
       "\t<tr><td>Pool_Area         </td><td>2045.00000</td><td>0.43838285</td><td>FALSE</td><td>TRUE</td></tr>\n",
       "\t<tr><td>Pool_QC           </td><td> 681.66667</td><td>0.24354603</td><td>FALSE</td><td>TRUE</td></tr>\n",
       "\t<tr><td>Misc_Feature      </td><td>  30.49231</td><td>0.19483682</td><td>FALSE</td><td>TRUE</td></tr>\n",
       "\t<tr><td>Misc_Val          </td><td> 165.33333</td><td>1.41256698</td><td>FALSE</td><td>TRUE</td></tr>\n",
       "</tbody>\n",
       "</table>\n"
      ],
      "text/latex": [
       "A data.frame: 20 × 5\n",
       "\\begin{tabular}{lllll}\n",
       " rowname & freqRatio & percentUnique & zeroVar & nzv\\\\\n",
       " <chr> & <dbl> & <dbl> & <lgl> & <lgl>\\\\\n",
       "\\hline\n",
       "\t Street             &  292.28571 & 0.09741841 & FALSE & TRUE\\\\\n",
       "\t Alley              &   20.52688 & 0.14612762 & FALSE & TRUE\\\\\n",
       "\t Land\\_Contour       &   22.28916 & 0.19483682 & FALSE & TRUE\\\\\n",
       "\t Utilities          & 1025.00000 & 0.14612762 & FALSE & TRUE\\\\\n",
       "\t Land\\_Slope         &   22.76744 & 0.14612762 & FALSE & TRUE\\\\\n",
       "\t Condition\\_2        &  203.10000 & 0.34096444 & FALSE & TRUE\\\\\n",
       "\t Roof\\_Matl          &  126.50000 & 0.24354603 & FALSE & TRUE\\\\\n",
       "\t Bsmt\\_Cond          &   19.93478 & 0.29225524 & FALSE & TRUE\\\\\n",
       "\t BsmtFin\\_Type\\_2     &   21.50617 & 0.34096444 & FALSE & TRUE\\\\\n",
       "\t Heating            &  101.05000 & 0.24354603 & FALSE & TRUE\\\\\n",
       "\t Low\\_Qual\\_Fin\\_SF    & 1013.00000 & 1.31514856 & FALSE & TRUE\\\\\n",
       "\t Kitchen\\_AbvGr      &   23.68675 & 0.19483682 & FALSE & TRUE\\\\\n",
       "\t Functional         &   38.18000 & 0.34096444 & FALSE & TRUE\\\\\n",
       "\t Enclosed\\_Porch     &  100.94118 & 7.40379932 & FALSE & TRUE\\\\\n",
       "\t Three\\_season\\_porch &  674.66667 & 1.16902094 & FALSE & TRUE\\\\\n",
       "\t Screen\\_Porch       &  234.87500 & 4.52995616 & FALSE & TRUE\\\\\n",
       "\t Pool\\_Area          & 2045.00000 & 0.43838285 & FALSE & TRUE\\\\\n",
       "\t Pool\\_QC            &  681.66667 & 0.24354603 & FALSE & TRUE\\\\\n",
       "\t Misc\\_Feature       &   30.49231 & 0.19483682 & FALSE & TRUE\\\\\n",
       "\t Misc\\_Val           &  165.33333 & 1.41256698 & FALSE & TRUE\\\\\n",
       "\\end{tabular}\n"
      ],
      "text/markdown": [
       "\n",
       "A data.frame: 20 × 5\n",
       "\n",
       "| rowname &lt;chr&gt; | freqRatio &lt;dbl&gt; | percentUnique &lt;dbl&gt; | zeroVar &lt;lgl&gt; | nzv &lt;lgl&gt; |\n",
       "|---|---|---|---|---|\n",
       "| Street             |  292.28571 | 0.09741841 | FALSE | TRUE |\n",
       "| Alley              |   20.52688 | 0.14612762 | FALSE | TRUE |\n",
       "| Land_Contour       |   22.28916 | 0.19483682 | FALSE | TRUE |\n",
       "| Utilities          | 1025.00000 | 0.14612762 | FALSE | TRUE |\n",
       "| Land_Slope         |   22.76744 | 0.14612762 | FALSE | TRUE |\n",
       "| Condition_2        |  203.10000 | 0.34096444 | FALSE | TRUE |\n",
       "| Roof_Matl          |  126.50000 | 0.24354603 | FALSE | TRUE |\n",
       "| Bsmt_Cond          |   19.93478 | 0.29225524 | FALSE | TRUE |\n",
       "| BsmtFin_Type_2     |   21.50617 | 0.34096444 | FALSE | TRUE |\n",
       "| Heating            |  101.05000 | 0.24354603 | FALSE | TRUE |\n",
       "| Low_Qual_Fin_SF    | 1013.00000 | 1.31514856 | FALSE | TRUE |\n",
       "| Kitchen_AbvGr      |   23.68675 | 0.19483682 | FALSE | TRUE |\n",
       "| Functional         |   38.18000 | 0.34096444 | FALSE | TRUE |\n",
       "| Enclosed_Porch     |  100.94118 | 7.40379932 | FALSE | TRUE |\n",
       "| Three_season_porch |  674.66667 | 1.16902094 | FALSE | TRUE |\n",
       "| Screen_Porch       |  234.87500 | 4.52995616 | FALSE | TRUE |\n",
       "| Pool_Area          | 2045.00000 | 0.43838285 | FALSE | TRUE |\n",
       "| Pool_QC            |  681.66667 | 0.24354603 | FALSE | TRUE |\n",
       "| Misc_Feature       |   30.49231 | 0.19483682 | FALSE | TRUE |\n",
       "| Misc_Val           |  165.33333 | 1.41256698 | FALSE | TRUE |\n",
       "\n"
      ],
      "text/plain": [
       "   rowname            freqRatio  percentUnique zeroVar nzv \n",
       "1  Street              292.28571 0.09741841    FALSE   TRUE\n",
       "2  Alley                20.52688 0.14612762    FALSE   TRUE\n",
       "3  Land_Contour         22.28916 0.19483682    FALSE   TRUE\n",
       "4  Utilities          1025.00000 0.14612762    FALSE   TRUE\n",
       "5  Land_Slope           22.76744 0.14612762    FALSE   TRUE\n",
       "6  Condition_2         203.10000 0.34096444    FALSE   TRUE\n",
       "7  Roof_Matl           126.50000 0.24354603    FALSE   TRUE\n",
       "8  Bsmt_Cond            19.93478 0.29225524    FALSE   TRUE\n",
       "9  BsmtFin_Type_2       21.50617 0.34096444    FALSE   TRUE\n",
       "10 Heating             101.05000 0.24354603    FALSE   TRUE\n",
       "11 Low_Qual_Fin_SF    1013.00000 1.31514856    FALSE   TRUE\n",
       "12 Kitchen_AbvGr        23.68675 0.19483682    FALSE   TRUE\n",
       "13 Functional           38.18000 0.34096444    FALSE   TRUE\n",
       "14 Enclosed_Porch      100.94118 7.40379932    FALSE   TRUE\n",
       "15 Three_season_porch  674.66667 1.16902094    FALSE   TRUE\n",
       "16 Screen_Porch        234.87500 4.52995616    FALSE   TRUE\n",
       "17 Pool_Area          2045.00000 0.43838285    FALSE   TRUE\n",
       "18 Pool_QC             681.66667 0.24354603    FALSE   TRUE\n",
       "19 Misc_Feature         30.49231 0.19483682    FALSE   TRUE\n",
       "20 Misc_Val            165.33333 1.41256698    FALSE   TRUE"
      ]
     },
     "metadata": {},
     "output_type": "display_data"
    }
   ],
   "source": [
    "# Are there any near-zero variance variables to eliminate? \n",
    "# nzv says they are near the threshold\n",
    "\n",
    "caret::nearZeroVar(ames_train, saveMetrics= TRUE) %>%\n",
    "rownames_to_column() %>%\n",
    "filter(nzv)"
   ]
  },
  {
   "cell_type": "code",
   "execution_count": 11,
   "metadata": {},
   "outputs": [
    {
     "data": {
      "text/plain": [
       "Data Recipe\n",
       "\n",
       "Inputs:\n",
       "\n",
       "      role #variables\n",
       "   outcome          1\n",
       " predictor         80\n",
       "\n",
       "Operations:\n",
       "\n",
       "Yeo-Johnson transformation on all_numeric()"
      ]
     },
     "metadata": {},
     "output_type": "display_data"
    }
   ],
   "source": [
    "# Normalize all numeric columns\n",
    "recipe(Sale_Price ~ ., data = ames_train) %>%\n",
    "step_YeoJohnson(all_numeric())\n",
    "## Data Recipe"
   ]
  },
  {
   "cell_type": "code",
   "execution_count": 12,
   "metadata": {},
   "outputs": [
    {
     "data": {
      "text/plain": [
       "Data Recipe\n",
       "\n",
       "Inputs:\n",
       "\n",
       "      role #variables\n",
       "   outcome          1\n",
       " predictor         80\n",
       "\n",
       "Operations:\n",
       "\n",
       "Log transformation on all_outcomes()\n",
       "Centering for all_numeric(), -all_outcomes()\n",
       "Scaling for all_numeric(), -all_outcomes()"
      ]
     },
     "metadata": {},
     "output_type": "display_data"
    }
   ],
   "source": [
    "# Center and scale all numeric variables\n",
    "ames_recipe %>%\n",
    "step_center(all_numeric(), -all_outcomes()) %>%\n",
    "step_scale(all_numeric(), -all_outcomes())"
   ]
  },
  {
   "cell_type": "code",
   "execution_count": 13,
   "metadata": {},
   "outputs": [
    {
     "data": {
      "text/html": [
       "<table>\n",
       "<caption>A tibble: 27 × 2</caption>\n",
       "<thead>\n",
       "\t<tr><th scope=col>Neighborhood</th><th scope=col>n</th></tr>\n",
       "\t<tr><th scope=col>&lt;chr&gt;</th><th scope=col>&lt;int&gt;</th></tr>\n",
       "</thead>\n",
       "<tbody>\n",
       "\t<tr><td>Green_Hills                            </td><td>  2</td></tr>\n",
       "\t<tr><td>Greens                                 </td><td>  7</td></tr>\n",
       "\t<tr><td>Blueste                                </td><td>  8</td></tr>\n",
       "\t<tr><td>Northpark_Villa                        </td><td> 17</td></tr>\n",
       "\t<tr><td>Briardale                              </td><td> 18</td></tr>\n",
       "\t<tr><td>Veenker                                </td><td> 20</td></tr>\n",
       "\t<tr><td>Bloomington_Heights                    </td><td> 21</td></tr>\n",
       "\t<tr><td>South_and_West_of_Iowa_State_University</td><td> 27</td></tr>\n",
       "\t<tr><td>Meadow_Village                         </td><td> 29</td></tr>\n",
       "\t<tr><td>Clear_Creek                            </td><td> 31</td></tr>\n",
       "\t<tr><td>Stone_Brook                            </td><td> 34</td></tr>\n",
       "\t<tr><td>Northridge                             </td><td> 48</td></tr>\n",
       "\t<tr><td>Timberland                             </td><td> 55</td></tr>\n",
       "\t<tr><td>Iowa_DOT_and_Rail_Road                 </td><td> 62</td></tr>\n",
       "\t<tr><td>Crawford                               </td><td> 72</td></tr>\n",
       "\t<tr><td>Mitchell                               </td><td> 73</td></tr>\n",
       "\t<tr><td>Brookside                              </td><td> 85</td></tr>\n",
       "\t<tr><td>Sawyer_West                            </td><td> 85</td></tr>\n",
       "\t<tr><td>Northwest_Ames                         </td><td> 96</td></tr>\n",
       "\t<tr><td>Sawyer                                 </td><td>102</td></tr>\n",
       "\t<tr><td>Northridge_Heights                     </td><td>115</td></tr>\n",
       "\t<tr><td>Gilbert                                </td><td>116</td></tr>\n",
       "\t<tr><td>Somerset                               </td><td>128</td></tr>\n",
       "\t<tr><td>Edwards                                </td><td>146</td></tr>\n",
       "\t<tr><td>Old_Town                               </td><td>171</td></tr>\n",
       "\t<tr><td>College_Creek                          </td><td>187</td></tr>\n",
       "\t<tr><td>North_Ames                             </td><td>298</td></tr>\n",
       "</tbody>\n",
       "</table>\n"
      ],
      "text/latex": [
       "A tibble: 27 × 2\n",
       "\\begin{tabular}{ll}\n",
       " Neighborhood & n\\\\\n",
       " <chr> & <int>\\\\\n",
       "\\hline\n",
       "\t Green\\_Hills                             &   2\\\\\n",
       "\t Greens                                  &   7\\\\\n",
       "\t Blueste                                 &   8\\\\\n",
       "\t Northpark\\_Villa                         &  17\\\\\n",
       "\t Briardale                               &  18\\\\\n",
       "\t Veenker                                 &  20\\\\\n",
       "\t Bloomington\\_Heights                     &  21\\\\\n",
       "\t South\\_and\\_West\\_of\\_Iowa\\_State\\_University &  27\\\\\n",
       "\t Meadow\\_Village                          &  29\\\\\n",
       "\t Clear\\_Creek                             &  31\\\\\n",
       "\t Stone\\_Brook                             &  34\\\\\n",
       "\t Northridge                              &  48\\\\\n",
       "\t Timberland                              &  55\\\\\n",
       "\t Iowa\\_DOT\\_and\\_Rail\\_Road                  &  62\\\\\n",
       "\t Crawford                                &  72\\\\\n",
       "\t Mitchell                                &  73\\\\\n",
       "\t Brookside                               &  85\\\\\n",
       "\t Sawyer\\_West                             &  85\\\\\n",
       "\t Northwest\\_Ames                          &  96\\\\\n",
       "\t Sawyer                                  & 102\\\\\n",
       "\t Northridge\\_Heights                      & 115\\\\\n",
       "\t Gilbert                                 & 116\\\\\n",
       "\t Somerset                                & 128\\\\\n",
       "\t Edwards                                 & 146\\\\\n",
       "\t Old\\_Town                                & 171\\\\\n",
       "\t College\\_Creek                           & 187\\\\\n",
       "\t North\\_Ames                              & 298\\\\\n",
       "\\end{tabular}\n"
      ],
      "text/markdown": [
       "\n",
       "A tibble: 27 × 2\n",
       "\n",
       "| Neighborhood &lt;chr&gt; | n &lt;int&gt; |\n",
       "|---|---|\n",
       "| Green_Hills                             |   2 |\n",
       "| Greens                                  |   7 |\n",
       "| Blueste                                 |   8 |\n",
       "| Northpark_Villa                         |  17 |\n",
       "| Briardale                               |  18 |\n",
       "| Veenker                                 |  20 |\n",
       "| Bloomington_Heights                     |  21 |\n",
       "| South_and_West_of_Iowa_State_University |  27 |\n",
       "| Meadow_Village                          |  29 |\n",
       "| Clear_Creek                             |  31 |\n",
       "| Stone_Brook                             |  34 |\n",
       "| Northridge                              |  48 |\n",
       "| Timberland                              |  55 |\n",
       "| Iowa_DOT_and_Rail_Road                  |  62 |\n",
       "| Crawford                                |  72 |\n",
       "| Mitchell                                |  73 |\n",
       "| Brookside                               |  85 |\n",
       "| Sawyer_West                             |  85 |\n",
       "| Northwest_Ames                          |  96 |\n",
       "| Sawyer                                  | 102 |\n",
       "| Northridge_Heights                      | 115 |\n",
       "| Gilbert                                 | 116 |\n",
       "| Somerset                                | 128 |\n",
       "| Edwards                                 | 146 |\n",
       "| Old_Town                                | 171 |\n",
       "| College_Creek                           | 187 |\n",
       "| North_Ames                              | 298 |\n",
       "\n"
      ],
      "text/plain": [
       "   Neighborhood                            n  \n",
       "1  Green_Hills                               2\n",
       "2  Greens                                    7\n",
       "3  Blueste                                   8\n",
       "4  Northpark_Villa                          17\n",
       "5  Briardale                                18\n",
       "6  Veenker                                  20\n",
       "7  Bloomington_Heights                      21\n",
       "8  South_and_West_of_Iowa_State_University  27\n",
       "9  Meadow_Village                           29\n",
       "10 Clear_Creek                              31\n",
       "11 Stone_Brook                              34\n",
       "12 Northridge                               48\n",
       "13 Timberland                               55\n",
       "14 Iowa_DOT_and_Rail_Road                   62\n",
       "15 Crawford                                 72\n",
       "16 Mitchell                                 73\n",
       "17 Brookside                                85\n",
       "18 Sawyer_West                              85\n",
       "19 Northwest_Ames                           96\n",
       "20 Sawyer                                  102\n",
       "21 Northridge_Heights                      115\n",
       "22 Gilbert                                 116\n",
       "23 Somerset                                128\n",
       "24 Edwards                                 146\n",
       "25 Old_Town                                171\n",
       "26 College_Creek                           187\n",
       "27 North_Ames                              298"
      ]
     },
     "metadata": {},
     "output_type": "display_data"
    }
   ],
   "source": [
    "count(ames_train, Neighborhood) %>% arrange(n)"
   ]
  },
  {
   "cell_type": "code",
   "execution_count": 14,
   "metadata": {},
   "outputs": [
    {
     "data": {
      "text/html": [
       "<table>\n",
       "<caption>A tibble: 93 × 2</caption>\n",
       "<thead>\n",
       "\t<tr><th scope=col>Screen_Porch</th><th scope=col>n</th></tr>\n",
       "\t<tr><th scope=col>&lt;dbl&gt;</th><th scope=col>&lt;int&gt;</th></tr>\n",
       "</thead>\n",
       "<tbody>\n",
       "\t<tr><td> 40</td><td>1</td></tr>\n",
       "\t<tr><td> 63</td><td>1</td></tr>\n",
       "\t<tr><td> 80</td><td>1</td></tr>\n",
       "\t<tr><td> 92</td><td>1</td></tr>\n",
       "\t<tr><td> 94</td><td>1</td></tr>\n",
       "\t<tr><td> 99</td><td>1</td></tr>\n",
       "\t<tr><td>104</td><td>1</td></tr>\n",
       "\t<tr><td>109</td><td>1</td></tr>\n",
       "\t<tr><td>110</td><td>1</td></tr>\n",
       "\t<tr><td>111</td><td>1</td></tr>\n",
       "\t<tr><td>117</td><td>1</td></tr>\n",
       "\t<tr><td>119</td><td>1</td></tr>\n",
       "\t<tr><td>121</td><td>1</td></tr>\n",
       "\t<tr><td>123</td><td>1</td></tr>\n",
       "\t<tr><td>138</td><td>1</td></tr>\n",
       "\t<tr><td>141</td><td>1</td></tr>\n",
       "\t<tr><td>143</td><td>1</td></tr>\n",
       "\t<tr><td>148</td><td>1</td></tr>\n",
       "\t<tr><td>150</td><td>1</td></tr>\n",
       "\t<tr><td>152</td><td>1</td></tr>\n",
       "\t<tr><td>154</td><td>1</td></tr>\n",
       "\t<tr><td>163</td><td>1</td></tr>\n",
       "\t<tr><td>164</td><td>1</td></tr>\n",
       "\t<tr><td>170</td><td>1</td></tr>\n",
       "\t<tr><td>171</td><td>1</td></tr>\n",
       "\t<tr><td>174</td><td>1</td></tr>\n",
       "\t<tr><td>175</td><td>1</td></tr>\n",
       "\t<tr><td>178</td><td>1</td></tr>\n",
       "\t<tr><td>185</td><td>1</td></tr>\n",
       "\t<tr><td>190</td><td>1</td></tr>\n",
       "\t<tr><td>...</td><td>...</td></tr>\n",
       "\t<tr><td>161</td><td>   2</td></tr>\n",
       "\t<tr><td>165</td><td>   2</td></tr>\n",
       "\t<tr><td>176</td><td>   2</td></tr>\n",
       "\t<tr><td>182</td><td>   2</td></tr>\n",
       "\t<tr><td>184</td><td>   2</td></tr>\n",
       "\t<tr><td>195</td><td>   2</td></tr>\n",
       "\t<tr><td>198</td><td>   2</td></tr>\n",
       "\t<tr><td>210</td><td>   2</td></tr>\n",
       "\t<tr><td>224</td><td>   2</td></tr>\n",
       "\t<tr><td>225</td><td>   2</td></tr>\n",
       "\t<tr><td>227</td><td>   2</td></tr>\n",
       "\t<tr><td>255</td><td>   2</td></tr>\n",
       "\t<tr><td>288</td><td>   2</td></tr>\n",
       "\t<tr><td>322</td><td>   2</td></tr>\n",
       "\t<tr><td> 90</td><td>   3</td></tr>\n",
       "\t<tr><td>100</td><td>   3</td></tr>\n",
       "\t<tr><td>115</td><td>   3</td></tr>\n",
       "\t<tr><td>126</td><td>   3</td></tr>\n",
       "\t<tr><td>142</td><td>   3</td></tr>\n",
       "\t<tr><td>153</td><td>   4</td></tr>\n",
       "\t<tr><td>189</td><td>   4</td></tr>\n",
       "\t<tr><td>180</td><td>   5</td></tr>\n",
       "\t<tr><td>120</td><td>   6</td></tr>\n",
       "\t<tr><td>160</td><td>   6</td></tr>\n",
       "\t<tr><td>200</td><td>   6</td></tr>\n",
       "\t<tr><td>144</td><td>   7</td></tr>\n",
       "\t<tr><td>216</td><td>   7</td></tr>\n",
       "\t<tr><td>168</td><td>   8</td></tr>\n",
       "\t<tr><td>192</td><td>   8</td></tr>\n",
       "\t<tr><td>  0</td><td>1879</td></tr>\n",
       "</tbody>\n",
       "</table>\n"
      ],
      "text/latex": [
       "A tibble: 93 × 2\n",
       "\\begin{tabular}{ll}\n",
       " Screen\\_Porch & n\\\\\n",
       " <dbl> & <int>\\\\\n",
       "\\hline\n",
       "\t  40 & 1\\\\\n",
       "\t  63 & 1\\\\\n",
       "\t  80 & 1\\\\\n",
       "\t  92 & 1\\\\\n",
       "\t  94 & 1\\\\\n",
       "\t  99 & 1\\\\\n",
       "\t 104 & 1\\\\\n",
       "\t 109 & 1\\\\\n",
       "\t 110 & 1\\\\\n",
       "\t 111 & 1\\\\\n",
       "\t 117 & 1\\\\\n",
       "\t 119 & 1\\\\\n",
       "\t 121 & 1\\\\\n",
       "\t 123 & 1\\\\\n",
       "\t 138 & 1\\\\\n",
       "\t 141 & 1\\\\\n",
       "\t 143 & 1\\\\\n",
       "\t 148 & 1\\\\\n",
       "\t 150 & 1\\\\\n",
       "\t 152 & 1\\\\\n",
       "\t 154 & 1\\\\\n",
       "\t 163 & 1\\\\\n",
       "\t 164 & 1\\\\\n",
       "\t 170 & 1\\\\\n",
       "\t 171 & 1\\\\\n",
       "\t 174 & 1\\\\\n",
       "\t 175 & 1\\\\\n",
       "\t 178 & 1\\\\\n",
       "\t 185 & 1\\\\\n",
       "\t 190 & 1\\\\\n",
       "\t ... & ...\\\\\n",
       "\t 161 &    2\\\\\n",
       "\t 165 &    2\\\\\n",
       "\t 176 &    2\\\\\n",
       "\t 182 &    2\\\\\n",
       "\t 184 &    2\\\\\n",
       "\t 195 &    2\\\\\n",
       "\t 198 &    2\\\\\n",
       "\t 210 &    2\\\\\n",
       "\t 224 &    2\\\\\n",
       "\t 225 &    2\\\\\n",
       "\t 227 &    2\\\\\n",
       "\t 255 &    2\\\\\n",
       "\t 288 &    2\\\\\n",
       "\t 322 &    2\\\\\n",
       "\t  90 &    3\\\\\n",
       "\t 100 &    3\\\\\n",
       "\t 115 &    3\\\\\n",
       "\t 126 &    3\\\\\n",
       "\t 142 &    3\\\\\n",
       "\t 153 &    4\\\\\n",
       "\t 189 &    4\\\\\n",
       "\t 180 &    5\\\\\n",
       "\t 120 &    6\\\\\n",
       "\t 160 &    6\\\\\n",
       "\t 200 &    6\\\\\n",
       "\t 144 &    7\\\\\n",
       "\t 216 &    7\\\\\n",
       "\t 168 &    8\\\\\n",
       "\t 192 &    8\\\\\n",
       "\t   0 & 1879\\\\\n",
       "\\end{tabular}\n"
      ],
      "text/markdown": [
       "\n",
       "A tibble: 93 × 2\n",
       "\n",
       "| Screen_Porch &lt;dbl&gt; | n &lt;int&gt; |\n",
       "|---|---|\n",
       "|  40 | 1 |\n",
       "|  63 | 1 |\n",
       "|  80 | 1 |\n",
       "|  92 | 1 |\n",
       "|  94 | 1 |\n",
       "|  99 | 1 |\n",
       "| 104 | 1 |\n",
       "| 109 | 1 |\n",
       "| 110 | 1 |\n",
       "| 111 | 1 |\n",
       "| 117 | 1 |\n",
       "| 119 | 1 |\n",
       "| 121 | 1 |\n",
       "| 123 | 1 |\n",
       "| 138 | 1 |\n",
       "| 141 | 1 |\n",
       "| 143 | 1 |\n",
       "| 148 | 1 |\n",
       "| 150 | 1 |\n",
       "| 152 | 1 |\n",
       "| 154 | 1 |\n",
       "| 163 | 1 |\n",
       "| 164 | 1 |\n",
       "| 170 | 1 |\n",
       "| 171 | 1 |\n",
       "| 174 | 1 |\n",
       "| 175 | 1 |\n",
       "| 178 | 1 |\n",
       "| 185 | 1 |\n",
       "| 190 | 1 |\n",
       "| ... | ... |\n",
       "| 161 |    2 |\n",
       "| 165 |    2 |\n",
       "| 176 |    2 |\n",
       "| 182 |    2 |\n",
       "| 184 |    2 |\n",
       "| 195 |    2 |\n",
       "| 198 |    2 |\n",
       "| 210 |    2 |\n",
       "| 224 |    2 |\n",
       "| 225 |    2 |\n",
       "| 227 |    2 |\n",
       "| 255 |    2 |\n",
       "| 288 |    2 |\n",
       "| 322 |    2 |\n",
       "|  90 |    3 |\n",
       "| 100 |    3 |\n",
       "| 115 |    3 |\n",
       "| 126 |    3 |\n",
       "| 142 |    3 |\n",
       "| 153 |    4 |\n",
       "| 189 |    4 |\n",
       "| 180 |    5 |\n",
       "| 120 |    6 |\n",
       "| 160 |    6 |\n",
       "| 200 |    6 |\n",
       "| 144 |    7 |\n",
       "| 216 |    7 |\n",
       "| 168 |    8 |\n",
       "| 192 |    8 |\n",
       "|   0 | 1879 |\n",
       "\n"
      ],
      "text/plain": [
       "    Screen_Porch n   \n",
       "1    40          1   \n",
       "2    63          1   \n",
       "3    80          1   \n",
       "4    92          1   \n",
       "5    94          1   \n",
       "6    99          1   \n",
       "7   104          1   \n",
       "8   109          1   \n",
       "9   110          1   \n",
       "10  111          1   \n",
       "11  117          1   \n",
       "12  119          1   \n",
       "13  121          1   \n",
       "14  123          1   \n",
       "15  138          1   \n",
       "16  141          1   \n",
       "17  143          1   \n",
       "18  148          1   \n",
       "19  150          1   \n",
       "20  152          1   \n",
       "21  154          1   \n",
       "22  163          1   \n",
       "23  164          1   \n",
       "24  170          1   \n",
       "25  171          1   \n",
       "26  174          1   \n",
       "27  175          1   \n",
       "28  178          1   \n",
       "29  185          1   \n",
       "30  190          1   \n",
       "... ...          ... \n",
       "64  161             2\n",
       "65  165             2\n",
       "66  176             2\n",
       "67  182             2\n",
       "68  184             2\n",
       "69  195             2\n",
       "70  198             2\n",
       "71  210             2\n",
       "72  224             2\n",
       "73  225             2\n",
       "74  227             2\n",
       "75  255             2\n",
       "76  288             2\n",
       "77  322             2\n",
       "78   90             3\n",
       "79  100             3\n",
       "80  115             3\n",
       "81  126             3\n",
       "82  142             3\n",
       "83  153             4\n",
       "84  189             4\n",
       "85  180             5\n",
       "86  120             6\n",
       "87  160             6\n",
       "88  200             6\n",
       "89  144             7\n",
       "90  216             7\n",
       "91  168             8\n",
       "92  192             8\n",
       "93    0          1879"
      ]
     },
     "metadata": {},
     "output_type": "display_data"
    }
   ],
   "source": [
    "count(ames_train, Screen_Porch) %>% arrange(n)"
   ]
  },
  {
   "cell_type": "code",
   "execution_count": 16,
   "metadata": {},
   "outputs": [
    {
     "name": "stderr",
     "output_type": "stream",
     "text": [
      "Loading required package: Ecfun\n",
      "\n",
      "\n",
      "Attaching package: 'Ecfun'\n",
      "\n",
      "\n",
      "The following object is masked from 'package:base':\n",
      "\n",
      "    sign\n",
      "\n",
      "\n",
      "\n",
      "Attaching package: 'Ecdat'\n",
      "\n",
      "\n",
      "The following object is masked from 'package:datasets':\n",
      "\n",
      "    Orange\n",
      "\n",
      "\n"
     ]
    }
   ],
   "source": [
    "library(Ecdat)"
   ]
  },
  {
   "cell_type": "code",
   "execution_count": 21,
   "metadata": {},
   "outputs": [
    {
     "data": {
      "text/html": [
       "<table>\n",
       "<caption>A data.frame: 4 × 3</caption>\n",
       "<thead>\n",
       "\t<tr><th scope=col>gashw</th><th scope=col>prefarea</th><th scope=col>n</th></tr>\n",
       "\t<tr><th scope=col>&lt;fct&gt;</th><th scope=col>&lt;fct&gt;</th><th scope=col>&lt;int&gt;</th></tr>\n",
       "</thead>\n",
       "<tbody>\n",
       "\t<tr><td>no </td><td>no </td><td>396</td></tr>\n",
       "\t<tr><td>no </td><td>yes</td><td>125</td></tr>\n",
       "\t<tr><td>yes</td><td>no </td><td> 22</td></tr>\n",
       "\t<tr><td>yes</td><td>yes</td><td>  3</td></tr>\n",
       "</tbody>\n",
       "</table>\n"
      ],
      "text/latex": [
       "A data.frame: 4 × 3\n",
       "\\begin{tabular}{lll}\n",
       " gashw & prefarea & n\\\\\n",
       " <fct> & <fct> & <int>\\\\\n",
       "\\hline\n",
       "\t no  & no  & 396\\\\\n",
       "\t no  & yes & 125\\\\\n",
       "\t yes & no  &  22\\\\\n",
       "\t yes & yes &   3\\\\\n",
       "\\end{tabular}\n"
      ],
      "text/markdown": [
       "\n",
       "A data.frame: 4 × 3\n",
       "\n",
       "| gashw &lt;fct&gt; | prefarea &lt;fct&gt; | n &lt;int&gt; |\n",
       "|---|---|---|\n",
       "| no  | no  | 396 |\n",
       "| no  | yes | 125 |\n",
       "| yes | no  |  22 |\n",
       "| yes | yes |   3 |\n",
       "\n"
      ],
      "text/plain": [
       "  gashw prefarea n  \n",
       "1 no    no       396\n",
       "2 no    yes      125\n",
       "3 yes   no        22\n",
       "4 yes   yes        3"
      ]
     },
     "metadata": {},
     "output_type": "display_data"
    }
   ],
   "source": [
    "count(Housing, gashw, prefarea)"
   ]
  },
  {
   "cell_type": "code",
   "execution_count": 25,
   "metadata": {},
   "outputs": [
    {
     "data": {
      "text/html": [
       "<table>\n",
       "<caption>A tibble: 22 × 2</caption>\n",
       "<thead>\n",
       "\t<tr><th scope=col>Neighborhood</th><th scope=col>n</th></tr>\n",
       "\t<tr><th scope=col>&lt;fct&gt;</th><th scope=col>&lt;int&gt;</th></tr>\n",
       "</thead>\n",
       "<tbody>\n",
       "\t<tr><td>Bloomington_Heights                    </td><td> 21</td></tr>\n",
       "\t<tr><td>South_and_West_of_Iowa_State_University</td><td> 27</td></tr>\n",
       "\t<tr><td>Meadow_Village                         </td><td> 29</td></tr>\n",
       "\t<tr><td>Clear_Creek                            </td><td> 31</td></tr>\n",
       "\t<tr><td>Stone_Brook                            </td><td> 34</td></tr>\n",
       "\t<tr><td>Northridge                             </td><td> 48</td></tr>\n",
       "\t<tr><td>Timberland                             </td><td> 55</td></tr>\n",
       "\t<tr><td>Iowa_DOT_and_Rail_Road                 </td><td> 62</td></tr>\n",
       "\t<tr><td>Crawford                               </td><td> 72</td></tr>\n",
       "\t<tr><td>other                                  </td><td> 72</td></tr>\n",
       "\t<tr><td>Mitchell                               </td><td> 73</td></tr>\n",
       "\t<tr><td>Brookside                              </td><td> 85</td></tr>\n",
       "\t<tr><td>Sawyer_West                            </td><td> 85</td></tr>\n",
       "\t<tr><td>Northwest_Ames                         </td><td> 96</td></tr>\n",
       "\t<tr><td>Sawyer                                 </td><td>102</td></tr>\n",
       "\t<tr><td>Northridge_Heights                     </td><td>115</td></tr>\n",
       "\t<tr><td>Gilbert                                </td><td>116</td></tr>\n",
       "\t<tr><td>Somerset                               </td><td>128</td></tr>\n",
       "\t<tr><td>Edwards                                </td><td>146</td></tr>\n",
       "\t<tr><td>Old_Town                               </td><td>171</td></tr>\n",
       "\t<tr><td>College_Creek                          </td><td>187</td></tr>\n",
       "\t<tr><td>North_Ames                             </td><td>298</td></tr>\n",
       "</tbody>\n",
       "</table>\n"
      ],
      "text/latex": [
       "A tibble: 22 × 2\n",
       "\\begin{tabular}{ll}\n",
       " Neighborhood & n\\\\\n",
       " <fct> & <int>\\\\\n",
       "\\hline\n",
       "\t Bloomington\\_Heights                     &  21\\\\\n",
       "\t South\\_and\\_West\\_of\\_Iowa\\_State\\_University &  27\\\\\n",
       "\t Meadow\\_Village                          &  29\\\\\n",
       "\t Clear\\_Creek                             &  31\\\\\n",
       "\t Stone\\_Brook                             &  34\\\\\n",
       "\t Northridge                              &  48\\\\\n",
       "\t Timberland                              &  55\\\\\n",
       "\t Iowa\\_DOT\\_and\\_Rail\\_Road                  &  62\\\\\n",
       "\t Crawford                                &  72\\\\\n",
       "\t other                                   &  72\\\\\n",
       "\t Mitchell                                &  73\\\\\n",
       "\t Brookside                               &  85\\\\\n",
       "\t Sawyer\\_West                             &  85\\\\\n",
       "\t Northwest\\_Ames                          &  96\\\\\n",
       "\t Sawyer                                  & 102\\\\\n",
       "\t Northridge\\_Heights                      & 115\\\\\n",
       "\t Gilbert                                 & 116\\\\\n",
       "\t Somerset                                & 128\\\\\n",
       "\t Edwards                                 & 146\\\\\n",
       "\t Old\\_Town                                & 171\\\\\n",
       "\t College\\_Creek                           & 187\\\\\n",
       "\t North\\_Ames                              & 298\\\\\n",
       "\\end{tabular}\n"
      ],
      "text/markdown": [
       "\n",
       "A tibble: 22 × 2\n",
       "\n",
       "| Neighborhood &lt;fct&gt; | n &lt;int&gt; |\n",
       "|---|---|\n",
       "| Bloomington_Heights                     |  21 |\n",
       "| South_and_West_of_Iowa_State_University |  27 |\n",
       "| Meadow_Village                          |  29 |\n",
       "| Clear_Creek                             |  31 |\n",
       "| Stone_Brook                             |  34 |\n",
       "| Northridge                              |  48 |\n",
       "| Timberland                              |  55 |\n",
       "| Iowa_DOT_and_Rail_Road                  |  62 |\n",
       "| Crawford                                |  72 |\n",
       "| other                                   |  72 |\n",
       "| Mitchell                                |  73 |\n",
       "| Brookside                               |  85 |\n",
       "| Sawyer_West                             |  85 |\n",
       "| Northwest_Ames                          |  96 |\n",
       "| Sawyer                                  | 102 |\n",
       "| Northridge_Heights                      | 115 |\n",
       "| Gilbert                                 | 116 |\n",
       "| Somerset                                | 128 |\n",
       "| Edwards                                 | 146 |\n",
       "| Old_Town                                | 171 |\n",
       "| College_Creek                           | 187 |\n",
       "| North_Ames                              | 298 |\n",
       "\n"
      ],
      "text/plain": [
       "   Neighborhood                            n  \n",
       "1  Bloomington_Heights                      21\n",
       "2  South_and_West_of_Iowa_State_University  27\n",
       "3  Meadow_Village                           29\n",
       "4  Clear_Creek                              31\n",
       "5  Stone_Brook                              34\n",
       "6  Northridge                               48\n",
       "7  Timberland                               55\n",
       "8  Iowa_DOT_and_Rail_Road                   62\n",
       "9  Crawford                                 72\n",
       "10 other                                    72\n",
       "11 Mitchell                                 73\n",
       "12 Brookside                                85\n",
       "13 Sawyer_West                              85\n",
       "14 Northwest_Ames                           96\n",
       "15 Sawyer                                  102\n",
       "16 Northridge_Heights                      115\n",
       "17 Gilbert                                 116\n",
       "18 Somerset                                128\n",
       "19 Edwards                                 146\n",
       "20 Old_Town                                171\n",
       "21 College_Creek                           187\n",
       "22 North_Ames                              298"
      ]
     },
     "metadata": {},
     "output_type": "display_data"
    }
   ],
   "source": [
    "# Lump infrequent categories into \n",
    "# an \"other\" level\n",
    "\n",
    "# Lump levels for two features\n",
    "lumping <- recipe(Sale_Price ~ ., data = ames_train) %>%\n",
    "step_other(Neighborhood, threshold = 0.01,\n",
    "other = \"other\") %>%\n",
    "step_other(Screen_Porch, threshold = 0.1,\n",
    "other = \">0\")\n",
    "\n",
    "# Apply this blue print --> you will learn about this at\n",
    "# the end of the chapter\n",
    "apply_2_training <- prep(lumping, training = ames_train) %>%\n",
    "bake(ames_train)\n",
    "# New distribution of Neighborhood\n",
    "count(apply_2_training, Neighborhood) %>% arrange(n)"
   ]
  },
  {
   "cell_type": "code",
   "execution_count": 26,
   "metadata": {},
   "outputs": [
    {
     "data": {
      "text/html": [
       "<table>\n",
       "<caption>A tibble: 2 × 2</caption>\n",
       "<thead>\n",
       "\t<tr><th scope=col>Screen_Porch</th><th scope=col>n</th></tr>\n",
       "\t<tr><th scope=col>&lt;fct&gt;</th><th scope=col>&lt;int&gt;</th></tr>\n",
       "</thead>\n",
       "<tbody>\n",
       "\t<tr><td>&gt;0</td><td> 174</td></tr>\n",
       "\t<tr><td>0 </td><td>1879</td></tr>\n",
       "</tbody>\n",
       "</table>\n"
      ],
      "text/latex": [
       "A tibble: 2 × 2\n",
       "\\begin{tabular}{ll}\n",
       " Screen\\_Porch & n\\\\\n",
       " <fct> & <int>\\\\\n",
       "\\hline\n",
       "\t >0 &  174\\\\\n",
       "\t 0  & 1879\\\\\n",
       "\\end{tabular}\n"
      ],
      "text/markdown": [
       "\n",
       "A tibble: 2 × 2\n",
       "\n",
       "| Screen_Porch &lt;fct&gt; | n &lt;int&gt; |\n",
       "|---|---|\n",
       "| &gt;0 |  174 |\n",
       "| 0  | 1879 |\n",
       "\n"
      ],
      "text/plain": [
       "  Screen_Porch n   \n",
       "1 >0            174\n",
       "2 0            1879"
      ]
     },
     "metadata": {},
     "output_type": "display_data"
    }
   ],
   "source": [
    "# New distribution of Screen_Porch\n",
    "count(apply_2_training, Screen_Porch) %>% arrange(n)"
   ]
  },
  {
   "cell_type": "code",
   "execution_count": 27,
   "metadata": {},
   "outputs": [
    {
     "data": {
      "text/plain": [
       "Data Recipe\n",
       "\n",
       "Inputs:\n",
       "\n",
       "      role #variables\n",
       "   outcome          1\n",
       " predictor         80\n",
       "\n",
       "Operations:\n",
       "\n",
       "Dummy variables from all_nominal()"
      ]
     },
     "metadata": {},
     "output_type": "display_data"
    }
   ],
   "source": [
    "# One-hot encoding\n",
    "# Lump levels for two features\n",
    "recipe(Sale_Price ~ ., data = ames_train) %>%\n",
    "step_dummy(all_nominal(), one_hot = TRUE)"
   ]
  },
  {
   "cell_type": "code",
   "execution_count": 28,
   "metadata": {},
   "outputs": [
    {
     "data": {
      "text/html": [
       "<table>\n",
       "<caption>A tibble: 16 × 2</caption>\n",
       "<thead>\n",
       "\t<tr><th scope=col>MS_SubClass</th><th scope=col>n</th></tr>\n",
       "\t<tr><th scope=col>&lt;chr&gt;</th><th scope=col>&lt;int&gt;</th></tr>\n",
       "</thead>\n",
       "<tbody>\n",
       "\t<tr><td>Duplex_All_Styles_and_Ages               </td><td> 66</td></tr>\n",
       "\t<tr><td>One_and_Half_Story_Finished_All_Ages     </td><td>211</td></tr>\n",
       "\t<tr><td>One_and_Half_Story_PUD_All_Ages          </td><td>  1</td></tr>\n",
       "\t<tr><td>One_and_Half_Story_Unfinished_All_Ages   </td><td> 11</td></tr>\n",
       "\t<tr><td>One_Story_1945_and_Older                 </td><td> 91</td></tr>\n",
       "\t<tr><td>One_Story_1946_and_Newer_All_Styles      </td><td>753</td></tr>\n",
       "\t<tr><td>One_Story_PUD_1946_and_Newer             </td><td>145</td></tr>\n",
       "\t<tr><td>One_Story_with_Finished_Attic_All_Ages   </td><td>  5</td></tr>\n",
       "\t<tr><td>PUD_Multilevel_Split_Level_Foyer         </td><td> 14</td></tr>\n",
       "\t<tr><td>Split_Foyer                              </td><td> 32</td></tr>\n",
       "\t<tr><td>Split_or_Multilevel                      </td><td> 75</td></tr>\n",
       "\t<tr><td>Two_and_Half_Story_All_Ages              </td><td> 17</td></tr>\n",
       "\t<tr><td>Two_Family_conversion_All_Styles_and_Ages</td><td> 43</td></tr>\n",
       "\t<tr><td>Two_Story_1945_and_Older                 </td><td> 98</td></tr>\n",
       "\t<tr><td>Two_Story_1946_and_Newer                 </td><td>395</td></tr>\n",
       "\t<tr><td>Two_Story_PUD_1946_and_Newer             </td><td> 96</td></tr>\n",
       "</tbody>\n",
       "</table>\n"
      ],
      "text/latex": [
       "A tibble: 16 × 2\n",
       "\\begin{tabular}{ll}\n",
       " MS\\_SubClass & n\\\\\n",
       " <chr> & <int>\\\\\n",
       "\\hline\n",
       "\t Duplex\\_All\\_Styles\\_and\\_Ages                &  66\\\\\n",
       "\t One\\_and\\_Half\\_Story\\_Finished\\_All\\_Ages      & 211\\\\\n",
       "\t One\\_and\\_Half\\_Story\\_PUD\\_All\\_Ages           &   1\\\\\n",
       "\t One\\_and\\_Half\\_Story\\_Unfinished\\_All\\_Ages    &  11\\\\\n",
       "\t One\\_Story\\_1945\\_and\\_Older                  &  91\\\\\n",
       "\t One\\_Story\\_1946\\_and\\_Newer\\_All\\_Styles       & 753\\\\\n",
       "\t One\\_Story\\_PUD\\_1946\\_and\\_Newer              & 145\\\\\n",
       "\t One\\_Story\\_with\\_Finished\\_Attic\\_All\\_Ages    &   5\\\\\n",
       "\t PUD\\_Multilevel\\_Split\\_Level\\_Foyer          &  14\\\\\n",
       "\t Split\\_Foyer                               &  32\\\\\n",
       "\t Split\\_or\\_Multilevel                       &  75\\\\\n",
       "\t Two\\_and\\_Half\\_Story\\_All\\_Ages               &  17\\\\\n",
       "\t Two\\_Family\\_conversion\\_All\\_Styles\\_and\\_Ages &  43\\\\\n",
       "\t Two\\_Story\\_1945\\_and\\_Older                  &  98\\\\\n",
       "\t Two\\_Story\\_1946\\_and\\_Newer                  & 395\\\\\n",
       "\t Two\\_Story\\_PUD\\_1946\\_and\\_Newer              &  96\\\\\n",
       "\\end{tabular}\n"
      ],
      "text/markdown": [
       "\n",
       "A tibble: 16 × 2\n",
       "\n",
       "| MS_SubClass &lt;chr&gt; | n &lt;int&gt; |\n",
       "|---|---|\n",
       "| Duplex_All_Styles_and_Ages                |  66 |\n",
       "| One_and_Half_Story_Finished_All_Ages      | 211 |\n",
       "| One_and_Half_Story_PUD_All_Ages           |   1 |\n",
       "| One_and_Half_Story_Unfinished_All_Ages    |  11 |\n",
       "| One_Story_1945_and_Older                  |  91 |\n",
       "| One_Story_1946_and_Newer_All_Styles       | 753 |\n",
       "| One_Story_PUD_1946_and_Newer              | 145 |\n",
       "| One_Story_with_Finished_Attic_All_Ages    |   5 |\n",
       "| PUD_Multilevel_Split_Level_Foyer          |  14 |\n",
       "| Split_Foyer                               |  32 |\n",
       "| Split_or_Multilevel                       |  75 |\n",
       "| Two_and_Half_Story_All_Ages               |  17 |\n",
       "| Two_Family_conversion_All_Styles_and_Ages |  43 |\n",
       "| Two_Story_1945_and_Older                  |  98 |\n",
       "| Two_Story_1946_and_Newer                  | 395 |\n",
       "| Two_Story_PUD_1946_and_Newer              |  96 |\n",
       "\n"
      ],
      "text/plain": [
       "   MS_SubClass                               n  \n",
       "1  Duplex_All_Styles_and_Ages                 66\n",
       "2  One_and_Half_Story_Finished_All_Ages      211\n",
       "3  One_and_Half_Story_PUD_All_Ages             1\n",
       "4  One_and_Half_Story_Unfinished_All_Ages     11\n",
       "5  One_Story_1945_and_Older                   91\n",
       "6  One_Story_1946_and_Newer_All_Styles       753\n",
       "7  One_Story_PUD_1946_and_Newer              145\n",
       "8  One_Story_with_Finished_Attic_All_Ages      5\n",
       "9  PUD_Multilevel_Split_Level_Foyer           14\n",
       "10 Split_Foyer                                32\n",
       "11 Split_or_Multilevel                        75\n",
       "12 Two_and_Half_Story_All_Ages                17\n",
       "13 Two_Family_conversion_All_Styles_and_Ages  43\n",
       "14 Two_Story_1945_and_Older                   98\n",
       "15 Two_Story_1946_and_Newer                  395\n",
       "16 Two_Story_PUD_1946_and_Newer               96"
      ]
     },
     "metadata": {},
     "output_type": "display_data"
    }
   ],
   "source": [
    "# Original categories\n",
    "count(ames_train, MS_SubClass)"
   ]
  },
  {
   "cell_type": "code",
   "execution_count": 29,
   "metadata": {},
   "outputs": [
    {
     "data": {
      "text/html": [
       "<table>\n",
       "<caption>A tibble: 16 × 2</caption>\n",
       "<thead>\n",
       "\t<tr><th scope=col>MS_SubClass</th><th scope=col>n</th></tr>\n",
       "\t<tr><th scope=col>&lt;dbl&gt;</th><th scope=col>&lt;int&gt;</th></tr>\n",
       "</thead>\n",
       "<tbody>\n",
       "\t<tr><td> 1</td><td> 66</td></tr>\n",
       "\t<tr><td> 2</td><td>211</td></tr>\n",
       "\t<tr><td> 3</td><td>  1</td></tr>\n",
       "\t<tr><td> 4</td><td> 11</td></tr>\n",
       "\t<tr><td> 5</td><td> 91</td></tr>\n",
       "\t<tr><td> 6</td><td>753</td></tr>\n",
       "\t<tr><td> 7</td><td>145</td></tr>\n",
       "\t<tr><td> 8</td><td>  5</td></tr>\n",
       "\t<tr><td> 9</td><td> 14</td></tr>\n",
       "\t<tr><td>10</td><td> 32</td></tr>\n",
       "\t<tr><td>11</td><td> 75</td></tr>\n",
       "\t<tr><td>12</td><td> 17</td></tr>\n",
       "\t<tr><td>13</td><td> 43</td></tr>\n",
       "\t<tr><td>14</td><td> 98</td></tr>\n",
       "\t<tr><td>15</td><td>395</td></tr>\n",
       "\t<tr><td>16</td><td> 96</td></tr>\n",
       "</tbody>\n",
       "</table>\n"
      ],
      "text/latex": [
       "A tibble: 16 × 2\n",
       "\\begin{tabular}{ll}\n",
       " MS\\_SubClass & n\\\\\n",
       " <dbl> & <int>\\\\\n",
       "\\hline\n",
       "\t  1 &  66\\\\\n",
       "\t  2 & 211\\\\\n",
       "\t  3 &   1\\\\\n",
       "\t  4 &  11\\\\\n",
       "\t  5 &  91\\\\\n",
       "\t  6 & 753\\\\\n",
       "\t  7 & 145\\\\\n",
       "\t  8 &   5\\\\\n",
       "\t  9 &  14\\\\\n",
       "\t 10 &  32\\\\\n",
       "\t 11 &  75\\\\\n",
       "\t 12 &  17\\\\\n",
       "\t 13 &  43\\\\\n",
       "\t 14 &  98\\\\\n",
       "\t 15 & 395\\\\\n",
       "\t 16 &  96\\\\\n",
       "\\end{tabular}\n"
      ],
      "text/markdown": [
       "\n",
       "A tibble: 16 × 2\n",
       "\n",
       "| MS_SubClass &lt;dbl&gt; | n &lt;int&gt; |\n",
       "|---|---|\n",
       "|  1 |  66 |\n",
       "|  2 | 211 |\n",
       "|  3 |   1 |\n",
       "|  4 |  11 |\n",
       "|  5 |  91 |\n",
       "|  6 | 753 |\n",
       "|  7 | 145 |\n",
       "|  8 |   5 |\n",
       "|  9 |  14 |\n",
       "| 10 |  32 |\n",
       "| 11 |  75 |\n",
       "| 12 |  17 |\n",
       "| 13 |  43 |\n",
       "| 14 |  98 |\n",
       "| 15 | 395 |\n",
       "| 16 |  96 |\n",
       "\n"
      ],
      "text/plain": [
       "   MS_SubClass n  \n",
       "1   1           66\n",
       "2   2          211\n",
       "3   3            1\n",
       "4   4           11\n",
       "5   5           91\n",
       "6   6          753\n",
       "7   7          145\n",
       "8   8            5\n",
       "9   9           14\n",
       "10 10           32\n",
       "11 11           75\n",
       "12 12           17\n",
       "13 13           43\n",
       "14 14           98\n",
       "15 15          395\n",
       "16 16           96"
      ]
     },
     "metadata": {},
     "output_type": "display_data"
    }
   ],
   "source": [
    "recipe(Sale_Price ~ ., data = ames_train) %>%\n",
    "step_integer(MS_SubClass) %>%\n",
    "prep(ames_train) %>%\n",
    "bake(ames_train) %>%\n",
    "count(MS_SubClass)"
   ]
  },
  {
   "cell_type": "code",
   "execution_count": 30,
   "metadata": {},
   "outputs": [
    {
     "data": {
      "text/html": [
       "<table>\n",
       "<caption>A tibble: 10 × 2</caption>\n",
       "<thead>\n",
       "\t<tr><th scope=col>Overall_Qual</th><th scope=col>n</th></tr>\n",
       "\t<tr><th scope=col>&lt;dbl&gt;</th><th scope=col>&lt;int&gt;</th></tr>\n",
       "</thead>\n",
       "<tbody>\n",
       "\t<tr><td> 1</td><td>511</td></tr>\n",
       "\t<tr><td> 2</td><td>564</td></tr>\n",
       "\t<tr><td> 3</td><td>170</td></tr>\n",
       "\t<tr><td> 4</td><td> 77</td></tr>\n",
       "\t<tr><td> 5</td><td> 26</td></tr>\n",
       "\t<tr><td> 6</td><td>439</td></tr>\n",
       "\t<tr><td> 7</td><td>  8</td></tr>\n",
       "\t<tr><td> 8</td><td> 23</td></tr>\n",
       "\t<tr><td> 9</td><td>231</td></tr>\n",
       "\t<tr><td>10</td><td>  4</td></tr>\n",
       "</tbody>\n",
       "</table>\n"
      ],
      "text/latex": [
       "A tibble: 10 × 2\n",
       "\\begin{tabular}{ll}\n",
       " Overall\\_Qual & n\\\\\n",
       " <dbl> & <int>\\\\\n",
       "\\hline\n",
       "\t  1 & 511\\\\\n",
       "\t  2 & 564\\\\\n",
       "\t  3 & 170\\\\\n",
       "\t  4 &  77\\\\\n",
       "\t  5 &  26\\\\\n",
       "\t  6 & 439\\\\\n",
       "\t  7 &   8\\\\\n",
       "\t  8 &  23\\\\\n",
       "\t  9 & 231\\\\\n",
       "\t 10 &   4\\\\\n",
       "\\end{tabular}\n"
      ],
      "text/markdown": [
       "\n",
       "A tibble: 10 × 2\n",
       "\n",
       "| Overall_Qual &lt;dbl&gt; | n &lt;int&gt; |\n",
       "|---|---|\n",
       "|  1 | 511 |\n",
       "|  2 | 564 |\n",
       "|  3 | 170 |\n",
       "|  4 |  77 |\n",
       "|  5 |  26 |\n",
       "|  6 | 439 |\n",
       "|  7 |   8 |\n",
       "|  8 |  23 |\n",
       "|  9 | 231 |\n",
       "| 10 |   4 |\n",
       "\n"
      ],
      "text/plain": [
       "   Overall_Qual n  \n",
       "1   1           511\n",
       "2   2           564\n",
       "3   3           170\n",
       "4   4            77\n",
       "5   5            26\n",
       "6   6           439\n",
       "7   7             8\n",
       "8   8            23\n",
       "9   9           231\n",
       "10 10             4"
      ]
     },
     "metadata": {},
     "output_type": "display_data"
    }
   ],
   "source": [
    "# Label encoded\n",
    "recipe(Sale_Price ~ ., data = ames_train) %>%\n",
    "step_integer(Overall_Qual) %>%\n",
    "prep(ames_train) %>%\n",
    "bake(ames_train) %>%\n",
    "count(Overall_Qual)"
   ]
  },
  {
   "cell_type": "code",
   "execution_count": 31,
   "metadata": {},
   "outputs": [
    {
     "data": {
      "text/plain": [
       "Data Recipe\n",
       "\n",
       "Inputs:\n",
       "\n",
       "      role #variables\n",
       "   outcome          1\n",
       " predictor         80\n",
       "\n",
       "Operations:\n",
       "\n",
       "Centering for all_numeric()\n",
       "Scaling for all_numeric()\n",
       "No PCA components were extracted."
      ]
     },
     "metadata": {},
     "output_type": "display_data"
    }
   ],
   "source": [
    "# PCA and retain 95% of the variance w\n",
    "# the components\n",
    "\n",
    "recipe(Sale_Price ~ ., data = ames_train) %>%\n",
    "step_center(all_numeric()) %>%\n",
    "step_scale(all_numeric()) %>%\n",
    "step_pca(all_numeric(), threshold = .95)"
   ]
  },
  {
   "cell_type": "code",
   "execution_count": null,
   "metadata": {},
   "outputs": [],
   "source": [
    "# left off p 94"
   ]
  }
 ],
 "metadata": {
  "kernelspec": {
   "display_name": "R",
   "language": "R",
   "name": "ir"
  },
  "language_info": {
   "codemirror_mode": "r",
   "file_extension": ".r",
   "mimetype": "text/x-r-source",
   "name": "R",
   "pygments_lexer": "r",
   "version": "4.0.2"
  }
 },
 "nbformat": 4,
 "nbformat_minor": 4
}
